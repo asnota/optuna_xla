{
  "nbformat": 4,
  "nbformat_minor": 0,
  "metadata": {
    "colab": {
      "provenance": []
    },
    "kernelspec": {
      "name": "python3",
      "display_name": "Python 3"
    },
    "language_info": {
      "name": "python"
    }
  },
  "cells": [
    {
      "cell_type": "markdown",
      "metadata": {
        "id": "XcdkxCPUeX_b"
      },
      "source": [
        "# Optuna simple"
      ]
    },
    {
      "cell_type": "code",
      "metadata": {
        "id": "MCHzWX7MeFqG",
        "colab": {
          "base_uri": "https://localhost:8080/"
        },
        "outputId": "e7ea8603-ffb9-4b09-ea65-ced796c9f183"
      },
      "source": [
        "%pip install optuna"
      ],
      "execution_count": 1,
      "outputs": [
        {
          "output_type": "stream",
          "name": "stdout",
          "text": [
            "Collecting optuna\n",
            "  Downloading optuna-3.3.0-py3-none-any.whl (404 kB)\n",
            "\u001b[2K     \u001b[90m━━━━━━━━━━━━━━━━━━━━━━━━━━━━━━━━━━━━━━━\u001b[0m \u001b[32m404.2/404.2 kB\u001b[0m \u001b[31m4.9 MB/s\u001b[0m eta \u001b[36m0:00:00\u001b[0m\n",
            "\u001b[?25hCollecting alembic>=1.5.0 (from optuna)\n",
            "  Downloading alembic-1.12.0-py3-none-any.whl (226 kB)\n",
            "\u001b[2K     \u001b[90m━━━━━━━━━━━━━━━━━━━━━━━━━━━━━━━━━━━━━━━\u001b[0m \u001b[32m226.0/226.0 kB\u001b[0m \u001b[31m9.6 MB/s\u001b[0m eta \u001b[36m0:00:00\u001b[0m\n",
            "\u001b[?25hCollecting cmaes>=0.10.0 (from optuna)\n",
            "  Downloading cmaes-0.10.0-py3-none-any.whl (29 kB)\n",
            "Collecting colorlog (from optuna)\n",
            "  Downloading colorlog-6.7.0-py2.py3-none-any.whl (11 kB)\n",
            "Requirement already satisfied: numpy in /usr/local/lib/python3.10/dist-packages (from optuna) (1.23.5)\n",
            "Requirement already satisfied: packaging>=20.0 in /usr/local/lib/python3.10/dist-packages (from optuna) (23.1)\n",
            "Requirement already satisfied: sqlalchemy>=1.3.0 in /usr/local/lib/python3.10/dist-packages (from optuna) (2.0.20)\n",
            "Requirement already satisfied: tqdm in /usr/local/lib/python3.10/dist-packages (from optuna) (4.66.1)\n",
            "Requirement already satisfied: PyYAML in /usr/local/lib/python3.10/dist-packages (from optuna) (6.0.1)\n",
            "Collecting Mako (from alembic>=1.5.0->optuna)\n",
            "  Downloading Mako-1.2.4-py3-none-any.whl (78 kB)\n",
            "\u001b[2K     \u001b[90m━━━━━━━━━━━━━━━━━━━━━━━━━━━━━━━━━━━━━━━━\u001b[0m \u001b[32m78.7/78.7 kB\u001b[0m \u001b[31m7.6 MB/s\u001b[0m eta \u001b[36m0:00:00\u001b[0m\n",
            "\u001b[?25hRequirement already satisfied: typing-extensions>=4 in /usr/local/lib/python3.10/dist-packages (from alembic>=1.5.0->optuna) (4.7.1)\n",
            "Requirement already satisfied: greenlet!=0.4.17 in /usr/local/lib/python3.10/dist-packages (from sqlalchemy>=1.3.0->optuna) (2.0.2)\n",
            "Requirement already satisfied: MarkupSafe>=0.9.2 in /usr/local/lib/python3.10/dist-packages (from Mako->alembic>=1.5.0->optuna) (2.1.3)\n",
            "Installing collected packages: Mako, colorlog, cmaes, alembic, optuna\n",
            "Successfully installed Mako-1.2.4 alembic-1.12.0 cmaes-0.10.0 colorlog-6.7.0 optuna-3.3.0\n"
          ]
        }
      ]
    },
    {
      "cell_type": "code",
      "metadata": {
        "id": "EskBAcpNeXea"
      },
      "source": [
        "# https://optuna.org/\n",
        "import optuna"
      ],
      "execution_count": 2,
      "outputs": []
    },
    {
      "cell_type": "code",
      "metadata": {
        "id": "g0qiRoiogFY9"
      },
      "source": [
        "def objective(trial):\n",
        "\n",
        "   x = trial.suggest_uniform('x', -10, 10)\n",
        "   return (x - 2) ** 2"
      ],
      "execution_count": 3,
      "outputs": []
    },
    {
      "cell_type": "code",
      "metadata": {
        "colab": {
          "base_uri": "https://localhost:8080/"
        },
        "id": "TG9m6xELgUVb",
        "outputId": "34551b9e-5281-4384-909c-c557ee88c7d4"
      },
      "source": [
        "study = optuna.create_study()\n",
        "study.optimize(objective, n_trials=5)\n",
        "study.best_params"
      ],
      "execution_count": 4,
      "outputs": [
        {
          "output_type": "stream",
          "name": "stderr",
          "text": [
            "[I 2023-09-01 16:03:37,341] A new study created in memory with name: no-name-a14835d5-f58e-44bf-8620-17716f9a0d6a\n",
            "<ipython-input-3-5829568bc014>:3: FutureWarning: suggest_uniform has been deprecated in v3.0.0. This feature will be removed in v6.0.0. See https://github.com/optuna/optuna/releases/tag/v3.0.0. Use suggest_float instead.\n",
            "  x = trial.suggest_uniform('x', -10, 10)\n",
            "[I 2023-09-01 16:03:37,347] Trial 0 finished with value: 2.4666652511407507 and parameters: {'x': 0.42943791872439796}. Best is trial 0 with value: 2.4666652511407507.\n",
            "[I 2023-09-01 16:03:37,356] Trial 1 finished with value: 31.41621483711224 and parameters: {'x': -3.6050169345963834}. Best is trial 0 with value: 2.4666652511407507.\n",
            "[I 2023-09-01 16:03:37,359] Trial 2 finished with value: 22.990428110763123 and parameters: {'x': -2.794833481025501}. Best is trial 0 with value: 2.4666652511407507.\n",
            "[I 2023-09-01 16:03:37,361] Trial 3 finished with value: 4.611669003167927 and parameters: {'x': 4.147479686322534}. Best is trial 0 with value: 2.4666652511407507.\n",
            "[I 2023-09-01 16:03:37,363] Trial 4 finished with value: 90.55122797552917 and parameters: {'x': -7.515840896921784}. Best is trial 0 with value: 2.4666652511407507.\n"
          ]
        },
        {
          "output_type": "execute_result",
          "data": {
            "text/plain": [
              "{'x': 0.42943791872439796}"
            ]
          },
          "metadata": {},
          "execution_count": 4
        }
      ]
    },
    {
      "cell_type": "markdown",
      "metadata": {
        "id": "wsTwoJrhFciD"
      },
      "source": [
        "# Optuna advanced\n",
        "### taken from https://github.com/optuna/optuna/blob/master/examples/pytorch/pytorch_simple.py"
      ]
    },
    {
      "cell_type": "markdown",
      "metadata": {
        "id": "ttfGmNL9FlTK"
      },
      "source": [
        "## Imports and params"
      ]
    },
    {
      "cell_type": "code",
      "metadata": {
        "id": "BprU_hWtqc5v"
      },
      "source": [
        "import os\n",
        "\n",
        "import torch\n",
        "import torch.nn as nn\n",
        "import torch.nn.functional as F\n",
        "import torch.optim as optim\n",
        "import torch.utils.data\n",
        "from torchvision import datasets\n",
        "from torchvision import transforms\n",
        "\n",
        "import optuna\n",
        "from optuna.trial import TrialState\n",
        "\n",
        "DEVICE = torch.device(\"cpu\")\n",
        "BATCHSIZE = 128\n",
        "CLASSES = 10\n",
        "DIR = os.getcwd()\n",
        "EPOCHS = 10\n",
        "LOG_INTERVAL = 10\n",
        "N_TRAIN_EXAMPLES = BATCHSIZE * 30\n",
        "N_VALID_EXAMPLES = BATCHSIZE * 10"
      ],
      "execution_count": 5,
      "outputs": []
    },
    {
      "cell_type": "markdown",
      "metadata": {
        "id": "1msp53NnFpUc"
      },
      "source": [
        "## Layers & dropout optimization"
      ]
    },
    {
      "cell_type": "code",
      "metadata": {
        "id": "ZWn6UvU0GLAC"
      },
      "source": [
        "def define_model(trial):\n",
        "    # We optimize the number of layers, hidden units and dropout ratio in each layer.\n",
        "    n_layers = trial.suggest_int(\"n_layers\", 1, 3)\n",
        "    layers = []\n",
        "\n",
        "    in_features = 28 * 28\n",
        "    for i in range(n_layers):\n",
        "        out_features = trial.suggest_int(\"n_units_l{}\".format(i), 4, 128)\n",
        "        layers.append(nn.Linear(in_features, out_features))\n",
        "        layers.append(nn.ReLU())\n",
        "        p = trial.suggest_float(\"dropout_l{}\".format(i), 0.2, 0.5)\n",
        "        layers.append(nn.Dropout(p))\n",
        "\n",
        "        in_features = out_features\n",
        "    layers.append(nn.Linear(in_features, CLASSES))\n",
        "    layers.append(nn.LogSoftmax(dim=1))\n",
        "\n",
        "    return nn.Sequential(*layers)"
      ],
      "execution_count": 6,
      "outputs": []
    },
    {
      "cell_type": "markdown",
      "metadata": {
        "id": "rtguKB-2GZm7"
      },
      "source": [
        "## Dataset"
      ]
    },
    {
      "cell_type": "code",
      "metadata": {
        "id": "_8XzErXkGeZT"
      },
      "source": [
        "def get_mnist():\n",
        "    # Load FashionMNIST dataset.\n",
        "    train_loader = torch.utils.data.DataLoader(\n",
        "        datasets.FashionMNIST(DIR, train=True, download=True, transform=transforms.ToTensor()),\n",
        "        batch_size=BATCHSIZE,\n",
        "        shuffle=True,\n",
        "    )\n",
        "    valid_loader = torch.utils.data.DataLoader(\n",
        "        datasets.FashionMNIST(DIR, train=False, transform=transforms.ToTensor()),\n",
        "        batch_size=BATCHSIZE,\n",
        "        shuffle=True,\n",
        "    )\n",
        "\n",
        "    return train_loader, valid_loader"
      ],
      "execution_count": 7,
      "outputs": []
    },
    {
      "cell_type": "code",
      "metadata": {
        "id": "JxnOoXiHGmFT"
      },
      "source": [
        "def objective(trial):\n",
        "\n",
        "    # Generate the model.\n",
        "    model = define_model(trial).to(DEVICE)\n",
        "\n",
        "    # Generate the optimizers.\n",
        "    optimizer_name = trial.suggest_categorical(\"optimizer\", [\"Adam\", \"RMSprop\", \"SGD\"])\n",
        "    lr = trial.suggest_float(\"lr\", 1e-5, 1e-1, log=True)\n",
        "    optimizer = getattr(optim, optimizer_name)(model.parameters(), lr=lr)\n",
        "\n",
        "    # Get the FashionMNIST dataset.\n",
        "    train_loader, valid_loader = get_mnist()\n",
        "\n",
        "    # Training of the model.\n",
        "    for epoch in range(EPOCHS):\n",
        "        model.train()\n",
        "        for batch_idx, (data, target) in enumerate(train_loader):\n",
        "            # Limiting training data for faster epochs.\n",
        "            if batch_idx * BATCHSIZE >= N_TRAIN_EXAMPLES:\n",
        "                break\n",
        "\n",
        "            data, target = data.view(data.size(0), -1).to(DEVICE), target.to(DEVICE)\n",
        "\n",
        "            optimizer.zero_grad()\n",
        "            output = model(data)\n",
        "            loss = F.nll_loss(output, target)\n",
        "            loss.backward()\n",
        "            optimizer.step()\n",
        "\n",
        "        # Validation of the model.\n",
        "        model.eval()\n",
        "        correct = 0\n",
        "        with torch.no_grad():\n",
        "            for batch_idx, (data, target) in enumerate(valid_loader):\n",
        "                # Limiting validation data.\n",
        "                if batch_idx * BATCHSIZE >= N_VALID_EXAMPLES:\n",
        "                    break\n",
        "                data, target = data.view(data.size(0), -1).to(DEVICE), target.to(DEVICE)\n",
        "                output = model(data)\n",
        "                # Get the index of the max log-probability.\n",
        "                pred = output.argmax(dim=1, keepdim=True)\n",
        "                correct += pred.eq(target.view_as(pred)).sum().item()\n",
        "\n",
        "        accuracy = correct / min(len(valid_loader.dataset), N_VALID_EXAMPLES)\n",
        "\n",
        "        trial.report(accuracy, epoch)\n",
        "\n",
        "        # Handle pruning based on the intermediate value.\n",
        "        if trial.should_prune():\n",
        "            raise optuna.exceptions.TrialPruned()\n",
        "\n",
        "    return accuracy\n"
      ],
      "execution_count": 8,
      "outputs": []
    },
    {
      "cell_type": "code",
      "metadata": {
        "colab": {
          "base_uri": "https://localhost:8080/"
        },
        "id": "UpHfR4GRG7h9",
        "outputId": "82292b66-8ae0-4136-d784-155ee666c8a4"
      },
      "source": [
        "study = optuna.create_study(direction=\"maximize\")\n",
        "study.optimize(objective, n_trials=100, timeout=600)\n",
        "\n",
        "pruned_trials = study.get_trials(deepcopy=False, states=[TrialState.PRUNED])\n",
        "complete_trials = study.get_trials(deepcopy=False, states=[TrialState.COMPLETE])\n",
        "\n",
        "print(\"Study statistics: \")\n",
        "print(\"  Number of finished trials: \", len(study.trials))\n",
        "print(\"  Number of pruned trials: \", len(pruned_trials))\n",
        "print(\"  Number of complete trials: \", len(complete_trials))\n",
        "\n",
        "print(\"Best trial:\")\n",
        "trial = study.best_trial\n",
        "\n",
        "print(\"  Value: \", trial.value)\n",
        "\n",
        "print(\"  Params: \")\n",
        "for key, value in trial.params.items():\n",
        "  print(\"    {}: {}\".format(key, value))"
      ],
      "execution_count": 9,
      "outputs": [
        {
          "output_type": "stream",
          "name": "stderr",
          "text": [
            "[I 2023-09-01 16:04:11,216] A new study created in memory with name: no-name-a13838c0-618a-4270-b9d3-ae1a74b68922\n"
          ]
        },
        {
          "output_type": "stream",
          "name": "stdout",
          "text": [
            "Downloading http://fashion-mnist.s3-website.eu-central-1.amazonaws.com/train-images-idx3-ubyte.gz\n",
            "Downloading http://fashion-mnist.s3-website.eu-central-1.amazonaws.com/train-images-idx3-ubyte.gz to /content/FashionMNIST/raw/train-images-idx3-ubyte.gz\n"
          ]
        },
        {
          "output_type": "stream",
          "name": "stderr",
          "text": [
            "100%|██████████| 26421880/26421880 [00:01<00:00, 17202107.78it/s]\n"
          ]
        },
        {
          "output_type": "stream",
          "name": "stdout",
          "text": [
            "Extracting /content/FashionMNIST/raw/train-images-idx3-ubyte.gz to /content/FashionMNIST/raw\n",
            "\n",
            "Downloading http://fashion-mnist.s3-website.eu-central-1.amazonaws.com/train-labels-idx1-ubyte.gz\n",
            "Downloading http://fashion-mnist.s3-website.eu-central-1.amazonaws.com/train-labels-idx1-ubyte.gz to /content/FashionMNIST/raw/train-labels-idx1-ubyte.gz\n"
          ]
        },
        {
          "output_type": "stream",
          "name": "stderr",
          "text": [
            "100%|██████████| 29515/29515 [00:00<00:00, 300684.66it/s]\n"
          ]
        },
        {
          "output_type": "stream",
          "name": "stdout",
          "text": [
            "Extracting /content/FashionMNIST/raw/train-labels-idx1-ubyte.gz to /content/FashionMNIST/raw\n",
            "\n",
            "Downloading http://fashion-mnist.s3-website.eu-central-1.amazonaws.com/t10k-images-idx3-ubyte.gz\n",
            "Downloading http://fashion-mnist.s3-website.eu-central-1.amazonaws.com/t10k-images-idx3-ubyte.gz to /content/FashionMNIST/raw/t10k-images-idx3-ubyte.gz\n"
          ]
        },
        {
          "output_type": "stream",
          "name": "stderr",
          "text": [
            "100%|██████████| 4422102/4422102 [00:00<00:00, 5519091.23it/s]\n"
          ]
        },
        {
          "output_type": "stream",
          "name": "stdout",
          "text": [
            "Extracting /content/FashionMNIST/raw/t10k-images-idx3-ubyte.gz to /content/FashionMNIST/raw\n",
            "\n",
            "Downloading http://fashion-mnist.s3-website.eu-central-1.amazonaws.com/t10k-labels-idx1-ubyte.gz\n",
            "Downloading http://fashion-mnist.s3-website.eu-central-1.amazonaws.com/t10k-labels-idx1-ubyte.gz to /content/FashionMNIST/raw/t10k-labels-idx1-ubyte.gz\n"
          ]
        },
        {
          "output_type": "stream",
          "name": "stderr",
          "text": [
            "100%|██████████| 5148/5148 [00:00<00:00, 17713106.64it/s]\n"
          ]
        },
        {
          "output_type": "stream",
          "name": "stdout",
          "text": [
            "Extracting /content/FashionMNIST/raw/t10k-labels-idx1-ubyte.gz to /content/FashionMNIST/raw\n",
            "\n"
          ]
        },
        {
          "output_type": "stream",
          "name": "stderr",
          "text": [
            "[I 2023-09-01 16:04:24,903] Trial 0 finished with value: 0.79140625 and parameters: {'n_layers': 3, 'n_units_l0': 119, 'dropout_l0': 0.3215310431200013, 'n_units_l1': 87, 'dropout_l1': 0.36561960364472884, 'n_units_l2': 120, 'dropout_l2': 0.2324700714598736, 'optimizer': 'Adam', 'lr': 0.011309192760152936}. Best is trial 0 with value: 0.79140625.\n",
            "[I 2023-09-01 16:04:33,224] Trial 1 finished with value: 0.11015625 and parameters: {'n_layers': 2, 'n_units_l0': 118, 'dropout_l0': 0.3871247141259224, 'n_units_l1': 44, 'dropout_l1': 0.38128212956858676, 'optimizer': 'SGD', 'lr': 2.6955510999228292e-05}. Best is trial 0 with value: 0.79140625.\n",
            "[I 2023-09-01 16:04:40,595] Trial 2 finished with value: 0.45 and parameters: {'n_layers': 3, 'n_units_l0': 42, 'dropout_l0': 0.2495440686916282, 'n_units_l1': 108, 'dropout_l1': 0.47272209706183776, 'n_units_l2': 26, 'dropout_l2': 0.2032251556240097, 'optimizer': 'RMSprop', 'lr': 8.343541211125262e-05}. Best is trial 0 with value: 0.79140625.\n",
            "[I 2023-09-01 16:04:48,665] Trial 3 finished with value: 0.0828125 and parameters: {'n_layers': 3, 'n_units_l0': 108, 'dropout_l0': 0.4627762008885499, 'n_units_l1': 17, 'dropout_l1': 0.44785457401107054, 'n_units_l2': 96, 'dropout_l2': 0.32745030475225645, 'optimizer': 'SGD', 'lr': 0.0003330825722894724}. Best is trial 0 with value: 0.79140625.\n",
            "[I 2023-09-01 16:04:56,352] Trial 4 finished with value: 0.225 and parameters: {'n_layers': 3, 'n_units_l0': 82, 'dropout_l0': 0.4823792027941526, 'n_units_l1': 110, 'dropout_l1': 0.3755280395003752, 'n_units_l2': 114, 'dropout_l2': 0.4883155084056108, 'optimizer': 'SGD', 'lr': 0.018061671796987977}. Best is trial 0 with value: 0.79140625.\n",
            "[I 2023-09-01 16:05:03,503] Trial 5 finished with value: 0.65 and parameters: {'n_layers': 3, 'n_units_l0': 53, 'dropout_l0': 0.33759347151285085, 'n_units_l1': 27, 'dropout_l1': 0.4789368542867969, 'n_units_l2': 58, 'dropout_l2': 0.47135663236860803, 'optimizer': 'SGD', 'lr': 0.09086895002998287}. Best is trial 0 with value: 0.79140625.\n",
            "[I 2023-09-01 16:05:04,258] Trial 6 pruned. \n",
            "[I 2023-09-01 16:05:12,448] Trial 7 finished with value: 0.46875 and parameters: {'n_layers': 2, 'n_units_l0': 124, 'dropout_l0': 0.43644938762691055, 'n_units_l1': 78, 'dropout_l1': 0.35202327407753276, 'optimizer': 'RMSprop', 'lr': 1.2905698879580504e-05}. Best is trial 0 with value: 0.79140625.\n",
            "[I 2023-09-01 16:05:19,645] Trial 8 finished with value: 0.7640625 and parameters: {'n_layers': 3, 'n_units_l0': 102, 'dropout_l0': 0.3361732347526383, 'n_units_l1': 20, 'dropout_l1': 0.2912446221377282, 'n_units_l2': 53, 'dropout_l2': 0.4394899360744915, 'optimizer': 'RMSprop', 'lr': 0.0015056782031403013}. Best is trial 0 with value: 0.79140625.\n",
            "[I 2023-09-01 16:05:20,655] Trial 9 pruned. \n",
            "[I 2023-09-01 16:05:28,173] Trial 10 finished with value: 0.7953125 and parameters: {'n_layers': 1, 'n_units_l0': 13, 'dropout_l0': 0.20648036814961288, 'optimizer': 'Adam', 'lr': 0.005176062278012314}. Best is trial 10 with value: 0.7953125.\n",
            "[I 2023-09-01 16:05:35,835] Trial 11 finished with value: 0.70234375 and parameters: {'n_layers': 1, 'n_units_l0': 7, 'dropout_l0': 0.2078938739648143, 'optimizer': 'Adam', 'lr': 0.005134515303648322}. Best is trial 10 with value: 0.7953125.\n",
            "[I 2023-09-01 16:05:42,497] Trial 12 finished with value: 0.74765625 and parameters: {'n_layers': 1, 'n_units_l0': 7, 'dropout_l0': 0.27969174606558056, 'optimizer': 'Adam', 'lr': 0.005255056015194876}. Best is trial 10 with value: 0.7953125.\n",
            "[I 2023-09-01 16:05:50,590] Trial 13 finished with value: 0.83046875 and parameters: {'n_layers': 1, 'n_units_l0': 71, 'dropout_l0': 0.2004356353202247, 'optimizer': 'Adam', 'lr': 0.005789947273821288}. Best is trial 13 with value: 0.83046875.\n",
            "[I 2023-09-01 16:05:57,602] Trial 14 finished with value: 0.8234375 and parameters: {'n_layers': 1, 'n_units_l0': 70, 'dropout_l0': 0.21117949344833087, 'optimizer': 'Adam', 'lr': 0.0016747093745763642}. Best is trial 13 with value: 0.83046875.\n",
            "[I 2023-09-01 16:06:05,588] Trial 15 finished with value: 0.809375 and parameters: {'n_layers': 1, 'n_units_l0': 69, 'dropout_l0': 0.24661395370770534, 'optimizer': 'Adam', 'lr': 0.0010347121109355187}. Best is trial 13 with value: 0.83046875.\n",
            "[I 2023-09-01 16:06:13,255] Trial 16 finished with value: 0.784375 and parameters: {'n_layers': 1, 'n_units_l0': 62, 'dropout_l0': 0.28697735319425255, 'optimizer': 'Adam', 'lr': 0.000626538342805103}. Best is trial 13 with value: 0.83046875.\n",
            "[I 2023-09-01 16:06:20,795] Trial 17 finished with value: 0.83828125 and parameters: {'n_layers': 1, 'n_units_l0': 89, 'dropout_l0': 0.20506303086498973, 'optimizer': 'Adam', 'lr': 0.002268103630165969}. Best is trial 17 with value: 0.83828125.\n",
            "[I 2023-09-01 16:06:21,588] Trial 18 pruned. \n",
            "[I 2023-09-01 16:06:22,402] Trial 19 pruned. \n",
            "[I 2023-09-01 16:06:24,869] Trial 20 pruned. \n",
            "[I 2023-09-01 16:06:32,625] Trial 21 finished with value: 0.8171875 and parameters: {'n_layers': 1, 'n_units_l0': 73, 'dropout_l0': 0.20615722318921326, 'optimizer': 'Adam', 'lr': 0.0013983092163599514}. Best is trial 17 with value: 0.83828125.\n",
            "[I 2023-09-01 16:06:40,673] Trial 22 finished with value: 0.8296875 and parameters: {'n_layers': 1, 'n_units_l0': 79, 'dropout_l0': 0.22575782105067235, 'optimizer': 'Adam', 'lr': 0.0025460605966166026}. Best is trial 17 with value: 0.83828125.\n",
            "[I 2023-09-01 16:06:47,851] Trial 23 finished with value: 0.8296875 and parameters: {'n_layers': 1, 'n_units_l0': 82, 'dropout_l0': 0.23286665411489477, 'optimizer': 'Adam', 'lr': 0.0032688254899491966}. Best is trial 17 with value: 0.83828125.\n",
            "[I 2023-09-01 16:06:56,025] Trial 24 finished with value: 0.83515625 and parameters: {'n_layers': 2, 'n_units_l0': 58, 'dropout_l0': 0.22848259552050232, 'n_units_l1': 127, 'dropout_l1': 0.31402171885893226, 'optimizer': 'Adam', 'lr': 0.010396602093807477}. Best is trial 17 with value: 0.83828125.\n",
            "[I 2023-09-01 16:07:03,338] Trial 25 finished with value: 0.80703125 and parameters: {'n_layers': 2, 'n_units_l0': 58, 'dropout_l0': 0.26437315085166074, 'n_units_l1': 128, 'dropout_l1': 0.29763302953905657, 'optimizer': 'Adam', 'lr': 0.01172762021122203}. Best is trial 17 with value: 0.83828125.\n",
            "[I 2023-09-01 16:07:11,190] Trial 26 finished with value: 0.8140625 and parameters: {'n_layers': 2, 'n_units_l0': 37, 'dropout_l0': 0.23193182193570178, 'n_units_l1': 123, 'dropout_l1': 0.32295940420398395, 'optimizer': 'Adam', 'lr': 0.009111206841931343}. Best is trial 17 with value: 0.83828125.\n",
            "[I 2023-09-01 16:07:11,999] Trial 27 pruned. \n",
            "[I 2023-09-01 16:07:12,824] Trial 28 pruned. \n",
            "[I 2023-09-01 16:07:13,605] Trial 29 pruned. \n",
            "[I 2023-09-01 16:07:14,414] Trial 30 pruned. \n",
            "[I 2023-09-01 16:07:22,541] Trial 31 finished with value: 0.8234375 and parameters: {'n_layers': 1, 'n_units_l0': 75, 'dropout_l0': 0.22604638853644504, 'optimizer': 'Adam', 'lr': 0.0026052521158152642}. Best is trial 17 with value: 0.83828125.\n",
            "[I 2023-09-01 16:07:30,068] Trial 32 finished with value: 0.80390625 and parameters: {'n_layers': 1, 'n_units_l0': 78, 'dropout_l0': 0.26175095358401546, 'optimizer': 'Adam', 'lr': 0.003819000238864771}. Best is trial 17 with value: 0.83828125.\n",
            "[I 2023-09-01 16:07:37,438] Trial 33 finished with value: 0.803125 and parameters: {'n_layers': 1, 'n_units_l0': 48, 'dropout_l0': 0.22312829582547175, 'optimizer': 'Adam', 'lr': 0.009127032112187612}. Best is trial 17 with value: 0.83828125.\n",
            "[I 2023-09-01 16:07:38,882] Trial 34 pruned. \n",
            "[I 2023-09-01 16:07:39,679] Trial 35 pruned. \n",
            "[I 2023-09-01 16:07:40,572] Trial 36 pruned. \n",
            "[I 2023-09-01 16:07:41,467] Trial 37 pruned. \n",
            "[I 2023-09-01 16:07:42,607] Trial 38 pruned. \n",
            "[I 2023-09-01 16:07:43,906] Trial 39 pruned. \n",
            "[I 2023-09-01 16:07:51,167] Trial 40 finished with value: 0.8171875 and parameters: {'n_layers': 2, 'n_units_l0': 79, 'dropout_l0': 0.25126093225678203, 'n_units_l1': 116, 'dropout_l1': 0.3048654822381087, 'optimizer': 'RMSprop', 'lr': 0.0011428809986836097}. Best is trial 17 with value: 0.83828125.\n",
            "[I 2023-09-01 16:07:59,250] Trial 41 finished with value: 0.821875 and parameters: {'n_layers': 1, 'n_units_l0': 84, 'dropout_l0': 0.23758247967460439, 'optimizer': 'Adam', 'lr': 0.0033290239148684375}. Best is trial 17 with value: 0.83828125.\n",
            "[I 2023-09-01 16:08:06,301] Trial 42 finished with value: 0.82109375 and parameters: {'n_layers': 1, 'n_units_l0': 94, 'dropout_l0': 0.2339777526588099, 'optimizer': 'Adam', 'lr': 0.0033641689045043987}. Best is trial 17 with value: 0.83828125.\n",
            "[I 2023-09-01 16:08:14,423] Trial 43 finished with value: 0.82734375 and parameters: {'n_layers': 1, 'n_units_l0': 102, 'dropout_l0': 0.200856703173676, 'optimizer': 'Adam', 'lr': 0.0049134859792387894}. Best is trial 17 with value: 0.83828125.\n",
            "[I 2023-09-01 16:08:22,307] Trial 44 finished with value: 0.8078125 and parameters: {'n_layers': 1, 'n_units_l0': 81, 'dropout_l0': 0.21453554268299438, 'optimizer': 'Adam', 'lr': 0.0018931484801784672}. Best is trial 17 with value: 0.83828125.\n",
            "[I 2023-09-01 16:08:23,298] Trial 45 pruned. \n",
            "[I 2023-09-01 16:08:30,250] Trial 46 finished with value: 0.8125 and parameters: {'n_layers': 1, 'n_units_l0': 58, 'dropout_l0': 0.20055633778873613, 'optimizer': 'Adam', 'lr': 0.011271010811307283}. Best is trial 17 with value: 0.83828125.\n",
            "[I 2023-09-01 16:08:31,727] Trial 47 pruned. \n",
            "[I 2023-09-01 16:08:39,759] Trial 48 finished with value: 0.81875 and parameters: {'n_layers': 1, 'n_units_l0': 88, 'dropout_l0': 0.24245889883887736, 'optimizer': 'Adam', 'lr': 0.004638989294843615}. Best is trial 17 with value: 0.83828125.\n",
            "[I 2023-09-01 16:08:40,614] Trial 49 pruned. \n",
            "[I 2023-09-01 16:08:41,463] Trial 50 pruned. \n",
            "[I 2023-09-01 16:08:49,727] Trial 51 finished with value: 0.8234375 and parameters: {'n_layers': 1, 'n_units_l0': 103, 'dropout_l0': 0.20448966750971287, 'optimizer': 'Adam', 'lr': 0.005490513505007044}. Best is trial 17 with value: 0.83828125.\n",
            "[I 2023-09-01 16:08:56,939] Trial 52 finished with value: 0.8453125 and parameters: {'n_layers': 1, 'n_units_l0': 119, 'dropout_l0': 0.23529913318424517, 'optimizer': 'Adam', 'lr': 0.004032303972700894}. Best is trial 52 with value: 0.8453125.\n",
            "[I 2023-09-01 16:09:05,136] Trial 53 finished with value: 0.84765625 and parameters: {'n_layers': 1, 'n_units_l0': 118, 'dropout_l0': 0.2418038787544261, 'optimizer': 'Adam', 'lr': 0.0027409775694508588}. Best is trial 53 with value: 0.84765625.\n",
            "[I 2023-09-01 16:09:07,346] Trial 54 pruned. \n",
            "[I 2023-09-01 16:09:08,176] Trial 55 pruned. \n",
            "[I 2023-09-01 16:09:16,557] Trial 56 finished with value: 0.825 and parameters: {'n_layers': 1, 'n_units_l0': 118, 'dropout_l0': 0.2129362686436112, 'optimizer': 'Adam', 'lr': 0.004134816366017598}. Best is trial 53 with value: 0.84765625.\n",
            "[I 2023-09-01 16:09:23,890] Trial 57 finished with value: 0.82109375 and parameters: {'n_layers': 1, 'n_units_l0': 124, 'dropout_l0': 0.22972044437331032, 'optimizer': 'Adam', 'lr': 0.006250043850103055}. Best is trial 53 with value: 0.84765625.\n",
            "[I 2023-09-01 16:09:32,150] Trial 58 finished with value: 0.82421875 and parameters: {'n_layers': 1, 'n_units_l0': 115, 'dropout_l0': 0.24522247588138493, 'optimizer': 'Adam', 'lr': 0.00893822458927584}. Best is trial 53 with value: 0.84765625.\n",
            "[I 2023-09-01 16:09:32,913] Trial 59 pruned. \n",
            "[I 2023-09-01 16:09:33,755] Trial 60 pruned. \n",
            "[I 2023-09-01 16:09:41,957] Trial 61 finished with value: 0.828125 and parameters: {'n_layers': 1, 'n_units_l0': 97, 'dropout_l0': 0.23148560305207722, 'optimizer': 'Adam', 'lr': 0.004290485566084959}. Best is trial 53 with value: 0.84765625.\n",
            "[I 2023-09-01 16:09:49,143] Trial 62 finished with value: 0.80390625 and parameters: {'n_layers': 1, 'n_units_l0': 123, 'dropout_l0': 0.209971804043357, 'optimizer': 'Adam', 'lr': 0.0028827709712828447}. Best is trial 53 with value: 0.84765625.\n",
            "[I 2023-09-01 16:09:50,090] Trial 63 pruned. \n",
            "[I 2023-09-01 16:09:57,998] Trial 64 finished with value: 0.8265625 and parameters: {'n_layers': 1, 'n_units_l0': 83, 'dropout_l0': 0.24141918038380347, 'optimizer': 'Adam', 'lr': 0.0035129955028323856}. Best is trial 53 with value: 0.84765625.\n",
            "[I 2023-09-01 16:10:06,134] Trial 65 finished with value: 0.8203125 and parameters: {'n_layers': 1, 'n_units_l0': 72, 'dropout_l0': 0.2093072881518177, 'optimizer': 'Adam', 'lr': 0.005625428986108573}. Best is trial 53 with value: 0.84765625.\n",
            "[I 2023-09-01 16:10:06,944] Trial 66 pruned. \n",
            "[I 2023-09-01 16:10:07,768] Trial 67 pruned. \n",
            "[I 2023-09-01 16:10:08,559] Trial 68 pruned. \n",
            "[I 2023-09-01 16:10:15,695] Trial 69 finished with value: 0.81796875 and parameters: {'n_layers': 1, 'n_units_l0': 55, 'dropout_l0': 0.26027002812540534, 'optimizer': 'Adam', 'lr': 0.003697981569779828}. Best is trial 53 with value: 0.84765625.\n",
            "[I 2023-09-01 16:10:16,978] Trial 70 pruned. \n",
            "[I 2023-09-01 16:10:24,551] Trial 71 finished with value: 0.8328125 and parameters: {'n_layers': 1, 'n_units_l0': 85, 'dropout_l0': 0.2284673684803269, 'optimizer': 'Adam', 'lr': 0.004291224651234507}. Best is trial 53 with value: 0.84765625.\n",
            "[I 2023-09-01 16:10:32,707] Trial 72 finished with value: 0.825 and parameters: {'n_layers': 1, 'n_units_l0': 76, 'dropout_l0': 0.22573037578008745, 'optimizer': 'Adam', 'lr': 0.004675562948236513}. Best is trial 53 with value: 0.84765625.\n",
            "[I 2023-09-01 16:10:39,989] Trial 73 finished with value: 0.82421875 and parameters: {'n_layers': 1, 'n_units_l0': 92, 'dropout_l0': 0.2155497059371757, 'optimizer': 'Adam', 'lr': 0.008260231254567613}. Best is trial 53 with value: 0.84765625.\n",
            "[I 2023-09-01 16:10:40,840] Trial 74 pruned. \n",
            "[I 2023-09-01 16:10:42,034] Trial 75 pruned. \n",
            "[I 2023-09-01 16:10:43,174] Trial 76 pruned. \n",
            "[I 2023-09-01 16:10:44,334] Trial 77 pruned. \n",
            "[I 2023-09-01 16:10:45,124] Trial 78 pruned. \n",
            "[I 2023-09-01 16:10:45,947] Trial 79 pruned. \n",
            "[I 2023-09-01 16:10:46,751] Trial 80 pruned. \n",
            "[I 2023-09-01 16:10:54,151] Trial 81 finished with value: 0.8265625 and parameters: {'n_layers': 1, 'n_units_l0': 95, 'dropout_l0': 0.23656017551421735, 'optimizer': 'Adam', 'lr': 0.00462573119593309}. Best is trial 53 with value: 0.84765625.\n",
            "[I 2023-09-01 16:11:02,246] Trial 82 finished with value: 0.815625 and parameters: {'n_layers': 1, 'n_units_l0': 99, 'dropout_l0': 0.23038369861767055, 'optimizer': 'Adam', 'lr': 0.004087082110920969}. Best is trial 53 with value: 0.84765625.\n",
            "[I 2023-09-01 16:11:11,377] Trial 83 finished with value: 0.821875 and parameters: {'n_layers': 1, 'n_units_l0': 88, 'dropout_l0': 0.21823435533141078, 'optimizer': 'Adam', 'lr': 0.0040922445140048344}. Best is trial 53 with value: 0.84765625.\n",
            "[I 2023-09-01 16:11:18,542] Trial 84 finished with value: 0.80390625 and parameters: {'n_layers': 1, 'n_units_l0': 81, 'dropout_l0': 0.22858903457354962, 'optimizer': 'Adam', 'lr': 0.007507907178821863}. Best is trial 53 with value: 0.84765625.\n",
            "[I 2023-09-01 16:11:19,414] Trial 85 pruned. \n",
            "[I 2023-09-01 16:11:20,568] Trial 86 pruned. \n",
            "[I 2023-09-01 16:11:28,261] Trial 87 finished with value: 0.803125 and parameters: {'n_layers': 1, 'n_units_l0': 68, 'dropout_l0': 0.24339221514264384, 'optimizer': 'Adam', 'lr': 0.01059198252698538}. Best is trial 53 with value: 0.84765625.\n",
            "[I 2023-09-01 16:11:29,103] Trial 88 pruned. \n",
            "[I 2023-09-01 16:11:29,909] Trial 89 pruned. \n",
            "[I 2023-09-01 16:11:30,723] Trial 90 pruned. \n",
            "[I 2023-09-01 16:11:38,951] Trial 91 finished with value: 0.834375 and parameters: {'n_layers': 1, 'n_units_l0': 108, 'dropout_l0': 0.20037635789572364, 'optimizer': 'Adam', 'lr': 0.005012929963763963}. Best is trial 53 with value: 0.84765625.\n",
            "[I 2023-09-01 16:11:46,804] Trial 92 finished with value: 0.840625 and parameters: {'n_layers': 1, 'n_units_l0': 108, 'dropout_l0': 0.21107082353243736, 'optimizer': 'Adam', 'lr': 0.004418715483218483}. Best is trial 53 with value: 0.84765625.\n",
            "[I 2023-09-01 16:11:48,122] Trial 93 pruned. \n",
            "[I 2023-09-01 16:11:55,498] Trial 94 finished with value: 0.825 and parameters: {'n_layers': 1, 'n_units_l0': 115, 'dropout_l0': 0.21061152188639826, 'optimizer': 'Adam', 'lr': 0.0086491455054703}. Best is trial 53 with value: 0.84765625.\n",
            "[I 2023-09-01 16:11:59,811] Trial 95 pruned. \n",
            "[I 2023-09-01 16:12:01,115] Trial 96 pruned. \n",
            "[I 2023-09-01 16:12:01,948] Trial 97 pruned. \n",
            "[I 2023-09-01 16:12:02,792] Trial 98 pruned. \n",
            "[I 2023-09-01 16:12:03,614] Trial 99 pruned. \n"
          ]
        },
        {
          "output_type": "stream",
          "name": "stdout",
          "text": [
            "Study statistics: \n",
            "  Number of finished trials:  100\n",
            "  Number of pruned trials:  46\n",
            "  Number of complete trials:  54\n",
            "Best trial:\n",
            "  Value:  0.84765625\n",
            "  Params: \n",
            "    n_layers: 1\n",
            "    n_units_l0: 118\n",
            "    dropout_l0: 0.2418038787544261\n",
            "    optimizer: Adam\n",
            "    lr: 0.0027409775694508588\n"
          ]
        }
      ]
    },
    {
      "cell_type": "markdown",
      "metadata": {
        "id": "lm-FjtW9I7Rr"
      },
      "source": [
        "## Visualisations"
      ]
    },
    {
      "cell_type": "code",
      "metadata": {
        "colab": {
          "base_uri": "https://localhost:8080/",
          "height": 542
        },
        "id": "PyjZUE5NIOCu",
        "outputId": "837a977b-7949-481c-f257-5adc2a6cd884"
      },
      "source": [
        "optuna.visualization.plot_param_importances(study)"
      ],
      "execution_count": 10,
      "outputs": [
        {
          "output_type": "display_data",
          "data": {
            "text/html": [
              "<html>\n",
              "<head><meta charset=\"utf-8\" /></head>\n",
              "<body>\n",
              "    <div>            <script src=\"https://cdnjs.cloudflare.com/ajax/libs/mathjax/2.7.5/MathJax.js?config=TeX-AMS-MML_SVG\"></script><script type=\"text/javascript\">if (window.MathJax && window.MathJax.Hub && window.MathJax.Hub.Config) {window.MathJax.Hub.Config({SVG: {font: \"STIX-Web\"}});}</script>                <script type=\"text/javascript\">window.PlotlyConfig = {MathJaxConfig: 'local'};</script>\n",
              "        <script charset=\"utf-8\" src=\"https://cdn.plot.ly/plotly-2.24.1.min.js\"></script>                <div id=\"c2a15d32-e561-4e37-8b38-cbe06f23db6c\" class=\"plotly-graph-div\" style=\"height:525px; width:100%;\"></div>            <script type=\"text/javascript\">                                    window.PLOTLYENV=window.PLOTLYENV || {};                                    if (document.getElementById(\"c2a15d32-e561-4e37-8b38-cbe06f23db6c\")) {                    Plotly.newPlot(                        \"c2a15d32-e561-4e37-8b38-cbe06f23db6c\",                        [{\"cliponaxis\":false,\"hovertemplate\":[\"n_layers (IntDistribution): 0.028719348323255112\\u003cextra\\u003e\\u003c\\u002fextra\\u003e\",\"n_units_l0 (IntDistribution): 0.05935240523894845\\u003cextra\\u003e\\u003c\\u002fextra\\u003e\",\"optimizer (CategoricalDistribution): 0.1344145183886567\\u003cextra\\u003e\\u003c\\u002fextra\\u003e\",\"lr (FloatDistribution): 0.15602005527084598\\u003cextra\\u003e\\u003c\\u002fextra\\u003e\",\"dropout_l0 (FloatDistribution): 0.6214936727782938\\u003cextra\\u003e\\u003c\\u002fextra\\u003e\"],\"marker\":{\"color\":\"rgb(66,146,198)\"},\"orientation\":\"h\",\"text\":[\"0.03\",\"0.06\",\"0.13\",\"0.16\",\"0.62\"],\"textposition\":\"outside\",\"x\":[0.028719348323255112,0.05935240523894845,0.1344145183886567,0.15602005527084598,0.6214936727782938],\"y\":[\"n_layers\",\"n_units_l0\",\"optimizer\",\"lr\",\"dropout_l0\"],\"type\":\"bar\"}],                        {\"showlegend\":false,\"title\":{\"text\":\"Hyperparameter Importances\"},\"xaxis\":{\"title\":{\"text\":\"Importance for Objective Value\"}},\"yaxis\":{\"title\":{\"text\":\"Hyperparameter\"}},\"template\":{\"data\":{\"histogram2dcontour\":[{\"type\":\"histogram2dcontour\",\"colorbar\":{\"outlinewidth\":0,\"ticks\":\"\"},\"colorscale\":[[0.0,\"#0d0887\"],[0.1111111111111111,\"#46039f\"],[0.2222222222222222,\"#7201a8\"],[0.3333333333333333,\"#9c179e\"],[0.4444444444444444,\"#bd3786\"],[0.5555555555555556,\"#d8576b\"],[0.6666666666666666,\"#ed7953\"],[0.7777777777777778,\"#fb9f3a\"],[0.8888888888888888,\"#fdca26\"],[1.0,\"#f0f921\"]]}],\"choropleth\":[{\"type\":\"choropleth\",\"colorbar\":{\"outlinewidth\":0,\"ticks\":\"\"}}],\"histogram2d\":[{\"type\":\"histogram2d\",\"colorbar\":{\"outlinewidth\":0,\"ticks\":\"\"},\"colorscale\":[[0.0,\"#0d0887\"],[0.1111111111111111,\"#46039f\"],[0.2222222222222222,\"#7201a8\"],[0.3333333333333333,\"#9c179e\"],[0.4444444444444444,\"#bd3786\"],[0.5555555555555556,\"#d8576b\"],[0.6666666666666666,\"#ed7953\"],[0.7777777777777778,\"#fb9f3a\"],[0.8888888888888888,\"#fdca26\"],[1.0,\"#f0f921\"]]}],\"heatmap\":[{\"type\":\"heatmap\",\"colorbar\":{\"outlinewidth\":0,\"ticks\":\"\"},\"colorscale\":[[0.0,\"#0d0887\"],[0.1111111111111111,\"#46039f\"],[0.2222222222222222,\"#7201a8\"],[0.3333333333333333,\"#9c179e\"],[0.4444444444444444,\"#bd3786\"],[0.5555555555555556,\"#d8576b\"],[0.6666666666666666,\"#ed7953\"],[0.7777777777777778,\"#fb9f3a\"],[0.8888888888888888,\"#fdca26\"],[1.0,\"#f0f921\"]]}],\"heatmapgl\":[{\"type\":\"heatmapgl\",\"colorbar\":{\"outlinewidth\":0,\"ticks\":\"\"},\"colorscale\":[[0.0,\"#0d0887\"],[0.1111111111111111,\"#46039f\"],[0.2222222222222222,\"#7201a8\"],[0.3333333333333333,\"#9c179e\"],[0.4444444444444444,\"#bd3786\"],[0.5555555555555556,\"#d8576b\"],[0.6666666666666666,\"#ed7953\"],[0.7777777777777778,\"#fb9f3a\"],[0.8888888888888888,\"#fdca26\"],[1.0,\"#f0f921\"]]}],\"contourcarpet\":[{\"type\":\"contourcarpet\",\"colorbar\":{\"outlinewidth\":0,\"ticks\":\"\"}}],\"contour\":[{\"type\":\"contour\",\"colorbar\":{\"outlinewidth\":0,\"ticks\":\"\"},\"colorscale\":[[0.0,\"#0d0887\"],[0.1111111111111111,\"#46039f\"],[0.2222222222222222,\"#7201a8\"],[0.3333333333333333,\"#9c179e\"],[0.4444444444444444,\"#bd3786\"],[0.5555555555555556,\"#d8576b\"],[0.6666666666666666,\"#ed7953\"],[0.7777777777777778,\"#fb9f3a\"],[0.8888888888888888,\"#fdca26\"],[1.0,\"#f0f921\"]]}],\"surface\":[{\"type\":\"surface\",\"colorbar\":{\"outlinewidth\":0,\"ticks\":\"\"},\"colorscale\":[[0.0,\"#0d0887\"],[0.1111111111111111,\"#46039f\"],[0.2222222222222222,\"#7201a8\"],[0.3333333333333333,\"#9c179e\"],[0.4444444444444444,\"#bd3786\"],[0.5555555555555556,\"#d8576b\"],[0.6666666666666666,\"#ed7953\"],[0.7777777777777778,\"#fb9f3a\"],[0.8888888888888888,\"#fdca26\"],[1.0,\"#f0f921\"]]}],\"mesh3d\":[{\"type\":\"mesh3d\",\"colorbar\":{\"outlinewidth\":0,\"ticks\":\"\"}}],\"scatter\":[{\"fillpattern\":{\"fillmode\":\"overlay\",\"size\":10,\"solidity\":0.2},\"type\":\"scatter\"}],\"parcoords\":[{\"type\":\"parcoords\",\"line\":{\"colorbar\":{\"outlinewidth\":0,\"ticks\":\"\"}}}],\"scatterpolargl\":[{\"type\":\"scatterpolargl\",\"marker\":{\"colorbar\":{\"outlinewidth\":0,\"ticks\":\"\"}}}],\"bar\":[{\"error_x\":{\"color\":\"#2a3f5f\"},\"error_y\":{\"color\":\"#2a3f5f\"},\"marker\":{\"line\":{\"color\":\"#E5ECF6\",\"width\":0.5},\"pattern\":{\"fillmode\":\"overlay\",\"size\":10,\"solidity\":0.2}},\"type\":\"bar\"}],\"scattergeo\":[{\"type\":\"scattergeo\",\"marker\":{\"colorbar\":{\"outlinewidth\":0,\"ticks\":\"\"}}}],\"scatterpolar\":[{\"type\":\"scatterpolar\",\"marker\":{\"colorbar\":{\"outlinewidth\":0,\"ticks\":\"\"}}}],\"histogram\":[{\"marker\":{\"pattern\":{\"fillmode\":\"overlay\",\"size\":10,\"solidity\":0.2}},\"type\":\"histogram\"}],\"scattergl\":[{\"type\":\"scattergl\",\"marker\":{\"colorbar\":{\"outlinewidth\":0,\"ticks\":\"\"}}}],\"scatter3d\":[{\"type\":\"scatter3d\",\"line\":{\"colorbar\":{\"outlinewidth\":0,\"ticks\":\"\"}},\"marker\":{\"colorbar\":{\"outlinewidth\":0,\"ticks\":\"\"}}}],\"scattermapbox\":[{\"type\":\"scattermapbox\",\"marker\":{\"colorbar\":{\"outlinewidth\":0,\"ticks\":\"\"}}}],\"scatterternary\":[{\"type\":\"scatterternary\",\"marker\":{\"colorbar\":{\"outlinewidth\":0,\"ticks\":\"\"}}}],\"scattercarpet\":[{\"type\":\"scattercarpet\",\"marker\":{\"colorbar\":{\"outlinewidth\":0,\"ticks\":\"\"}}}],\"carpet\":[{\"aaxis\":{\"endlinecolor\":\"#2a3f5f\",\"gridcolor\":\"white\",\"linecolor\":\"white\",\"minorgridcolor\":\"white\",\"startlinecolor\":\"#2a3f5f\"},\"baxis\":{\"endlinecolor\":\"#2a3f5f\",\"gridcolor\":\"white\",\"linecolor\":\"white\",\"minorgridcolor\":\"white\",\"startlinecolor\":\"#2a3f5f\"},\"type\":\"carpet\"}],\"table\":[{\"cells\":{\"fill\":{\"color\":\"#EBF0F8\"},\"line\":{\"color\":\"white\"}},\"header\":{\"fill\":{\"color\":\"#C8D4E3\"},\"line\":{\"color\":\"white\"}},\"type\":\"table\"}],\"barpolar\":[{\"marker\":{\"line\":{\"color\":\"#E5ECF6\",\"width\":0.5},\"pattern\":{\"fillmode\":\"overlay\",\"size\":10,\"solidity\":0.2}},\"type\":\"barpolar\"}],\"pie\":[{\"automargin\":true,\"type\":\"pie\"}]},\"layout\":{\"autotypenumbers\":\"strict\",\"colorway\":[\"#636efa\",\"#EF553B\",\"#00cc96\",\"#ab63fa\",\"#FFA15A\",\"#19d3f3\",\"#FF6692\",\"#B6E880\",\"#FF97FF\",\"#FECB52\"],\"font\":{\"color\":\"#2a3f5f\"},\"hovermode\":\"closest\",\"hoverlabel\":{\"align\":\"left\"},\"paper_bgcolor\":\"white\",\"plot_bgcolor\":\"#E5ECF6\",\"polar\":{\"bgcolor\":\"#E5ECF6\",\"angularaxis\":{\"gridcolor\":\"white\",\"linecolor\":\"white\",\"ticks\":\"\"},\"radialaxis\":{\"gridcolor\":\"white\",\"linecolor\":\"white\",\"ticks\":\"\"}},\"ternary\":{\"bgcolor\":\"#E5ECF6\",\"aaxis\":{\"gridcolor\":\"white\",\"linecolor\":\"white\",\"ticks\":\"\"},\"baxis\":{\"gridcolor\":\"white\",\"linecolor\":\"white\",\"ticks\":\"\"},\"caxis\":{\"gridcolor\":\"white\",\"linecolor\":\"white\",\"ticks\":\"\"}},\"coloraxis\":{\"colorbar\":{\"outlinewidth\":0,\"ticks\":\"\"}},\"colorscale\":{\"sequential\":[[0.0,\"#0d0887\"],[0.1111111111111111,\"#46039f\"],[0.2222222222222222,\"#7201a8\"],[0.3333333333333333,\"#9c179e\"],[0.4444444444444444,\"#bd3786\"],[0.5555555555555556,\"#d8576b\"],[0.6666666666666666,\"#ed7953\"],[0.7777777777777778,\"#fb9f3a\"],[0.8888888888888888,\"#fdca26\"],[1.0,\"#f0f921\"]],\"sequentialminus\":[[0.0,\"#0d0887\"],[0.1111111111111111,\"#46039f\"],[0.2222222222222222,\"#7201a8\"],[0.3333333333333333,\"#9c179e\"],[0.4444444444444444,\"#bd3786\"],[0.5555555555555556,\"#d8576b\"],[0.6666666666666666,\"#ed7953\"],[0.7777777777777778,\"#fb9f3a\"],[0.8888888888888888,\"#fdca26\"],[1.0,\"#f0f921\"]],\"diverging\":[[0,\"#8e0152\"],[0.1,\"#c51b7d\"],[0.2,\"#de77ae\"],[0.3,\"#f1b6da\"],[0.4,\"#fde0ef\"],[0.5,\"#f7f7f7\"],[0.6,\"#e6f5d0\"],[0.7,\"#b8e186\"],[0.8,\"#7fbc41\"],[0.9,\"#4d9221\"],[1,\"#276419\"]]},\"xaxis\":{\"gridcolor\":\"white\",\"linecolor\":\"white\",\"ticks\":\"\",\"title\":{\"standoff\":15},\"zerolinecolor\":\"white\",\"automargin\":true,\"zerolinewidth\":2},\"yaxis\":{\"gridcolor\":\"white\",\"linecolor\":\"white\",\"ticks\":\"\",\"title\":{\"standoff\":15},\"zerolinecolor\":\"white\",\"automargin\":true,\"zerolinewidth\":2},\"scene\":{\"xaxis\":{\"backgroundcolor\":\"#E5ECF6\",\"gridcolor\":\"white\",\"linecolor\":\"white\",\"showbackground\":true,\"ticks\":\"\",\"zerolinecolor\":\"white\",\"gridwidth\":2},\"yaxis\":{\"backgroundcolor\":\"#E5ECF6\",\"gridcolor\":\"white\",\"linecolor\":\"white\",\"showbackground\":true,\"ticks\":\"\",\"zerolinecolor\":\"white\",\"gridwidth\":2},\"zaxis\":{\"backgroundcolor\":\"#E5ECF6\",\"gridcolor\":\"white\",\"linecolor\":\"white\",\"showbackground\":true,\"ticks\":\"\",\"zerolinecolor\":\"white\",\"gridwidth\":2}},\"shapedefaults\":{\"line\":{\"color\":\"#2a3f5f\"}},\"annotationdefaults\":{\"arrowcolor\":\"#2a3f5f\",\"arrowhead\":0,\"arrowwidth\":1},\"geo\":{\"bgcolor\":\"white\",\"landcolor\":\"#E5ECF6\",\"subunitcolor\":\"white\",\"showland\":true,\"showlakes\":true,\"lakecolor\":\"white\"},\"title\":{\"x\":0.05},\"mapbox\":{\"style\":\"light\"}}}},                        {\"responsive\": true}                    ).then(function(){\n",
              "                            \n",
              "var gd = document.getElementById('c2a15d32-e561-4e37-8b38-cbe06f23db6c');\n",
              "var x = new MutationObserver(function (mutations, observer) {{\n",
              "        var display = window.getComputedStyle(gd).display;\n",
              "        if (!display || display === 'none') {{\n",
              "            console.log([gd, 'removed!']);\n",
              "            Plotly.purge(gd);\n",
              "            observer.disconnect();\n",
              "        }}\n",
              "}});\n",
              "\n",
              "// Listen for the removal of the full notebook cells\n",
              "var notebookContainer = gd.closest('#notebook-container');\n",
              "if (notebookContainer) {{\n",
              "    x.observe(notebookContainer, {childList: true});\n",
              "}}\n",
              "\n",
              "// Listen for the clearing of the current output cell\n",
              "var outputEl = gd.closest('.output');\n",
              "if (outputEl) {{\n",
              "    x.observe(outputEl, {childList: true});\n",
              "}}\n",
              "\n",
              "                        })                };                            </script>        </div>\n",
              "</body>\n",
              "</html>"
            ]
          },
          "metadata": {}
        }
      ]
    },
    {
      "cell_type": "code",
      "metadata": {
        "colab": {
          "base_uri": "https://localhost:8080/",
          "height": 542
        },
        "id": "BBM8gMDaJEnt",
        "outputId": "fbec3e6a-f336-4a63-e0a2-d3f93475bd3e"
      },
      "source": [
        "optuna.visualization.plot_optimization_history(study)"
      ],
      "execution_count": 11,
      "outputs": [
        {
          "output_type": "display_data",
          "data": {
            "text/html": [
              "<html>\n",
              "<head><meta charset=\"utf-8\" /></head>\n",
              "<body>\n",
              "    <div>            <script src=\"https://cdnjs.cloudflare.com/ajax/libs/mathjax/2.7.5/MathJax.js?config=TeX-AMS-MML_SVG\"></script><script type=\"text/javascript\">if (window.MathJax && window.MathJax.Hub && window.MathJax.Hub.Config) {window.MathJax.Hub.Config({SVG: {font: \"STIX-Web\"}});}</script>                <script type=\"text/javascript\">window.PlotlyConfig = {MathJaxConfig: 'local'};</script>\n",
              "        <script charset=\"utf-8\" src=\"https://cdn.plot.ly/plotly-2.24.1.min.js\"></script>                <div id=\"bca76422-a6f2-49d2-af60-18c8b1acb6f7\" class=\"plotly-graph-div\" style=\"height:525px; width:100%;\"></div>            <script type=\"text/javascript\">                                    window.PLOTLYENV=window.PLOTLYENV || {};                                    if (document.getElementById(\"bca76422-a6f2-49d2-af60-18c8b1acb6f7\")) {                    Plotly.newPlot(                        \"bca76422-a6f2-49d2-af60-18c8b1acb6f7\",                        [{\"mode\":\"markers\",\"name\":\"Objective Value\",\"x\":[0,1,2,3,4,5,7,8,10,11,12,13,14,15,16,17,21,22,23,24,25,26,31,32,33,40,41,42,43,44,46,48,51,52,53,56,57,58,61,62,64,65,69,71,72,73,81,82,83,84,87,91,92,94],\"y\":[0.79140625,0.11015625,0.45,0.0828125,0.225,0.65,0.46875,0.7640625,0.7953125,0.70234375,0.74765625,0.83046875,0.8234375,0.809375,0.784375,0.83828125,0.8171875,0.8296875,0.8296875,0.83515625,0.80703125,0.8140625,0.8234375,0.80390625,0.803125,0.8171875,0.821875,0.82109375,0.82734375,0.8078125,0.8125,0.81875,0.8234375,0.8453125,0.84765625,0.825,0.82109375,0.82421875,0.828125,0.80390625,0.8265625,0.8203125,0.81796875,0.8328125,0.825,0.82421875,0.8265625,0.815625,0.821875,0.80390625,0.803125,0.834375,0.840625,0.825],\"type\":\"scatter\"},{\"mode\":\"lines\",\"name\":\"Best Value\",\"x\":[0,1,2,3,4,5,6,7,8,9,10,11,12,13,14,15,16,17,18,19,20,21,22,23,24,25,26,27,28,29,30,31,32,33,34,35,36,37,38,39,40,41,42,43,44,45,46,47,48,49,50,51,52,53,54,55,56,57,58,59,60,61,62,63,64,65,66,67,68,69,70,71,72,73,74,75,76,77,78,79,80,81,82,83,84,85,86,87,88,89,90,91,92,93,94,95,96,97,98,99],\"y\":[0.79140625,0.79140625,0.79140625,0.79140625,0.79140625,0.79140625,0.79140625,0.79140625,0.79140625,0.79140625,0.7953125,0.7953125,0.7953125,0.83046875,0.83046875,0.83046875,0.83046875,0.83828125,0.83828125,0.83828125,0.83828125,0.83828125,0.83828125,0.83828125,0.83828125,0.83828125,0.83828125,0.83828125,0.83828125,0.83828125,0.83828125,0.83828125,0.83828125,0.83828125,0.83828125,0.83828125,0.83828125,0.83828125,0.83828125,0.83828125,0.83828125,0.83828125,0.83828125,0.83828125,0.83828125,0.83828125,0.83828125,0.83828125,0.83828125,0.83828125,0.83828125,0.83828125,0.8453125,0.84765625,0.84765625,0.84765625,0.84765625,0.84765625,0.84765625,0.84765625,0.84765625,0.84765625,0.84765625,0.84765625,0.84765625,0.84765625,0.84765625,0.84765625,0.84765625,0.84765625,0.84765625,0.84765625,0.84765625,0.84765625,0.84765625,0.84765625,0.84765625,0.84765625,0.84765625,0.84765625,0.84765625,0.84765625,0.84765625,0.84765625,0.84765625,0.84765625,0.84765625,0.84765625,0.84765625,0.84765625,0.84765625,0.84765625,0.84765625,0.84765625,0.84765625,0.84765625,0.84765625,0.84765625,0.84765625,0.84765625],\"type\":\"scatter\"},{\"marker\":{\"color\":\"#cccccc\"},\"mode\":\"markers\",\"name\":\"Infeasible Trial\",\"showlegend\":false,\"x\":[],\"y\":[],\"type\":\"scatter\"}],                        {\"title\":{\"text\":\"Optimization History Plot\"},\"xaxis\":{\"title\":{\"text\":\"Trial\"}},\"yaxis\":{\"title\":{\"text\":\"Objective Value\"}},\"template\":{\"data\":{\"histogram2dcontour\":[{\"type\":\"histogram2dcontour\",\"colorbar\":{\"outlinewidth\":0,\"ticks\":\"\"},\"colorscale\":[[0.0,\"#0d0887\"],[0.1111111111111111,\"#46039f\"],[0.2222222222222222,\"#7201a8\"],[0.3333333333333333,\"#9c179e\"],[0.4444444444444444,\"#bd3786\"],[0.5555555555555556,\"#d8576b\"],[0.6666666666666666,\"#ed7953\"],[0.7777777777777778,\"#fb9f3a\"],[0.8888888888888888,\"#fdca26\"],[1.0,\"#f0f921\"]]}],\"choropleth\":[{\"type\":\"choropleth\",\"colorbar\":{\"outlinewidth\":0,\"ticks\":\"\"}}],\"histogram2d\":[{\"type\":\"histogram2d\",\"colorbar\":{\"outlinewidth\":0,\"ticks\":\"\"},\"colorscale\":[[0.0,\"#0d0887\"],[0.1111111111111111,\"#46039f\"],[0.2222222222222222,\"#7201a8\"],[0.3333333333333333,\"#9c179e\"],[0.4444444444444444,\"#bd3786\"],[0.5555555555555556,\"#d8576b\"],[0.6666666666666666,\"#ed7953\"],[0.7777777777777778,\"#fb9f3a\"],[0.8888888888888888,\"#fdca26\"],[1.0,\"#f0f921\"]]}],\"heatmap\":[{\"type\":\"heatmap\",\"colorbar\":{\"outlinewidth\":0,\"ticks\":\"\"},\"colorscale\":[[0.0,\"#0d0887\"],[0.1111111111111111,\"#46039f\"],[0.2222222222222222,\"#7201a8\"],[0.3333333333333333,\"#9c179e\"],[0.4444444444444444,\"#bd3786\"],[0.5555555555555556,\"#d8576b\"],[0.6666666666666666,\"#ed7953\"],[0.7777777777777778,\"#fb9f3a\"],[0.8888888888888888,\"#fdca26\"],[1.0,\"#f0f921\"]]}],\"heatmapgl\":[{\"type\":\"heatmapgl\",\"colorbar\":{\"outlinewidth\":0,\"ticks\":\"\"},\"colorscale\":[[0.0,\"#0d0887\"],[0.1111111111111111,\"#46039f\"],[0.2222222222222222,\"#7201a8\"],[0.3333333333333333,\"#9c179e\"],[0.4444444444444444,\"#bd3786\"],[0.5555555555555556,\"#d8576b\"],[0.6666666666666666,\"#ed7953\"],[0.7777777777777778,\"#fb9f3a\"],[0.8888888888888888,\"#fdca26\"],[1.0,\"#f0f921\"]]}],\"contourcarpet\":[{\"type\":\"contourcarpet\",\"colorbar\":{\"outlinewidth\":0,\"ticks\":\"\"}}],\"contour\":[{\"type\":\"contour\",\"colorbar\":{\"outlinewidth\":0,\"ticks\":\"\"},\"colorscale\":[[0.0,\"#0d0887\"],[0.1111111111111111,\"#46039f\"],[0.2222222222222222,\"#7201a8\"],[0.3333333333333333,\"#9c179e\"],[0.4444444444444444,\"#bd3786\"],[0.5555555555555556,\"#d8576b\"],[0.6666666666666666,\"#ed7953\"],[0.7777777777777778,\"#fb9f3a\"],[0.8888888888888888,\"#fdca26\"],[1.0,\"#f0f921\"]]}],\"surface\":[{\"type\":\"surface\",\"colorbar\":{\"outlinewidth\":0,\"ticks\":\"\"},\"colorscale\":[[0.0,\"#0d0887\"],[0.1111111111111111,\"#46039f\"],[0.2222222222222222,\"#7201a8\"],[0.3333333333333333,\"#9c179e\"],[0.4444444444444444,\"#bd3786\"],[0.5555555555555556,\"#d8576b\"],[0.6666666666666666,\"#ed7953\"],[0.7777777777777778,\"#fb9f3a\"],[0.8888888888888888,\"#fdca26\"],[1.0,\"#f0f921\"]]}],\"mesh3d\":[{\"type\":\"mesh3d\",\"colorbar\":{\"outlinewidth\":0,\"ticks\":\"\"}}],\"scatter\":[{\"fillpattern\":{\"fillmode\":\"overlay\",\"size\":10,\"solidity\":0.2},\"type\":\"scatter\"}],\"parcoords\":[{\"type\":\"parcoords\",\"line\":{\"colorbar\":{\"outlinewidth\":0,\"ticks\":\"\"}}}],\"scatterpolargl\":[{\"type\":\"scatterpolargl\",\"marker\":{\"colorbar\":{\"outlinewidth\":0,\"ticks\":\"\"}}}],\"bar\":[{\"error_x\":{\"color\":\"#2a3f5f\"},\"error_y\":{\"color\":\"#2a3f5f\"},\"marker\":{\"line\":{\"color\":\"#E5ECF6\",\"width\":0.5},\"pattern\":{\"fillmode\":\"overlay\",\"size\":10,\"solidity\":0.2}},\"type\":\"bar\"}],\"scattergeo\":[{\"type\":\"scattergeo\",\"marker\":{\"colorbar\":{\"outlinewidth\":0,\"ticks\":\"\"}}}],\"scatterpolar\":[{\"type\":\"scatterpolar\",\"marker\":{\"colorbar\":{\"outlinewidth\":0,\"ticks\":\"\"}}}],\"histogram\":[{\"marker\":{\"pattern\":{\"fillmode\":\"overlay\",\"size\":10,\"solidity\":0.2}},\"type\":\"histogram\"}],\"scattergl\":[{\"type\":\"scattergl\",\"marker\":{\"colorbar\":{\"outlinewidth\":0,\"ticks\":\"\"}}}],\"scatter3d\":[{\"type\":\"scatter3d\",\"line\":{\"colorbar\":{\"outlinewidth\":0,\"ticks\":\"\"}},\"marker\":{\"colorbar\":{\"outlinewidth\":0,\"ticks\":\"\"}}}],\"scattermapbox\":[{\"type\":\"scattermapbox\",\"marker\":{\"colorbar\":{\"outlinewidth\":0,\"ticks\":\"\"}}}],\"scatterternary\":[{\"type\":\"scatterternary\",\"marker\":{\"colorbar\":{\"outlinewidth\":0,\"ticks\":\"\"}}}],\"scattercarpet\":[{\"type\":\"scattercarpet\",\"marker\":{\"colorbar\":{\"outlinewidth\":0,\"ticks\":\"\"}}}],\"carpet\":[{\"aaxis\":{\"endlinecolor\":\"#2a3f5f\",\"gridcolor\":\"white\",\"linecolor\":\"white\",\"minorgridcolor\":\"white\",\"startlinecolor\":\"#2a3f5f\"},\"baxis\":{\"endlinecolor\":\"#2a3f5f\",\"gridcolor\":\"white\",\"linecolor\":\"white\",\"minorgridcolor\":\"white\",\"startlinecolor\":\"#2a3f5f\"},\"type\":\"carpet\"}],\"table\":[{\"cells\":{\"fill\":{\"color\":\"#EBF0F8\"},\"line\":{\"color\":\"white\"}},\"header\":{\"fill\":{\"color\":\"#C8D4E3\"},\"line\":{\"color\":\"white\"}},\"type\":\"table\"}],\"barpolar\":[{\"marker\":{\"line\":{\"color\":\"#E5ECF6\",\"width\":0.5},\"pattern\":{\"fillmode\":\"overlay\",\"size\":10,\"solidity\":0.2}},\"type\":\"barpolar\"}],\"pie\":[{\"automargin\":true,\"type\":\"pie\"}]},\"layout\":{\"autotypenumbers\":\"strict\",\"colorway\":[\"#636efa\",\"#EF553B\",\"#00cc96\",\"#ab63fa\",\"#FFA15A\",\"#19d3f3\",\"#FF6692\",\"#B6E880\",\"#FF97FF\",\"#FECB52\"],\"font\":{\"color\":\"#2a3f5f\"},\"hovermode\":\"closest\",\"hoverlabel\":{\"align\":\"left\"},\"paper_bgcolor\":\"white\",\"plot_bgcolor\":\"#E5ECF6\",\"polar\":{\"bgcolor\":\"#E5ECF6\",\"angularaxis\":{\"gridcolor\":\"white\",\"linecolor\":\"white\",\"ticks\":\"\"},\"radialaxis\":{\"gridcolor\":\"white\",\"linecolor\":\"white\",\"ticks\":\"\"}},\"ternary\":{\"bgcolor\":\"#E5ECF6\",\"aaxis\":{\"gridcolor\":\"white\",\"linecolor\":\"white\",\"ticks\":\"\"},\"baxis\":{\"gridcolor\":\"white\",\"linecolor\":\"white\",\"ticks\":\"\"},\"caxis\":{\"gridcolor\":\"white\",\"linecolor\":\"white\",\"ticks\":\"\"}},\"coloraxis\":{\"colorbar\":{\"outlinewidth\":0,\"ticks\":\"\"}},\"colorscale\":{\"sequential\":[[0.0,\"#0d0887\"],[0.1111111111111111,\"#46039f\"],[0.2222222222222222,\"#7201a8\"],[0.3333333333333333,\"#9c179e\"],[0.4444444444444444,\"#bd3786\"],[0.5555555555555556,\"#d8576b\"],[0.6666666666666666,\"#ed7953\"],[0.7777777777777778,\"#fb9f3a\"],[0.8888888888888888,\"#fdca26\"],[1.0,\"#f0f921\"]],\"sequentialminus\":[[0.0,\"#0d0887\"],[0.1111111111111111,\"#46039f\"],[0.2222222222222222,\"#7201a8\"],[0.3333333333333333,\"#9c179e\"],[0.4444444444444444,\"#bd3786\"],[0.5555555555555556,\"#d8576b\"],[0.6666666666666666,\"#ed7953\"],[0.7777777777777778,\"#fb9f3a\"],[0.8888888888888888,\"#fdca26\"],[1.0,\"#f0f921\"]],\"diverging\":[[0,\"#8e0152\"],[0.1,\"#c51b7d\"],[0.2,\"#de77ae\"],[0.3,\"#f1b6da\"],[0.4,\"#fde0ef\"],[0.5,\"#f7f7f7\"],[0.6,\"#e6f5d0\"],[0.7,\"#b8e186\"],[0.8,\"#7fbc41\"],[0.9,\"#4d9221\"],[1,\"#276419\"]]},\"xaxis\":{\"gridcolor\":\"white\",\"linecolor\":\"white\",\"ticks\":\"\",\"title\":{\"standoff\":15},\"zerolinecolor\":\"white\",\"automargin\":true,\"zerolinewidth\":2},\"yaxis\":{\"gridcolor\":\"white\",\"linecolor\":\"white\",\"ticks\":\"\",\"title\":{\"standoff\":15},\"zerolinecolor\":\"white\",\"automargin\":true,\"zerolinewidth\":2},\"scene\":{\"xaxis\":{\"backgroundcolor\":\"#E5ECF6\",\"gridcolor\":\"white\",\"linecolor\":\"white\",\"showbackground\":true,\"ticks\":\"\",\"zerolinecolor\":\"white\",\"gridwidth\":2},\"yaxis\":{\"backgroundcolor\":\"#E5ECF6\",\"gridcolor\":\"white\",\"linecolor\":\"white\",\"showbackground\":true,\"ticks\":\"\",\"zerolinecolor\":\"white\",\"gridwidth\":2},\"zaxis\":{\"backgroundcolor\":\"#E5ECF6\",\"gridcolor\":\"white\",\"linecolor\":\"white\",\"showbackground\":true,\"ticks\":\"\",\"zerolinecolor\":\"white\",\"gridwidth\":2}},\"shapedefaults\":{\"line\":{\"color\":\"#2a3f5f\"}},\"annotationdefaults\":{\"arrowcolor\":\"#2a3f5f\",\"arrowhead\":0,\"arrowwidth\":1},\"geo\":{\"bgcolor\":\"white\",\"landcolor\":\"#E5ECF6\",\"subunitcolor\":\"white\",\"showland\":true,\"showlakes\":true,\"lakecolor\":\"white\"},\"title\":{\"x\":0.05},\"mapbox\":{\"style\":\"light\"}}}},                        {\"responsive\": true}                    ).then(function(){\n",
              "                            \n",
              "var gd = document.getElementById('bca76422-a6f2-49d2-af60-18c8b1acb6f7');\n",
              "var x = new MutationObserver(function (mutations, observer) {{\n",
              "        var display = window.getComputedStyle(gd).display;\n",
              "        if (!display || display === 'none') {{\n",
              "            console.log([gd, 'removed!']);\n",
              "            Plotly.purge(gd);\n",
              "            observer.disconnect();\n",
              "        }}\n",
              "}});\n",
              "\n",
              "// Listen for the removal of the full notebook cells\n",
              "var notebookContainer = gd.closest('#notebook-container');\n",
              "if (notebookContainer) {{\n",
              "    x.observe(notebookContainer, {childList: true});\n",
              "}}\n",
              "\n",
              "// Listen for the clearing of the current output cell\n",
              "var outputEl = gd.closest('.output');\n",
              "if (outputEl) {{\n",
              "    x.observe(outputEl, {childList: true});\n",
              "}}\n",
              "\n",
              "                        })                };                            </script>        </div>\n",
              "</body>\n",
              "</html>"
            ]
          },
          "metadata": {}
        }
      ]
    },
    {
      "cell_type": "code",
      "metadata": {
        "colab": {
          "base_uri": "https://localhost:8080/",
          "height": 562
        },
        "id": "BoWdN7OvJYpF",
        "outputId": "c66ec197-2439-4942-e138-13286206835c"
      },
      "source": [
        "optuna.visualization.plot_slice(study)"
      ],
      "execution_count": 12,
      "outputs": [
        {
          "output_type": "display_data",
          "data": {
            "text/html": [
              "<html>\n",
              "<head><meta charset=\"utf-8\" /></head>\n",
              "<body>\n",
              "    <div>            <script src=\"https://cdnjs.cloudflare.com/ajax/libs/mathjax/2.7.5/MathJax.js?config=TeX-AMS-MML_SVG\"></script><script type=\"text/javascript\">if (window.MathJax && window.MathJax.Hub && window.MathJax.Hub.Config) {window.MathJax.Hub.Config({SVG: {font: \"STIX-Web\"}});}</script>                <script type=\"text/javascript\">window.PlotlyConfig = {MathJaxConfig: 'local'};</script>\n",
              "        <script charset=\"utf-8\" src=\"https://cdn.plot.ly/plotly-2.24.1.min.js\"></script>                <div id=\"cd8c1989-9124-459f-b678-dc94e8fa0a8e\" class=\"plotly-graph-div\" style=\"height:525px; width:2700px;\"></div>            <script type=\"text/javascript\">                                    window.PLOTLYENV=window.PLOTLYENV || {};                                    if (document.getElementById(\"cd8c1989-9124-459f-b678-dc94e8fa0a8e\")) {                    Plotly.newPlot(                        \"cd8c1989-9124-459f-b678-dc94e8fa0a8e\",                        [{\"marker\":{\"color\":[0,1,2,3,4,5,7,8,10,11,12,13,14,15,16,17,21,22,23,24,25,26,31,32,33,40,41,42,43,44,46,48,51,52,53,56,57,58,61,62,64,65,69,71,72,73,81,82,83,84,87,91,92,94],\"colorbar\":{\"title\":{\"text\":\"Trial\"},\"x\":1.0,\"xpad\":40},\"colorscale\":[[0.0,\"rgb(247,251,255)\"],[0.125,\"rgb(222,235,247)\"],[0.25,\"rgb(198,219,239)\"],[0.375,\"rgb(158,202,225)\"],[0.5,\"rgb(107,174,214)\"],[0.625,\"rgb(66,146,198)\"],[0.75,\"rgb(33,113,181)\"],[0.875,\"rgb(8,81,156)\"],[1.0,\"rgb(8,48,107)\"]],\"line\":{\"color\":\"Grey\",\"width\":0.5},\"showscale\":true},\"mode\":\"markers\",\"showlegend\":false,\"x\":[0.3215310431200013,0.3871247141259224,0.2495440686916282,0.4627762008885499,0.4823792027941526,0.33759347151285085,0.43644938762691055,0.3361732347526383,0.20648036814961288,0.2078938739648143,0.27969174606558056,0.2004356353202247,0.21117949344833087,0.24661395370770534,0.28697735319425255,0.20506303086498973,0.20615722318921326,0.22575782105067235,0.23286665411489477,0.22848259552050232,0.26437315085166074,0.23193182193570178,0.22604638853644504,0.26175095358401546,0.22312829582547175,0.25126093225678203,0.23758247967460439,0.2339777526588099,0.200856703173676,0.21453554268299438,0.20055633778873613,0.24245889883887736,0.20448966750971287,0.23529913318424517,0.2418038787544261,0.2129362686436112,0.22972044437331032,0.24522247588138493,0.23148560305207722,0.209971804043357,0.24141918038380347,0.2093072881518177,0.26027002812540534,0.2284673684803269,0.22573037578008745,0.2155497059371757,0.23656017551421735,0.23038369861767055,0.21823435533141078,0.22858903457354962,0.24339221514264384,0.20037635789572364,0.21107082353243736,0.21061152188639826],\"y\":[0.79140625,0.11015625,0.45,0.0828125,0.225,0.65,0.46875,0.7640625,0.7953125,0.70234375,0.74765625,0.83046875,0.8234375,0.809375,0.784375,0.83828125,0.8171875,0.8296875,0.8296875,0.83515625,0.80703125,0.8140625,0.8234375,0.80390625,0.803125,0.8171875,0.821875,0.82109375,0.82734375,0.8078125,0.8125,0.81875,0.8234375,0.8453125,0.84765625,0.825,0.82109375,0.82421875,0.828125,0.80390625,0.8265625,0.8203125,0.81796875,0.8328125,0.825,0.82421875,0.8265625,0.815625,0.821875,0.80390625,0.803125,0.834375,0.840625,0.825],\"type\":\"scatter\",\"xaxis\":\"x\",\"yaxis\":\"y\"},{\"marker\":{\"color\":[0,1,2,3,4,5,7,8,24,25,26,40],\"colorbar\":{\"title\":{\"text\":\"Trial\"},\"x\":1.0,\"xpad\":40},\"colorscale\":[[0.0,\"rgb(247,251,255)\"],[0.125,\"rgb(222,235,247)\"],[0.25,\"rgb(198,219,239)\"],[0.375,\"rgb(158,202,225)\"],[0.5,\"rgb(107,174,214)\"],[0.625,\"rgb(66,146,198)\"],[0.75,\"rgb(33,113,181)\"],[0.875,\"rgb(8,81,156)\"],[1.0,\"rgb(8,48,107)\"]],\"line\":{\"color\":\"Grey\",\"width\":0.5},\"showscale\":false},\"mode\":\"markers\",\"showlegend\":false,\"x\":[0.36561960364472884,0.38128212956858676,0.47272209706183776,0.44785457401107054,0.3755280395003752,0.4789368542867969,0.35202327407753276,0.2912446221377282,0.31402171885893226,0.29763302953905657,0.32295940420398395,0.3048654822381087],\"y\":[0.79140625,0.11015625,0.45,0.0828125,0.225,0.65,0.46875,0.7640625,0.83515625,0.80703125,0.8140625,0.8171875],\"type\":\"scatter\",\"xaxis\":\"x2\",\"yaxis\":\"y2\"},{\"marker\":{\"color\":[0,2,3,4,5,8],\"colorbar\":{\"title\":{\"text\":\"Trial\"},\"x\":1.0,\"xpad\":40},\"colorscale\":[[0.0,\"rgb(247,251,255)\"],[0.125,\"rgb(222,235,247)\"],[0.25,\"rgb(198,219,239)\"],[0.375,\"rgb(158,202,225)\"],[0.5,\"rgb(107,174,214)\"],[0.625,\"rgb(66,146,198)\"],[0.75,\"rgb(33,113,181)\"],[0.875,\"rgb(8,81,156)\"],[1.0,\"rgb(8,48,107)\"]],\"line\":{\"color\":\"Grey\",\"width\":0.5},\"showscale\":false},\"mode\":\"markers\",\"showlegend\":false,\"x\":[0.2324700714598736,0.2032251556240097,0.32745030475225645,0.4883155084056108,0.47135663236860803,0.4394899360744915],\"y\":[0.79140625,0.45,0.0828125,0.225,0.65,0.7640625],\"type\":\"scatter\",\"xaxis\":\"x3\",\"yaxis\":\"y3\"},{\"marker\":{\"color\":[0,1,2,3,4,5,7,8,10,11,12,13,14,15,16,17,21,22,23,24,25,26,31,32,33,40,41,42,43,44,46,48,51,52,53,56,57,58,61,62,64,65,69,71,72,73,81,82,83,84,87,91,92,94],\"colorbar\":{\"title\":{\"text\":\"Trial\"},\"x\":1.0,\"xpad\":40},\"colorscale\":[[0.0,\"rgb(247,251,255)\"],[0.125,\"rgb(222,235,247)\"],[0.25,\"rgb(198,219,239)\"],[0.375,\"rgb(158,202,225)\"],[0.5,\"rgb(107,174,214)\"],[0.625,\"rgb(66,146,198)\"],[0.75,\"rgb(33,113,181)\"],[0.875,\"rgb(8,81,156)\"],[1.0,\"rgb(8,48,107)\"]],\"line\":{\"color\":\"Grey\",\"width\":0.5},\"showscale\":false},\"mode\":\"markers\",\"showlegend\":false,\"x\":[0.011309192760152936,2.6955510999228292e-05,8.343541211125262e-05,0.0003330825722894724,0.018061671796987977,0.09086895002998287,1.2905698879580504e-05,0.0015056782031403013,0.005176062278012314,0.005134515303648322,0.005255056015194876,0.005789947273821288,0.0016747093745763642,0.0010347121109355187,0.000626538342805103,0.002268103630165969,0.0013983092163599514,0.0025460605966166026,0.0032688254899491966,0.010396602093807477,0.01172762021122203,0.009111206841931343,0.0026052521158152642,0.003819000238864771,0.009127032112187612,0.0011428809986836097,0.0033290239148684375,0.0033641689045043987,0.0049134859792387894,0.0018931484801784672,0.011271010811307283,0.004638989294843615,0.005490513505007044,0.004032303972700894,0.0027409775694508588,0.004134816366017598,0.006250043850103055,0.00893822458927584,0.004290485566084959,0.0028827709712828447,0.0035129955028323856,0.005625428986108573,0.003697981569779828,0.004291224651234507,0.004675562948236513,0.008260231254567613,0.00462573119593309,0.004087082110920969,0.0040922445140048344,0.007507907178821863,0.01059198252698538,0.005012929963763963,0.004418715483218483,0.0086491455054703],\"y\":[0.79140625,0.11015625,0.45,0.0828125,0.225,0.65,0.46875,0.7640625,0.7953125,0.70234375,0.74765625,0.83046875,0.8234375,0.809375,0.784375,0.83828125,0.8171875,0.8296875,0.8296875,0.83515625,0.80703125,0.8140625,0.8234375,0.80390625,0.803125,0.8171875,0.821875,0.82109375,0.82734375,0.8078125,0.8125,0.81875,0.8234375,0.8453125,0.84765625,0.825,0.82109375,0.82421875,0.828125,0.80390625,0.8265625,0.8203125,0.81796875,0.8328125,0.825,0.82421875,0.8265625,0.815625,0.821875,0.80390625,0.803125,0.834375,0.840625,0.825],\"type\":\"scatter\",\"xaxis\":\"x4\",\"yaxis\":\"y4\"},{\"marker\":{\"color\":[0,1,2,3,4,5,7,8,10,11,12,13,14,15,16,17,21,22,23,24,25,26,31,32,33,40,41,42,43,44,46,48,51,52,53,56,57,58,61,62,64,65,69,71,72,73,81,82,83,84,87,91,92,94],\"colorbar\":{\"title\":{\"text\":\"Trial\"},\"x\":1.0,\"xpad\":40},\"colorscale\":[[0.0,\"rgb(247,251,255)\"],[0.125,\"rgb(222,235,247)\"],[0.25,\"rgb(198,219,239)\"],[0.375,\"rgb(158,202,225)\"],[0.5,\"rgb(107,174,214)\"],[0.625,\"rgb(66,146,198)\"],[0.75,\"rgb(33,113,181)\"],[0.875,\"rgb(8,81,156)\"],[1.0,\"rgb(8,48,107)\"]],\"line\":{\"color\":\"Grey\",\"width\":0.5},\"showscale\":false},\"mode\":\"markers\",\"showlegend\":false,\"x\":[3,2,3,3,3,3,2,3,1,1,1,1,1,1,1,1,1,1,1,2,2,2,1,1,1,2,1,1,1,1,1,1,1,1,1,1,1,1,1,1,1,1,1,1,1,1,1,1,1,1,1,1,1,1],\"y\":[0.79140625,0.11015625,0.45,0.0828125,0.225,0.65,0.46875,0.7640625,0.7953125,0.70234375,0.74765625,0.83046875,0.8234375,0.809375,0.784375,0.83828125,0.8171875,0.8296875,0.8296875,0.83515625,0.80703125,0.8140625,0.8234375,0.80390625,0.803125,0.8171875,0.821875,0.82109375,0.82734375,0.8078125,0.8125,0.81875,0.8234375,0.8453125,0.84765625,0.825,0.82109375,0.82421875,0.828125,0.80390625,0.8265625,0.8203125,0.81796875,0.8328125,0.825,0.82421875,0.8265625,0.815625,0.821875,0.80390625,0.803125,0.834375,0.840625,0.825],\"type\":\"scatter\",\"xaxis\":\"x5\",\"yaxis\":\"y5\"},{\"marker\":{\"color\":[0,1,2,3,4,5,7,8,10,11,12,13,14,15,16,17,21,22,23,24,25,26,31,32,33,40,41,42,43,44,46,48,51,52,53,56,57,58,61,62,64,65,69,71,72,73,81,82,83,84,87,91,92,94],\"colorbar\":{\"title\":{\"text\":\"Trial\"},\"x\":1.0,\"xpad\":40},\"colorscale\":[[0.0,\"rgb(247,251,255)\"],[0.125,\"rgb(222,235,247)\"],[0.25,\"rgb(198,219,239)\"],[0.375,\"rgb(158,202,225)\"],[0.5,\"rgb(107,174,214)\"],[0.625,\"rgb(66,146,198)\"],[0.75,\"rgb(33,113,181)\"],[0.875,\"rgb(8,81,156)\"],[1.0,\"rgb(8,48,107)\"]],\"line\":{\"color\":\"Grey\",\"width\":0.5},\"showscale\":false},\"mode\":\"markers\",\"showlegend\":false,\"x\":[119,118,42,108,82,53,124,102,13,7,7,71,70,69,62,89,73,79,82,58,58,37,75,78,48,79,84,94,102,81,58,88,103,119,118,118,124,115,97,123,83,72,55,85,76,92,95,99,88,81,68,108,108,115],\"y\":[0.79140625,0.11015625,0.45,0.0828125,0.225,0.65,0.46875,0.7640625,0.7953125,0.70234375,0.74765625,0.83046875,0.8234375,0.809375,0.784375,0.83828125,0.8171875,0.8296875,0.8296875,0.83515625,0.80703125,0.8140625,0.8234375,0.80390625,0.803125,0.8171875,0.821875,0.82109375,0.82734375,0.8078125,0.8125,0.81875,0.8234375,0.8453125,0.84765625,0.825,0.82109375,0.82421875,0.828125,0.80390625,0.8265625,0.8203125,0.81796875,0.8328125,0.825,0.82421875,0.8265625,0.815625,0.821875,0.80390625,0.803125,0.834375,0.840625,0.825],\"type\":\"scatter\",\"xaxis\":\"x6\",\"yaxis\":\"y6\"},{\"marker\":{\"color\":[0,1,2,3,4,5,7,8,24,25,26,40],\"colorbar\":{\"title\":{\"text\":\"Trial\"},\"x\":1.0,\"xpad\":40},\"colorscale\":[[0.0,\"rgb(247,251,255)\"],[0.125,\"rgb(222,235,247)\"],[0.25,\"rgb(198,219,239)\"],[0.375,\"rgb(158,202,225)\"],[0.5,\"rgb(107,174,214)\"],[0.625,\"rgb(66,146,198)\"],[0.75,\"rgb(33,113,181)\"],[0.875,\"rgb(8,81,156)\"],[1.0,\"rgb(8,48,107)\"]],\"line\":{\"color\":\"Grey\",\"width\":0.5},\"showscale\":false},\"mode\":\"markers\",\"showlegend\":false,\"x\":[87,44,108,17,110,27,78,20,127,128,123,116],\"y\":[0.79140625,0.11015625,0.45,0.0828125,0.225,0.65,0.46875,0.7640625,0.83515625,0.80703125,0.8140625,0.8171875],\"type\":\"scatter\",\"xaxis\":\"x7\",\"yaxis\":\"y7\"},{\"marker\":{\"color\":[0,2,3,4,5,8],\"colorbar\":{\"title\":{\"text\":\"Trial\"},\"x\":1.0,\"xpad\":40},\"colorscale\":[[0.0,\"rgb(247,251,255)\"],[0.125,\"rgb(222,235,247)\"],[0.25,\"rgb(198,219,239)\"],[0.375,\"rgb(158,202,225)\"],[0.5,\"rgb(107,174,214)\"],[0.625,\"rgb(66,146,198)\"],[0.75,\"rgb(33,113,181)\"],[0.875,\"rgb(8,81,156)\"],[1.0,\"rgb(8,48,107)\"]],\"line\":{\"color\":\"Grey\",\"width\":0.5},\"showscale\":false},\"mode\":\"markers\",\"showlegend\":false,\"x\":[120,26,96,114,58,53],\"y\":[0.79140625,0.45,0.0828125,0.225,0.65,0.7640625],\"type\":\"scatter\",\"xaxis\":\"x8\",\"yaxis\":\"y8\"},{\"marker\":{\"color\":[0,1,2,3,4,5,7,8,10,11,12,13,14,15,16,17,21,22,23,24,25,26,31,32,33,40,41,42,43,44,46,48,51,52,53,56,57,58,61,62,64,65,69,71,72,73,81,82,83,84,87,91,92,94],\"colorbar\":{\"title\":{\"text\":\"Trial\"},\"x\":1.0,\"xpad\":40},\"colorscale\":[[0.0,\"rgb(247,251,255)\"],[0.125,\"rgb(222,235,247)\"],[0.25,\"rgb(198,219,239)\"],[0.375,\"rgb(158,202,225)\"],[0.5,\"rgb(107,174,214)\"],[0.625,\"rgb(66,146,198)\"],[0.75,\"rgb(33,113,181)\"],[0.875,\"rgb(8,81,156)\"],[1.0,\"rgb(8,48,107)\"]],\"line\":{\"color\":\"Grey\",\"width\":0.5},\"showscale\":false},\"mode\":\"markers\",\"showlegend\":false,\"x\":[\"Adam\",\"SGD\",\"RMSprop\",\"SGD\",\"SGD\",\"SGD\",\"RMSprop\",\"RMSprop\",\"Adam\",\"Adam\",\"Adam\",\"Adam\",\"Adam\",\"Adam\",\"Adam\",\"Adam\",\"Adam\",\"Adam\",\"Adam\",\"Adam\",\"Adam\",\"Adam\",\"Adam\",\"Adam\",\"Adam\",\"RMSprop\",\"Adam\",\"Adam\",\"Adam\",\"Adam\",\"Adam\",\"Adam\",\"Adam\",\"Adam\",\"Adam\",\"Adam\",\"Adam\",\"Adam\",\"Adam\",\"Adam\",\"Adam\",\"Adam\",\"Adam\",\"Adam\",\"Adam\",\"Adam\",\"Adam\",\"Adam\",\"Adam\",\"Adam\",\"Adam\",\"Adam\",\"Adam\",\"Adam\"],\"y\":[0.79140625,0.11015625,0.45,0.0828125,0.225,0.65,0.46875,0.7640625,0.7953125,0.70234375,0.74765625,0.83046875,0.8234375,0.809375,0.784375,0.83828125,0.8171875,0.8296875,0.8296875,0.83515625,0.80703125,0.8140625,0.8234375,0.80390625,0.803125,0.8171875,0.821875,0.82109375,0.82734375,0.8078125,0.8125,0.81875,0.8234375,0.8453125,0.84765625,0.825,0.82109375,0.82421875,0.828125,0.80390625,0.8265625,0.8203125,0.81796875,0.8328125,0.825,0.82421875,0.8265625,0.815625,0.821875,0.80390625,0.803125,0.834375,0.840625,0.825],\"type\":\"scatter\",\"xaxis\":\"x9\",\"yaxis\":\"y9\"}],                        {\"template\":{\"data\":{\"histogram2dcontour\":[{\"type\":\"histogram2dcontour\",\"colorbar\":{\"outlinewidth\":0,\"ticks\":\"\"},\"colorscale\":[[0.0,\"#0d0887\"],[0.1111111111111111,\"#46039f\"],[0.2222222222222222,\"#7201a8\"],[0.3333333333333333,\"#9c179e\"],[0.4444444444444444,\"#bd3786\"],[0.5555555555555556,\"#d8576b\"],[0.6666666666666666,\"#ed7953\"],[0.7777777777777778,\"#fb9f3a\"],[0.8888888888888888,\"#fdca26\"],[1.0,\"#f0f921\"]]}],\"choropleth\":[{\"type\":\"choropleth\",\"colorbar\":{\"outlinewidth\":0,\"ticks\":\"\"}}],\"histogram2d\":[{\"type\":\"histogram2d\",\"colorbar\":{\"outlinewidth\":0,\"ticks\":\"\"},\"colorscale\":[[0.0,\"#0d0887\"],[0.1111111111111111,\"#46039f\"],[0.2222222222222222,\"#7201a8\"],[0.3333333333333333,\"#9c179e\"],[0.4444444444444444,\"#bd3786\"],[0.5555555555555556,\"#d8576b\"],[0.6666666666666666,\"#ed7953\"],[0.7777777777777778,\"#fb9f3a\"],[0.8888888888888888,\"#fdca26\"],[1.0,\"#f0f921\"]]}],\"heatmap\":[{\"type\":\"heatmap\",\"colorbar\":{\"outlinewidth\":0,\"ticks\":\"\"},\"colorscale\":[[0.0,\"#0d0887\"],[0.1111111111111111,\"#46039f\"],[0.2222222222222222,\"#7201a8\"],[0.3333333333333333,\"#9c179e\"],[0.4444444444444444,\"#bd3786\"],[0.5555555555555556,\"#d8576b\"],[0.6666666666666666,\"#ed7953\"],[0.7777777777777778,\"#fb9f3a\"],[0.8888888888888888,\"#fdca26\"],[1.0,\"#f0f921\"]]}],\"heatmapgl\":[{\"type\":\"heatmapgl\",\"colorbar\":{\"outlinewidth\":0,\"ticks\":\"\"},\"colorscale\":[[0.0,\"#0d0887\"],[0.1111111111111111,\"#46039f\"],[0.2222222222222222,\"#7201a8\"],[0.3333333333333333,\"#9c179e\"],[0.4444444444444444,\"#bd3786\"],[0.5555555555555556,\"#d8576b\"],[0.6666666666666666,\"#ed7953\"],[0.7777777777777778,\"#fb9f3a\"],[0.8888888888888888,\"#fdca26\"],[1.0,\"#f0f921\"]]}],\"contourcarpet\":[{\"type\":\"contourcarpet\",\"colorbar\":{\"outlinewidth\":0,\"ticks\":\"\"}}],\"contour\":[{\"type\":\"contour\",\"colorbar\":{\"outlinewidth\":0,\"ticks\":\"\"},\"colorscale\":[[0.0,\"#0d0887\"],[0.1111111111111111,\"#46039f\"],[0.2222222222222222,\"#7201a8\"],[0.3333333333333333,\"#9c179e\"],[0.4444444444444444,\"#bd3786\"],[0.5555555555555556,\"#d8576b\"],[0.6666666666666666,\"#ed7953\"],[0.7777777777777778,\"#fb9f3a\"],[0.8888888888888888,\"#fdca26\"],[1.0,\"#f0f921\"]]}],\"surface\":[{\"type\":\"surface\",\"colorbar\":{\"outlinewidth\":0,\"ticks\":\"\"},\"colorscale\":[[0.0,\"#0d0887\"],[0.1111111111111111,\"#46039f\"],[0.2222222222222222,\"#7201a8\"],[0.3333333333333333,\"#9c179e\"],[0.4444444444444444,\"#bd3786\"],[0.5555555555555556,\"#d8576b\"],[0.6666666666666666,\"#ed7953\"],[0.7777777777777778,\"#fb9f3a\"],[0.8888888888888888,\"#fdca26\"],[1.0,\"#f0f921\"]]}],\"mesh3d\":[{\"type\":\"mesh3d\",\"colorbar\":{\"outlinewidth\":0,\"ticks\":\"\"}}],\"scatter\":[{\"fillpattern\":{\"fillmode\":\"overlay\",\"size\":10,\"solidity\":0.2},\"type\":\"scatter\"}],\"parcoords\":[{\"type\":\"parcoords\",\"line\":{\"colorbar\":{\"outlinewidth\":0,\"ticks\":\"\"}}}],\"scatterpolargl\":[{\"type\":\"scatterpolargl\",\"marker\":{\"colorbar\":{\"outlinewidth\":0,\"ticks\":\"\"}}}],\"bar\":[{\"error_x\":{\"color\":\"#2a3f5f\"},\"error_y\":{\"color\":\"#2a3f5f\"},\"marker\":{\"line\":{\"color\":\"#E5ECF6\",\"width\":0.5},\"pattern\":{\"fillmode\":\"overlay\",\"size\":10,\"solidity\":0.2}},\"type\":\"bar\"}],\"scattergeo\":[{\"type\":\"scattergeo\",\"marker\":{\"colorbar\":{\"outlinewidth\":0,\"ticks\":\"\"}}}],\"scatterpolar\":[{\"type\":\"scatterpolar\",\"marker\":{\"colorbar\":{\"outlinewidth\":0,\"ticks\":\"\"}}}],\"histogram\":[{\"marker\":{\"pattern\":{\"fillmode\":\"overlay\",\"size\":10,\"solidity\":0.2}},\"type\":\"histogram\"}],\"scattergl\":[{\"type\":\"scattergl\",\"marker\":{\"colorbar\":{\"outlinewidth\":0,\"ticks\":\"\"}}}],\"scatter3d\":[{\"type\":\"scatter3d\",\"line\":{\"colorbar\":{\"outlinewidth\":0,\"ticks\":\"\"}},\"marker\":{\"colorbar\":{\"outlinewidth\":0,\"ticks\":\"\"}}}],\"scattermapbox\":[{\"type\":\"scattermapbox\",\"marker\":{\"colorbar\":{\"outlinewidth\":0,\"ticks\":\"\"}}}],\"scatterternary\":[{\"type\":\"scatterternary\",\"marker\":{\"colorbar\":{\"outlinewidth\":0,\"ticks\":\"\"}}}],\"scattercarpet\":[{\"type\":\"scattercarpet\",\"marker\":{\"colorbar\":{\"outlinewidth\":0,\"ticks\":\"\"}}}],\"carpet\":[{\"aaxis\":{\"endlinecolor\":\"#2a3f5f\",\"gridcolor\":\"white\",\"linecolor\":\"white\",\"minorgridcolor\":\"white\",\"startlinecolor\":\"#2a3f5f\"},\"baxis\":{\"endlinecolor\":\"#2a3f5f\",\"gridcolor\":\"white\",\"linecolor\":\"white\",\"minorgridcolor\":\"white\",\"startlinecolor\":\"#2a3f5f\"},\"type\":\"carpet\"}],\"table\":[{\"cells\":{\"fill\":{\"color\":\"#EBF0F8\"},\"line\":{\"color\":\"white\"}},\"header\":{\"fill\":{\"color\":\"#C8D4E3\"},\"line\":{\"color\":\"white\"}},\"type\":\"table\"}],\"barpolar\":[{\"marker\":{\"line\":{\"color\":\"#E5ECF6\",\"width\":0.5},\"pattern\":{\"fillmode\":\"overlay\",\"size\":10,\"solidity\":0.2}},\"type\":\"barpolar\"}],\"pie\":[{\"automargin\":true,\"type\":\"pie\"}]},\"layout\":{\"autotypenumbers\":\"strict\",\"colorway\":[\"#636efa\",\"#EF553B\",\"#00cc96\",\"#ab63fa\",\"#FFA15A\",\"#19d3f3\",\"#FF6692\",\"#B6E880\",\"#FF97FF\",\"#FECB52\"],\"font\":{\"color\":\"#2a3f5f\"},\"hovermode\":\"closest\",\"hoverlabel\":{\"align\":\"left\"},\"paper_bgcolor\":\"white\",\"plot_bgcolor\":\"#E5ECF6\",\"polar\":{\"bgcolor\":\"#E5ECF6\",\"angularaxis\":{\"gridcolor\":\"white\",\"linecolor\":\"white\",\"ticks\":\"\"},\"radialaxis\":{\"gridcolor\":\"white\",\"linecolor\":\"white\",\"ticks\":\"\"}},\"ternary\":{\"bgcolor\":\"#E5ECF6\",\"aaxis\":{\"gridcolor\":\"white\",\"linecolor\":\"white\",\"ticks\":\"\"},\"baxis\":{\"gridcolor\":\"white\",\"linecolor\":\"white\",\"ticks\":\"\"},\"caxis\":{\"gridcolor\":\"white\",\"linecolor\":\"white\",\"ticks\":\"\"}},\"coloraxis\":{\"colorbar\":{\"outlinewidth\":0,\"ticks\":\"\"}},\"colorscale\":{\"sequential\":[[0.0,\"#0d0887\"],[0.1111111111111111,\"#46039f\"],[0.2222222222222222,\"#7201a8\"],[0.3333333333333333,\"#9c179e\"],[0.4444444444444444,\"#bd3786\"],[0.5555555555555556,\"#d8576b\"],[0.6666666666666666,\"#ed7953\"],[0.7777777777777778,\"#fb9f3a\"],[0.8888888888888888,\"#fdca26\"],[1.0,\"#f0f921\"]],\"sequentialminus\":[[0.0,\"#0d0887\"],[0.1111111111111111,\"#46039f\"],[0.2222222222222222,\"#7201a8\"],[0.3333333333333333,\"#9c179e\"],[0.4444444444444444,\"#bd3786\"],[0.5555555555555556,\"#d8576b\"],[0.6666666666666666,\"#ed7953\"],[0.7777777777777778,\"#fb9f3a\"],[0.8888888888888888,\"#fdca26\"],[1.0,\"#f0f921\"]],\"diverging\":[[0,\"#8e0152\"],[0.1,\"#c51b7d\"],[0.2,\"#de77ae\"],[0.3,\"#f1b6da\"],[0.4,\"#fde0ef\"],[0.5,\"#f7f7f7\"],[0.6,\"#e6f5d0\"],[0.7,\"#b8e186\"],[0.8,\"#7fbc41\"],[0.9,\"#4d9221\"],[1,\"#276419\"]]},\"xaxis\":{\"gridcolor\":\"white\",\"linecolor\":\"white\",\"ticks\":\"\",\"title\":{\"standoff\":15},\"zerolinecolor\":\"white\",\"automargin\":true,\"zerolinewidth\":2},\"yaxis\":{\"gridcolor\":\"white\",\"linecolor\":\"white\",\"ticks\":\"\",\"title\":{\"standoff\":15},\"zerolinecolor\":\"white\",\"automargin\":true,\"zerolinewidth\":2},\"scene\":{\"xaxis\":{\"backgroundcolor\":\"#E5ECF6\",\"gridcolor\":\"white\",\"linecolor\":\"white\",\"showbackground\":true,\"ticks\":\"\",\"zerolinecolor\":\"white\",\"gridwidth\":2},\"yaxis\":{\"backgroundcolor\":\"#E5ECF6\",\"gridcolor\":\"white\",\"linecolor\":\"white\",\"showbackground\":true,\"ticks\":\"\",\"zerolinecolor\":\"white\",\"gridwidth\":2},\"zaxis\":{\"backgroundcolor\":\"#E5ECF6\",\"gridcolor\":\"white\",\"linecolor\":\"white\",\"showbackground\":true,\"ticks\":\"\",\"zerolinecolor\":\"white\",\"gridwidth\":2}},\"shapedefaults\":{\"line\":{\"color\":\"#2a3f5f\"}},\"annotationdefaults\":{\"arrowcolor\":\"#2a3f5f\",\"arrowhead\":0,\"arrowwidth\":1},\"geo\":{\"bgcolor\":\"white\",\"landcolor\":\"#E5ECF6\",\"subunitcolor\":\"white\",\"showland\":true,\"showlakes\":true,\"lakecolor\":\"white\"},\"title\":{\"x\":0.05},\"mapbox\":{\"style\":\"light\"}}},\"xaxis\":{\"anchor\":\"y\",\"domain\":[0.0,0.09135802469135802],\"title\":{\"text\":\"dropout_l0\"}},\"yaxis\":{\"anchor\":\"x\",\"domain\":[0.0,1.0],\"title\":{\"text\":\"Objective Value\"}},\"xaxis2\":{\"anchor\":\"y2\",\"domain\":[0.11358024691358025,0.20493827160493827],\"title\":{\"text\":\"dropout_l1\"}},\"yaxis2\":{\"anchor\":\"x2\",\"domain\":[0.0,1.0],\"matches\":\"y\",\"showticklabels\":false},\"xaxis3\":{\"anchor\":\"y3\",\"domain\":[0.2271604938271605,0.31851851851851853],\"title\":{\"text\":\"dropout_l2\"}},\"yaxis3\":{\"anchor\":\"x3\",\"domain\":[0.0,1.0],\"matches\":\"y\",\"showticklabels\":false},\"xaxis4\":{\"anchor\":\"y4\",\"domain\":[0.34074074074074073,0.43209876543209874],\"title\":{\"text\":\"lr\"},\"type\":\"log\"},\"yaxis4\":{\"anchor\":\"x4\",\"domain\":[0.0,1.0],\"matches\":\"y\",\"showticklabels\":false},\"xaxis5\":{\"anchor\":\"y5\",\"domain\":[0.454320987654321,0.5456790123456791],\"title\":{\"text\":\"n_layers\"}},\"yaxis5\":{\"anchor\":\"x5\",\"domain\":[0.0,1.0],\"matches\":\"y\",\"showticklabels\":false},\"xaxis6\":{\"anchor\":\"y6\",\"domain\":[0.5679012345679012,0.6592592592592592],\"title\":{\"text\":\"n_units_l0\"}},\"yaxis6\":{\"anchor\":\"x6\",\"domain\":[0.0,1.0],\"matches\":\"y\",\"showticklabels\":false},\"xaxis7\":{\"anchor\":\"y7\",\"domain\":[0.6814814814814815,0.7728395061728395],\"title\":{\"text\":\"n_units_l1\"}},\"yaxis7\":{\"anchor\":\"x7\",\"domain\":[0.0,1.0],\"matches\":\"y\",\"showticklabels\":false},\"xaxis8\":{\"anchor\":\"y8\",\"domain\":[0.7950617283950617,0.8864197530864197],\"title\":{\"text\":\"n_units_l2\"}},\"yaxis8\":{\"anchor\":\"x8\",\"domain\":[0.0,1.0],\"matches\":\"y\",\"showticklabels\":false},\"xaxis9\":{\"anchor\":\"y9\",\"domain\":[0.908641975308642,1.0],\"title\":{\"text\":\"optimizer\"},\"type\":\"category\",\"categoryorder\":\"array\",\"categoryarray\":[\"Adam\",\"RMSprop\",\"SGD\"]},\"yaxis9\":{\"anchor\":\"x9\",\"domain\":[0.0,1.0],\"matches\":\"y\",\"showticklabels\":false},\"title\":{\"text\":\"Slice Plot\"},\"width\":2700},                        {\"responsive\": true}                    ).then(function(){\n",
              "                            \n",
              "var gd = document.getElementById('cd8c1989-9124-459f-b678-dc94e8fa0a8e');\n",
              "var x = new MutationObserver(function (mutations, observer) {{\n",
              "        var display = window.getComputedStyle(gd).display;\n",
              "        if (!display || display === 'none') {{\n",
              "            console.log([gd, 'removed!']);\n",
              "            Plotly.purge(gd);\n",
              "            observer.disconnect();\n",
              "        }}\n",
              "}});\n",
              "\n",
              "// Listen for the removal of the full notebook cells\n",
              "var notebookContainer = gd.closest('#notebook-container');\n",
              "if (notebookContainer) {{\n",
              "    x.observe(notebookContainer, {childList: true});\n",
              "}}\n",
              "\n",
              "// Listen for the clearing of the current output cell\n",
              "var outputEl = gd.closest('.output');\n",
              "if (outputEl) {{\n",
              "    x.observe(outputEl, {childList: true});\n",
              "}}\n",
              "\n",
              "                        })                };                            </script>        </div>\n",
              "</body>\n",
              "</html>"
            ]
          },
          "metadata": {}
        }
      ]
    },
    {
      "cell_type": "code",
      "metadata": {
        "colab": {
          "base_uri": "https://localhost:8080/",
          "height": 542
        },
        "id": "djXo36qmKpp8",
        "outputId": "737ddae1-02df-44a5-9ecd-9ff03e7cbbbe"
      },
      "source": [
        "optuna.visualization.plot_slice(study, ['optimizer'])"
      ],
      "execution_count": 13,
      "outputs": [
        {
          "output_type": "display_data",
          "data": {
            "text/html": [
              "<html>\n",
              "<head><meta charset=\"utf-8\" /></head>\n",
              "<body>\n",
              "    <div>            <script src=\"https://cdnjs.cloudflare.com/ajax/libs/mathjax/2.7.5/MathJax.js?config=TeX-AMS-MML_SVG\"></script><script type=\"text/javascript\">if (window.MathJax && window.MathJax.Hub && window.MathJax.Hub.Config) {window.MathJax.Hub.Config({SVG: {font: \"STIX-Web\"}});}</script>                <script type=\"text/javascript\">window.PlotlyConfig = {MathJaxConfig: 'local'};</script>\n",
              "        <script charset=\"utf-8\" src=\"https://cdn.plot.ly/plotly-2.24.1.min.js\"></script>                <div id=\"5d46cfb1-e5a3-4c3f-af71-2333d64874a5\" class=\"plotly-graph-div\" style=\"height:525px; width:100%;\"></div>            <script type=\"text/javascript\">                                    window.PLOTLYENV=window.PLOTLYENV || {};                                    if (document.getElementById(\"5d46cfb1-e5a3-4c3f-af71-2333d64874a5\")) {                    Plotly.newPlot(                        \"5d46cfb1-e5a3-4c3f-af71-2333d64874a5\",                        [{\"marker\":{\"color\":[0,1,2,3,4,5,7,8,10,11,12,13,14,15,16,17,21,22,23,24,25,26,31,32,33,40,41,42,43,44,46,48,51,52,53,56,57,58,61,62,64,65,69,71,72,73,81,82,83,84,87,91,92,94],\"colorbar\":{\"title\":{\"text\":\"Trial\"},\"x\":1.0,\"xpad\":40},\"colorscale\":[[0.0,\"rgb(247,251,255)\"],[0.125,\"rgb(222,235,247)\"],[0.25,\"rgb(198,219,239)\"],[0.375,\"rgb(158,202,225)\"],[0.5,\"rgb(107,174,214)\"],[0.625,\"rgb(66,146,198)\"],[0.75,\"rgb(33,113,181)\"],[0.875,\"rgb(8,81,156)\"],[1.0,\"rgb(8,48,107)\"]],\"line\":{\"color\":\"Grey\",\"width\":0.5}},\"mode\":\"markers\",\"showlegend\":false,\"x\":[\"Adam\",\"SGD\",\"RMSprop\",\"SGD\",\"SGD\",\"SGD\",\"RMSprop\",\"RMSprop\",\"Adam\",\"Adam\",\"Adam\",\"Adam\",\"Adam\",\"Adam\",\"Adam\",\"Adam\",\"Adam\",\"Adam\",\"Adam\",\"Adam\",\"Adam\",\"Adam\",\"Adam\",\"Adam\",\"Adam\",\"RMSprop\",\"Adam\",\"Adam\",\"Adam\",\"Adam\",\"Adam\",\"Adam\",\"Adam\",\"Adam\",\"Adam\",\"Adam\",\"Adam\",\"Adam\",\"Adam\",\"Adam\",\"Adam\",\"Adam\",\"Adam\",\"Adam\",\"Adam\",\"Adam\",\"Adam\",\"Adam\",\"Adam\",\"Adam\",\"Adam\",\"Adam\",\"Adam\",\"Adam\"],\"y\":[0.79140625,0.11015625,0.45,0.0828125,0.225,0.65,0.46875,0.7640625,0.7953125,0.70234375,0.74765625,0.83046875,0.8234375,0.809375,0.784375,0.83828125,0.8171875,0.8296875,0.8296875,0.83515625,0.80703125,0.8140625,0.8234375,0.80390625,0.803125,0.8171875,0.821875,0.82109375,0.82734375,0.8078125,0.8125,0.81875,0.8234375,0.8453125,0.84765625,0.825,0.82109375,0.82421875,0.828125,0.80390625,0.8265625,0.8203125,0.81796875,0.8328125,0.825,0.82421875,0.8265625,0.815625,0.821875,0.80390625,0.803125,0.834375,0.840625,0.825],\"type\":\"scatter\"}],                        {\"title\":{\"text\":\"Slice Plot\"},\"template\":{\"data\":{\"histogram2dcontour\":[{\"type\":\"histogram2dcontour\",\"colorbar\":{\"outlinewidth\":0,\"ticks\":\"\"},\"colorscale\":[[0.0,\"#0d0887\"],[0.1111111111111111,\"#46039f\"],[0.2222222222222222,\"#7201a8\"],[0.3333333333333333,\"#9c179e\"],[0.4444444444444444,\"#bd3786\"],[0.5555555555555556,\"#d8576b\"],[0.6666666666666666,\"#ed7953\"],[0.7777777777777778,\"#fb9f3a\"],[0.8888888888888888,\"#fdca26\"],[1.0,\"#f0f921\"]]}],\"choropleth\":[{\"type\":\"choropleth\",\"colorbar\":{\"outlinewidth\":0,\"ticks\":\"\"}}],\"histogram2d\":[{\"type\":\"histogram2d\",\"colorbar\":{\"outlinewidth\":0,\"ticks\":\"\"},\"colorscale\":[[0.0,\"#0d0887\"],[0.1111111111111111,\"#46039f\"],[0.2222222222222222,\"#7201a8\"],[0.3333333333333333,\"#9c179e\"],[0.4444444444444444,\"#bd3786\"],[0.5555555555555556,\"#d8576b\"],[0.6666666666666666,\"#ed7953\"],[0.7777777777777778,\"#fb9f3a\"],[0.8888888888888888,\"#fdca26\"],[1.0,\"#f0f921\"]]}],\"heatmap\":[{\"type\":\"heatmap\",\"colorbar\":{\"outlinewidth\":0,\"ticks\":\"\"},\"colorscale\":[[0.0,\"#0d0887\"],[0.1111111111111111,\"#46039f\"],[0.2222222222222222,\"#7201a8\"],[0.3333333333333333,\"#9c179e\"],[0.4444444444444444,\"#bd3786\"],[0.5555555555555556,\"#d8576b\"],[0.6666666666666666,\"#ed7953\"],[0.7777777777777778,\"#fb9f3a\"],[0.8888888888888888,\"#fdca26\"],[1.0,\"#f0f921\"]]}],\"heatmapgl\":[{\"type\":\"heatmapgl\",\"colorbar\":{\"outlinewidth\":0,\"ticks\":\"\"},\"colorscale\":[[0.0,\"#0d0887\"],[0.1111111111111111,\"#46039f\"],[0.2222222222222222,\"#7201a8\"],[0.3333333333333333,\"#9c179e\"],[0.4444444444444444,\"#bd3786\"],[0.5555555555555556,\"#d8576b\"],[0.6666666666666666,\"#ed7953\"],[0.7777777777777778,\"#fb9f3a\"],[0.8888888888888888,\"#fdca26\"],[1.0,\"#f0f921\"]]}],\"contourcarpet\":[{\"type\":\"contourcarpet\",\"colorbar\":{\"outlinewidth\":0,\"ticks\":\"\"}}],\"contour\":[{\"type\":\"contour\",\"colorbar\":{\"outlinewidth\":0,\"ticks\":\"\"},\"colorscale\":[[0.0,\"#0d0887\"],[0.1111111111111111,\"#46039f\"],[0.2222222222222222,\"#7201a8\"],[0.3333333333333333,\"#9c179e\"],[0.4444444444444444,\"#bd3786\"],[0.5555555555555556,\"#d8576b\"],[0.6666666666666666,\"#ed7953\"],[0.7777777777777778,\"#fb9f3a\"],[0.8888888888888888,\"#fdca26\"],[1.0,\"#f0f921\"]]}],\"surface\":[{\"type\":\"surface\",\"colorbar\":{\"outlinewidth\":0,\"ticks\":\"\"},\"colorscale\":[[0.0,\"#0d0887\"],[0.1111111111111111,\"#46039f\"],[0.2222222222222222,\"#7201a8\"],[0.3333333333333333,\"#9c179e\"],[0.4444444444444444,\"#bd3786\"],[0.5555555555555556,\"#d8576b\"],[0.6666666666666666,\"#ed7953\"],[0.7777777777777778,\"#fb9f3a\"],[0.8888888888888888,\"#fdca26\"],[1.0,\"#f0f921\"]]}],\"mesh3d\":[{\"type\":\"mesh3d\",\"colorbar\":{\"outlinewidth\":0,\"ticks\":\"\"}}],\"scatter\":[{\"fillpattern\":{\"fillmode\":\"overlay\",\"size\":10,\"solidity\":0.2},\"type\":\"scatter\"}],\"parcoords\":[{\"type\":\"parcoords\",\"line\":{\"colorbar\":{\"outlinewidth\":0,\"ticks\":\"\"}}}],\"scatterpolargl\":[{\"type\":\"scatterpolargl\",\"marker\":{\"colorbar\":{\"outlinewidth\":0,\"ticks\":\"\"}}}],\"bar\":[{\"error_x\":{\"color\":\"#2a3f5f\"},\"error_y\":{\"color\":\"#2a3f5f\"},\"marker\":{\"line\":{\"color\":\"#E5ECF6\",\"width\":0.5},\"pattern\":{\"fillmode\":\"overlay\",\"size\":10,\"solidity\":0.2}},\"type\":\"bar\"}],\"scattergeo\":[{\"type\":\"scattergeo\",\"marker\":{\"colorbar\":{\"outlinewidth\":0,\"ticks\":\"\"}}}],\"scatterpolar\":[{\"type\":\"scatterpolar\",\"marker\":{\"colorbar\":{\"outlinewidth\":0,\"ticks\":\"\"}}}],\"histogram\":[{\"marker\":{\"pattern\":{\"fillmode\":\"overlay\",\"size\":10,\"solidity\":0.2}},\"type\":\"histogram\"}],\"scattergl\":[{\"type\":\"scattergl\",\"marker\":{\"colorbar\":{\"outlinewidth\":0,\"ticks\":\"\"}}}],\"scatter3d\":[{\"type\":\"scatter3d\",\"line\":{\"colorbar\":{\"outlinewidth\":0,\"ticks\":\"\"}},\"marker\":{\"colorbar\":{\"outlinewidth\":0,\"ticks\":\"\"}}}],\"scattermapbox\":[{\"type\":\"scattermapbox\",\"marker\":{\"colorbar\":{\"outlinewidth\":0,\"ticks\":\"\"}}}],\"scatterternary\":[{\"type\":\"scatterternary\",\"marker\":{\"colorbar\":{\"outlinewidth\":0,\"ticks\":\"\"}}}],\"scattercarpet\":[{\"type\":\"scattercarpet\",\"marker\":{\"colorbar\":{\"outlinewidth\":0,\"ticks\":\"\"}}}],\"carpet\":[{\"aaxis\":{\"endlinecolor\":\"#2a3f5f\",\"gridcolor\":\"white\",\"linecolor\":\"white\",\"minorgridcolor\":\"white\",\"startlinecolor\":\"#2a3f5f\"},\"baxis\":{\"endlinecolor\":\"#2a3f5f\",\"gridcolor\":\"white\",\"linecolor\":\"white\",\"minorgridcolor\":\"white\",\"startlinecolor\":\"#2a3f5f\"},\"type\":\"carpet\"}],\"table\":[{\"cells\":{\"fill\":{\"color\":\"#EBF0F8\"},\"line\":{\"color\":\"white\"}},\"header\":{\"fill\":{\"color\":\"#C8D4E3\"},\"line\":{\"color\":\"white\"}},\"type\":\"table\"}],\"barpolar\":[{\"marker\":{\"line\":{\"color\":\"#E5ECF6\",\"width\":0.5},\"pattern\":{\"fillmode\":\"overlay\",\"size\":10,\"solidity\":0.2}},\"type\":\"barpolar\"}],\"pie\":[{\"automargin\":true,\"type\":\"pie\"}]},\"layout\":{\"autotypenumbers\":\"strict\",\"colorway\":[\"#636efa\",\"#EF553B\",\"#00cc96\",\"#ab63fa\",\"#FFA15A\",\"#19d3f3\",\"#FF6692\",\"#B6E880\",\"#FF97FF\",\"#FECB52\"],\"font\":{\"color\":\"#2a3f5f\"},\"hovermode\":\"closest\",\"hoverlabel\":{\"align\":\"left\"},\"paper_bgcolor\":\"white\",\"plot_bgcolor\":\"#E5ECF6\",\"polar\":{\"bgcolor\":\"#E5ECF6\",\"angularaxis\":{\"gridcolor\":\"white\",\"linecolor\":\"white\",\"ticks\":\"\"},\"radialaxis\":{\"gridcolor\":\"white\",\"linecolor\":\"white\",\"ticks\":\"\"}},\"ternary\":{\"bgcolor\":\"#E5ECF6\",\"aaxis\":{\"gridcolor\":\"white\",\"linecolor\":\"white\",\"ticks\":\"\"},\"baxis\":{\"gridcolor\":\"white\",\"linecolor\":\"white\",\"ticks\":\"\"},\"caxis\":{\"gridcolor\":\"white\",\"linecolor\":\"white\",\"ticks\":\"\"}},\"coloraxis\":{\"colorbar\":{\"outlinewidth\":0,\"ticks\":\"\"}},\"colorscale\":{\"sequential\":[[0.0,\"#0d0887\"],[0.1111111111111111,\"#46039f\"],[0.2222222222222222,\"#7201a8\"],[0.3333333333333333,\"#9c179e\"],[0.4444444444444444,\"#bd3786\"],[0.5555555555555556,\"#d8576b\"],[0.6666666666666666,\"#ed7953\"],[0.7777777777777778,\"#fb9f3a\"],[0.8888888888888888,\"#fdca26\"],[1.0,\"#f0f921\"]],\"sequentialminus\":[[0.0,\"#0d0887\"],[0.1111111111111111,\"#46039f\"],[0.2222222222222222,\"#7201a8\"],[0.3333333333333333,\"#9c179e\"],[0.4444444444444444,\"#bd3786\"],[0.5555555555555556,\"#d8576b\"],[0.6666666666666666,\"#ed7953\"],[0.7777777777777778,\"#fb9f3a\"],[0.8888888888888888,\"#fdca26\"],[1.0,\"#f0f921\"]],\"diverging\":[[0,\"#8e0152\"],[0.1,\"#c51b7d\"],[0.2,\"#de77ae\"],[0.3,\"#f1b6da\"],[0.4,\"#fde0ef\"],[0.5,\"#f7f7f7\"],[0.6,\"#e6f5d0\"],[0.7,\"#b8e186\"],[0.8,\"#7fbc41\"],[0.9,\"#4d9221\"],[1,\"#276419\"]]},\"xaxis\":{\"gridcolor\":\"white\",\"linecolor\":\"white\",\"ticks\":\"\",\"title\":{\"standoff\":15},\"zerolinecolor\":\"white\",\"automargin\":true,\"zerolinewidth\":2},\"yaxis\":{\"gridcolor\":\"white\",\"linecolor\":\"white\",\"ticks\":\"\",\"title\":{\"standoff\":15},\"zerolinecolor\":\"white\",\"automargin\":true,\"zerolinewidth\":2},\"scene\":{\"xaxis\":{\"backgroundcolor\":\"#E5ECF6\",\"gridcolor\":\"white\",\"linecolor\":\"white\",\"showbackground\":true,\"ticks\":\"\",\"zerolinecolor\":\"white\",\"gridwidth\":2},\"yaxis\":{\"backgroundcolor\":\"#E5ECF6\",\"gridcolor\":\"white\",\"linecolor\":\"white\",\"showbackground\":true,\"ticks\":\"\",\"zerolinecolor\":\"white\",\"gridwidth\":2},\"zaxis\":{\"backgroundcolor\":\"#E5ECF6\",\"gridcolor\":\"white\",\"linecolor\":\"white\",\"showbackground\":true,\"ticks\":\"\",\"zerolinecolor\":\"white\",\"gridwidth\":2}},\"shapedefaults\":{\"line\":{\"color\":\"#2a3f5f\"}},\"annotationdefaults\":{\"arrowcolor\":\"#2a3f5f\",\"arrowhead\":0,\"arrowwidth\":1},\"geo\":{\"bgcolor\":\"white\",\"landcolor\":\"#E5ECF6\",\"subunitcolor\":\"white\",\"showland\":true,\"showlakes\":true,\"lakecolor\":\"white\"},\"title\":{\"x\":0.05},\"mapbox\":{\"style\":\"light\"}}},\"xaxis\":{\"title\":{\"text\":\"optimizer\"},\"type\":\"category\",\"categoryorder\":\"array\",\"categoryarray\":[\"Adam\",\"RMSprop\",\"SGD\"]},\"yaxis\":{\"title\":{\"text\":\"Objective Value\"}}},                        {\"responsive\": true}                    ).then(function(){\n",
              "                            \n",
              "var gd = document.getElementById('5d46cfb1-e5a3-4c3f-af71-2333d64874a5');\n",
              "var x = new MutationObserver(function (mutations, observer) {{\n",
              "        var display = window.getComputedStyle(gd).display;\n",
              "        if (!display || display === 'none') {{\n",
              "            console.log([gd, 'removed!']);\n",
              "            Plotly.purge(gd);\n",
              "            observer.disconnect();\n",
              "        }}\n",
              "}});\n",
              "\n",
              "// Listen for the removal of the full notebook cells\n",
              "var notebookContainer = gd.closest('#notebook-container');\n",
              "if (notebookContainer) {{\n",
              "    x.observe(notebookContainer, {childList: true});\n",
              "}}\n",
              "\n",
              "// Listen for the clearing of the current output cell\n",
              "var outputEl = gd.closest('.output');\n",
              "if (outputEl) {{\n",
              "    x.observe(outputEl, {childList: true});\n",
              "}}\n",
              "\n",
              "                        })                };                            </script>        </div>\n",
              "</body>\n",
              "</html>"
            ]
          },
          "metadata": {}
        }
      ]
    },
    {
      "cell_type": "code",
      "metadata": {
        "colab": {
          "base_uri": "https://localhost:8080/",
          "height": 542
        },
        "id": "-wxKt65LK4Rz",
        "outputId": "aa3c15f1-5b98-4cac-da1d-f1d15e10a366"
      },
      "source": [
        "optuna.visualization.plot_contour(study, ['lr', 'optimizer'])"
      ],
      "execution_count": 14,
      "outputs": [
        {
          "output_type": "display_data",
          "data": {
            "text/html": [
              "<html>\n",
              "<head><meta charset=\"utf-8\" /></head>\n",
              "<body>\n",
              "    <div>            <script src=\"https://cdnjs.cloudflare.com/ajax/libs/mathjax/2.7.5/MathJax.js?config=TeX-AMS-MML_SVG\"></script><script type=\"text/javascript\">if (window.MathJax && window.MathJax.Hub && window.MathJax.Hub.Config) {window.MathJax.Hub.Config({SVG: {font: \"STIX-Web\"}});}</script>                <script type=\"text/javascript\">window.PlotlyConfig = {MathJaxConfig: 'local'};</script>\n",
              "        <script charset=\"utf-8\" src=\"https://cdn.plot.ly/plotly-2.24.1.min.js\"></script>                <div id=\"f439fe29-6a1b-425f-89bd-554af898d933\" class=\"plotly-graph-div\" style=\"height:525px; width:100%;\"></div>            <script type=\"text/javascript\">                                    window.PLOTLYENV=window.PLOTLYENV || {};                                    if (document.getElementById(\"f439fe29-6a1b-425f-89bd-554af898d933\")) {                    Plotly.newPlot(                        \"f439fe29-6a1b-425f-89bd-554af898d933\",                        [{\"colorbar\":{\"title\":{\"text\":\"Objective Value\"}},\"colorscale\":[[0.0,\"rgb(247,251,255)\"],[0.125,\"rgb(222,235,247)\"],[0.25,\"rgb(198,219,239)\"],[0.375,\"rgb(158,202,225)\"],[0.5,\"rgb(107,174,214)\"],[0.625,\"rgb(66,146,198)\"],[0.75,\"rgb(33,113,181)\"],[0.875,\"rgb(8,81,156)\"],[1.0,\"rgb(8,48,107)\"]],\"connectgaps\":true,\"contours\":{\"coloring\":\"heatmap\"},\"hoverinfo\":\"none\",\"line\":{\"smoothing\":1.3},\"reversescale\":false,\"x\":[8.28704750975949e-06,1.2905698879580504e-05,2.6955510999228292e-05,8.343541211125262e-05,0.0003330825722894724,0.000626538342805103,0.0010347121109355187,0.0011428809986836097,0.0013983092163599514,0.0015056782031403013,0.0016747093745763642,0.0018931484801784672,0.002268103630165969,0.0025460605966166026,0.0026052521158152642,0.0027409775694508588,0.0028827709712828447,0.0032688254899491966,0.0033290239148684375,0.0033641689045043987,0.0035129955028323856,0.003697981569779828,0.003819000238864771,0.004032303972700894,0.004087082110920969,0.0040922445140048344,0.004134816366017598,0.004290485566084959,0.004291224651234507,0.004418715483218483,0.00462573119593309,0.004638989294843615,0.004675562948236513,0.0049134859792387894,0.005012929963763963,0.005134515303648322,0.005176062278012314,0.005255056015194876,0.005490513505007044,0.005625428986108573,0.005789947273821288,0.006250043850103055,0.007507907178821863,0.008260231254567613,0.0086491455054703,0.00893822458927584,0.009111206841931343,0.009127032112187612,0.010396602093807477,0.01059198252698538,0.011271010811307283,0.011309192760152936,0.01172762021122203,0.018061671796987977,0.09086895002998287,0.1415132838576715],\"y\":[\"Adam\",\"RMSprop\",\"SGD\"],\"z\":[[null,null,null,null,null,0.784375,0.809375,null,0.8171875,null,0.8234375,0.8078125,0.83828125,0.8296875,0.8234375,0.84765625,0.80390625,0.8296875,0.821875,0.82109375,0.8265625,0.81796875,0.80390625,0.8453125,0.815625,0.821875,0.825,0.828125,0.8328125,0.840625,0.8265625,0.81875,0.825,0.82734375,0.834375,0.70234375,0.7953125,0.74765625,0.8234375,0.8203125,0.83046875,0.82109375,0.80390625,0.82421875,0.825,0.82421875,0.8140625,0.803125,0.83515625,0.803125,0.8125,0.79140625,0.80703125,null,null,null],[null,0.46875,null,0.45,null,null,null,0.8171875,null,0.7640625,null,null,null,null,null,null,null,null,null,null,null,null,null,null,null,null,null,null,null,null,null,null,null,null,null,null,null,null,null,null,null,null,null,null,null,null,null,null,null,null,null,null,null,null,null,null],[null,null,0.11015625,null,0.0828125,null,null,null,null,null,null,null,null,null,null,null,null,null,null,null,null,null,null,null,null,null,null,null,null,null,null,null,null,null,null,null,null,null,null,null,null,null,null,null,null,null,null,null,null,null,null,null,null,0.225,0.65,null]],\"type\":\"contour\"},{\"marker\":{\"color\":\"black\",\"line\":{\"color\":\"Grey\",\"width\":2.0}},\"mode\":\"markers\",\"showlegend\":false,\"x\":[0.011309192760152936,2.6955510999228292e-05,8.343541211125262e-05,0.0003330825722894724,0.018061671796987977,0.09086895002998287,1.2905698879580504e-05,0.0015056782031403013,0.005176062278012314,0.005134515303648322,0.005255056015194876,0.005789947273821288,0.0016747093745763642,0.0010347121109355187,0.000626538342805103,0.002268103630165969,0.0013983092163599514,0.0025460605966166026,0.0032688254899491966,0.010396602093807477,0.01172762021122203,0.009111206841931343,0.0026052521158152642,0.003819000238864771,0.009127032112187612,0.0011428809986836097,0.0033290239148684375,0.0033641689045043987,0.0049134859792387894,0.0018931484801784672,0.011271010811307283,0.004638989294843615,0.005490513505007044,0.004032303972700894,0.0027409775694508588,0.004134816366017598,0.006250043850103055,0.00893822458927584,0.004290485566084959,0.0028827709712828447,0.0035129955028323856,0.005625428986108573,0.003697981569779828,0.004291224651234507,0.004675562948236513,0.008260231254567613,0.00462573119593309,0.004087082110920969,0.0040922445140048344,0.007507907178821863,0.01059198252698538,0.005012929963763963,0.004418715483218483,0.0086491455054703],\"y\":[\"Adam\",\"SGD\",\"RMSprop\",\"SGD\",\"SGD\",\"SGD\",\"RMSprop\",\"RMSprop\",\"Adam\",\"Adam\",\"Adam\",\"Adam\",\"Adam\",\"Adam\",\"Adam\",\"Adam\",\"Adam\",\"Adam\",\"Adam\",\"Adam\",\"Adam\",\"Adam\",\"Adam\",\"Adam\",\"Adam\",\"RMSprop\",\"Adam\",\"Adam\",\"Adam\",\"Adam\",\"Adam\",\"Adam\",\"Adam\",\"Adam\",\"Adam\",\"Adam\",\"Adam\",\"Adam\",\"Adam\",\"Adam\",\"Adam\",\"Adam\",\"Adam\",\"Adam\",\"Adam\",\"Adam\",\"Adam\",\"Adam\",\"Adam\",\"Adam\",\"Adam\",\"Adam\",\"Adam\",\"Adam\"],\"type\":\"scatter\"}],                        {\"title\":{\"text\":\"Contour Plot\"},\"template\":{\"data\":{\"histogram2dcontour\":[{\"type\":\"histogram2dcontour\",\"colorbar\":{\"outlinewidth\":0,\"ticks\":\"\"},\"colorscale\":[[0.0,\"#0d0887\"],[0.1111111111111111,\"#46039f\"],[0.2222222222222222,\"#7201a8\"],[0.3333333333333333,\"#9c179e\"],[0.4444444444444444,\"#bd3786\"],[0.5555555555555556,\"#d8576b\"],[0.6666666666666666,\"#ed7953\"],[0.7777777777777778,\"#fb9f3a\"],[0.8888888888888888,\"#fdca26\"],[1.0,\"#f0f921\"]]}],\"choropleth\":[{\"type\":\"choropleth\",\"colorbar\":{\"outlinewidth\":0,\"ticks\":\"\"}}],\"histogram2d\":[{\"type\":\"histogram2d\",\"colorbar\":{\"outlinewidth\":0,\"ticks\":\"\"},\"colorscale\":[[0.0,\"#0d0887\"],[0.1111111111111111,\"#46039f\"],[0.2222222222222222,\"#7201a8\"],[0.3333333333333333,\"#9c179e\"],[0.4444444444444444,\"#bd3786\"],[0.5555555555555556,\"#d8576b\"],[0.6666666666666666,\"#ed7953\"],[0.7777777777777778,\"#fb9f3a\"],[0.8888888888888888,\"#fdca26\"],[1.0,\"#f0f921\"]]}],\"heatmap\":[{\"type\":\"heatmap\",\"colorbar\":{\"outlinewidth\":0,\"ticks\":\"\"},\"colorscale\":[[0.0,\"#0d0887\"],[0.1111111111111111,\"#46039f\"],[0.2222222222222222,\"#7201a8\"],[0.3333333333333333,\"#9c179e\"],[0.4444444444444444,\"#bd3786\"],[0.5555555555555556,\"#d8576b\"],[0.6666666666666666,\"#ed7953\"],[0.7777777777777778,\"#fb9f3a\"],[0.8888888888888888,\"#fdca26\"],[1.0,\"#f0f921\"]]}],\"heatmapgl\":[{\"type\":\"heatmapgl\",\"colorbar\":{\"outlinewidth\":0,\"ticks\":\"\"},\"colorscale\":[[0.0,\"#0d0887\"],[0.1111111111111111,\"#46039f\"],[0.2222222222222222,\"#7201a8\"],[0.3333333333333333,\"#9c179e\"],[0.4444444444444444,\"#bd3786\"],[0.5555555555555556,\"#d8576b\"],[0.6666666666666666,\"#ed7953\"],[0.7777777777777778,\"#fb9f3a\"],[0.8888888888888888,\"#fdca26\"],[1.0,\"#f0f921\"]]}],\"contourcarpet\":[{\"type\":\"contourcarpet\",\"colorbar\":{\"outlinewidth\":0,\"ticks\":\"\"}}],\"contour\":[{\"type\":\"contour\",\"colorbar\":{\"outlinewidth\":0,\"ticks\":\"\"},\"colorscale\":[[0.0,\"#0d0887\"],[0.1111111111111111,\"#46039f\"],[0.2222222222222222,\"#7201a8\"],[0.3333333333333333,\"#9c179e\"],[0.4444444444444444,\"#bd3786\"],[0.5555555555555556,\"#d8576b\"],[0.6666666666666666,\"#ed7953\"],[0.7777777777777778,\"#fb9f3a\"],[0.8888888888888888,\"#fdca26\"],[1.0,\"#f0f921\"]]}],\"surface\":[{\"type\":\"surface\",\"colorbar\":{\"outlinewidth\":0,\"ticks\":\"\"},\"colorscale\":[[0.0,\"#0d0887\"],[0.1111111111111111,\"#46039f\"],[0.2222222222222222,\"#7201a8\"],[0.3333333333333333,\"#9c179e\"],[0.4444444444444444,\"#bd3786\"],[0.5555555555555556,\"#d8576b\"],[0.6666666666666666,\"#ed7953\"],[0.7777777777777778,\"#fb9f3a\"],[0.8888888888888888,\"#fdca26\"],[1.0,\"#f0f921\"]]}],\"mesh3d\":[{\"type\":\"mesh3d\",\"colorbar\":{\"outlinewidth\":0,\"ticks\":\"\"}}],\"scatter\":[{\"fillpattern\":{\"fillmode\":\"overlay\",\"size\":10,\"solidity\":0.2},\"type\":\"scatter\"}],\"parcoords\":[{\"type\":\"parcoords\",\"line\":{\"colorbar\":{\"outlinewidth\":0,\"ticks\":\"\"}}}],\"scatterpolargl\":[{\"type\":\"scatterpolargl\",\"marker\":{\"colorbar\":{\"outlinewidth\":0,\"ticks\":\"\"}}}],\"bar\":[{\"error_x\":{\"color\":\"#2a3f5f\"},\"error_y\":{\"color\":\"#2a3f5f\"},\"marker\":{\"line\":{\"color\":\"#E5ECF6\",\"width\":0.5},\"pattern\":{\"fillmode\":\"overlay\",\"size\":10,\"solidity\":0.2}},\"type\":\"bar\"}],\"scattergeo\":[{\"type\":\"scattergeo\",\"marker\":{\"colorbar\":{\"outlinewidth\":0,\"ticks\":\"\"}}}],\"scatterpolar\":[{\"type\":\"scatterpolar\",\"marker\":{\"colorbar\":{\"outlinewidth\":0,\"ticks\":\"\"}}}],\"histogram\":[{\"marker\":{\"pattern\":{\"fillmode\":\"overlay\",\"size\":10,\"solidity\":0.2}},\"type\":\"histogram\"}],\"scattergl\":[{\"type\":\"scattergl\",\"marker\":{\"colorbar\":{\"outlinewidth\":0,\"ticks\":\"\"}}}],\"scatter3d\":[{\"type\":\"scatter3d\",\"line\":{\"colorbar\":{\"outlinewidth\":0,\"ticks\":\"\"}},\"marker\":{\"colorbar\":{\"outlinewidth\":0,\"ticks\":\"\"}}}],\"scattermapbox\":[{\"type\":\"scattermapbox\",\"marker\":{\"colorbar\":{\"outlinewidth\":0,\"ticks\":\"\"}}}],\"scatterternary\":[{\"type\":\"scatterternary\",\"marker\":{\"colorbar\":{\"outlinewidth\":0,\"ticks\":\"\"}}}],\"scattercarpet\":[{\"type\":\"scattercarpet\",\"marker\":{\"colorbar\":{\"outlinewidth\":0,\"ticks\":\"\"}}}],\"carpet\":[{\"aaxis\":{\"endlinecolor\":\"#2a3f5f\",\"gridcolor\":\"white\",\"linecolor\":\"white\",\"minorgridcolor\":\"white\",\"startlinecolor\":\"#2a3f5f\"},\"baxis\":{\"endlinecolor\":\"#2a3f5f\",\"gridcolor\":\"white\",\"linecolor\":\"white\",\"minorgridcolor\":\"white\",\"startlinecolor\":\"#2a3f5f\"},\"type\":\"carpet\"}],\"table\":[{\"cells\":{\"fill\":{\"color\":\"#EBF0F8\"},\"line\":{\"color\":\"white\"}},\"header\":{\"fill\":{\"color\":\"#C8D4E3\"},\"line\":{\"color\":\"white\"}},\"type\":\"table\"}],\"barpolar\":[{\"marker\":{\"line\":{\"color\":\"#E5ECF6\",\"width\":0.5},\"pattern\":{\"fillmode\":\"overlay\",\"size\":10,\"solidity\":0.2}},\"type\":\"barpolar\"}],\"pie\":[{\"automargin\":true,\"type\":\"pie\"}]},\"layout\":{\"autotypenumbers\":\"strict\",\"colorway\":[\"#636efa\",\"#EF553B\",\"#00cc96\",\"#ab63fa\",\"#FFA15A\",\"#19d3f3\",\"#FF6692\",\"#B6E880\",\"#FF97FF\",\"#FECB52\"],\"font\":{\"color\":\"#2a3f5f\"},\"hovermode\":\"closest\",\"hoverlabel\":{\"align\":\"left\"},\"paper_bgcolor\":\"white\",\"plot_bgcolor\":\"#E5ECF6\",\"polar\":{\"bgcolor\":\"#E5ECF6\",\"angularaxis\":{\"gridcolor\":\"white\",\"linecolor\":\"white\",\"ticks\":\"\"},\"radialaxis\":{\"gridcolor\":\"white\",\"linecolor\":\"white\",\"ticks\":\"\"}},\"ternary\":{\"bgcolor\":\"#E5ECF6\",\"aaxis\":{\"gridcolor\":\"white\",\"linecolor\":\"white\",\"ticks\":\"\"},\"baxis\":{\"gridcolor\":\"white\",\"linecolor\":\"white\",\"ticks\":\"\"},\"caxis\":{\"gridcolor\":\"white\",\"linecolor\":\"white\",\"ticks\":\"\"}},\"coloraxis\":{\"colorbar\":{\"outlinewidth\":0,\"ticks\":\"\"}},\"colorscale\":{\"sequential\":[[0.0,\"#0d0887\"],[0.1111111111111111,\"#46039f\"],[0.2222222222222222,\"#7201a8\"],[0.3333333333333333,\"#9c179e\"],[0.4444444444444444,\"#bd3786\"],[0.5555555555555556,\"#d8576b\"],[0.6666666666666666,\"#ed7953\"],[0.7777777777777778,\"#fb9f3a\"],[0.8888888888888888,\"#fdca26\"],[1.0,\"#f0f921\"]],\"sequentialminus\":[[0.0,\"#0d0887\"],[0.1111111111111111,\"#46039f\"],[0.2222222222222222,\"#7201a8\"],[0.3333333333333333,\"#9c179e\"],[0.4444444444444444,\"#bd3786\"],[0.5555555555555556,\"#d8576b\"],[0.6666666666666666,\"#ed7953\"],[0.7777777777777778,\"#fb9f3a\"],[0.8888888888888888,\"#fdca26\"],[1.0,\"#f0f921\"]],\"diverging\":[[0,\"#8e0152\"],[0.1,\"#c51b7d\"],[0.2,\"#de77ae\"],[0.3,\"#f1b6da\"],[0.4,\"#fde0ef\"],[0.5,\"#f7f7f7\"],[0.6,\"#e6f5d0\"],[0.7,\"#b8e186\"],[0.8,\"#7fbc41\"],[0.9,\"#4d9221\"],[1,\"#276419\"]]},\"xaxis\":{\"gridcolor\":\"white\",\"linecolor\":\"white\",\"ticks\":\"\",\"title\":{\"standoff\":15},\"zerolinecolor\":\"white\",\"automargin\":true,\"zerolinewidth\":2},\"yaxis\":{\"gridcolor\":\"white\",\"linecolor\":\"white\",\"ticks\":\"\",\"title\":{\"standoff\":15},\"zerolinecolor\":\"white\",\"automargin\":true,\"zerolinewidth\":2},\"scene\":{\"xaxis\":{\"backgroundcolor\":\"#E5ECF6\",\"gridcolor\":\"white\",\"linecolor\":\"white\",\"showbackground\":true,\"ticks\":\"\",\"zerolinecolor\":\"white\",\"gridwidth\":2},\"yaxis\":{\"backgroundcolor\":\"#E5ECF6\",\"gridcolor\":\"white\",\"linecolor\":\"white\",\"showbackground\":true,\"ticks\":\"\",\"zerolinecolor\":\"white\",\"gridwidth\":2},\"zaxis\":{\"backgroundcolor\":\"#E5ECF6\",\"gridcolor\":\"white\",\"linecolor\":\"white\",\"showbackground\":true,\"ticks\":\"\",\"zerolinecolor\":\"white\",\"gridwidth\":2}},\"shapedefaults\":{\"line\":{\"color\":\"#2a3f5f\"}},\"annotationdefaults\":{\"arrowcolor\":\"#2a3f5f\",\"arrowhead\":0,\"arrowwidth\":1},\"geo\":{\"bgcolor\":\"white\",\"landcolor\":\"#E5ECF6\",\"subunitcolor\":\"white\",\"showland\":true,\"showlakes\":true,\"lakecolor\":\"white\"},\"title\":{\"x\":0.05},\"mapbox\":{\"style\":\"light\"}}},\"xaxis\":{\"title\":{\"text\":\"lr\"},\"range\":[-5.081600171332813,-0.8492027909856024],\"type\":\"log\"},\"yaxis\":{\"title\":{\"text\":\"optimizer\"},\"range\":[-0.1,2.1],\"type\":\"category\"}},                        {\"responsive\": true}                    ).then(function(){\n",
              "                            \n",
              "var gd = document.getElementById('f439fe29-6a1b-425f-89bd-554af898d933');\n",
              "var x = new MutationObserver(function (mutations, observer) {{\n",
              "        var display = window.getComputedStyle(gd).display;\n",
              "        if (!display || display === 'none') {{\n",
              "            console.log([gd, 'removed!']);\n",
              "            Plotly.purge(gd);\n",
              "            observer.disconnect();\n",
              "        }}\n",
              "}});\n",
              "\n",
              "// Listen for the removal of the full notebook cells\n",
              "var notebookContainer = gd.closest('#notebook-container');\n",
              "if (notebookContainer) {{\n",
              "    x.observe(notebookContainer, {childList: true});\n",
              "}}\n",
              "\n",
              "// Listen for the clearing of the current output cell\n",
              "var outputEl = gd.closest('.output');\n",
              "if (outputEl) {{\n",
              "    x.observe(outputEl, {childList: true});\n",
              "}}\n",
              "\n",
              "                        })                };                            </script>        </div>\n",
              "</body>\n",
              "</html>"
            ]
          },
          "metadata": {}
        }
      ]
    },
    {
      "cell_type": "code",
      "metadata": {
        "colab": {
          "base_uri": "https://localhost:8080/"
        },
        "id": "5p0ba5JSyvb5",
        "outputId": "a862f986-4e2a-4b3e-ff0c-4f5eb95fb2fc"
      },
      "source": [
        "fix_optimizer = {}\n",
        "fix_optimizer['optimizer'] = study.best_params['optimizer']\n",
        "study.sampler = optuna.samplers.PartialFixedSampler(fix_optimizer, study.sampler)\n",
        "study.optimize(objective, n_trials=100)"
      ],
      "execution_count": 15,
      "outputs": [
        {
          "output_type": "stream",
          "name": "stderr",
          "text": [
            "<ipython-input-15-4736b98e24e2>:3: ExperimentalWarning:\n",
            "\n",
            "PartialFixedSampler is experimental (supported from v2.4.0). The interface can change in the future.\n",
            "\n",
            "[I 2023-09-01 16:50:37,584] Trial 100 finished with value: 0.82734375 and parameters: {'n_layers': 1, 'n_units_l0': 110, 'dropout_l0': 0.2076745607309212, 'optimizer': 'Adam', 'lr': 0.016758153847456502}. Best is trial 53 with value: 0.84765625.\n",
            "[I 2023-09-01 16:50:39,794] Trial 101 pruned. \n",
            "[I 2023-09-01 16:50:47,714] Trial 102 finished with value: 0.80703125 and parameters: {'n_layers': 1, 'n_units_l0': 113, 'dropout_l0': 0.23561723882125063, 'optimizer': 'Adam', 'lr': 0.004178003645129532}. Best is trial 53 with value: 0.84765625.\n",
            "[I 2023-09-01 16:50:55,072] Trial 103 finished with value: 0.8234375 and parameters: {'n_layers': 1, 'n_units_l0': 94, 'dropout_l0': 0.2470851966958348, 'optimizer': 'Adam', 'lr': 0.007687359952597211}. Best is trial 53 with value: 0.84765625.\n",
            "[I 2023-09-01 16:50:55,876] Trial 104 pruned. \n",
            "[I 2023-09-01 16:50:58,944] Trial 105 pruned. \n",
            "[I 2023-09-01 16:51:03,259] Trial 106 pruned. \n",
            "[I 2023-09-01 16:51:04,226] Trial 107 pruned. \n",
            "[I 2023-09-01 16:51:12,826] Trial 108 finished with value: 0.8359375 and parameters: {'n_layers': 1, 'n_units_l0': 98, 'dropout_l0': 0.21220763565427198, 'optimizer': 'Adam', 'lr': 0.004651531473087298}. Best is trial 53 with value: 0.84765625.\n",
            "[I 2023-09-01 16:51:14,140] Trial 109 pruned. \n",
            "[I 2023-09-01 16:51:14,965] Trial 110 pruned. \n",
            "[I 2023-09-01 16:51:22,017] Trial 111 finished with value: 0.85625 and parameters: {'n_layers': 1, 'n_units_l0': 92, 'dropout_l0': 0.22071090228200904, 'optimizer': 'Adam', 'lr': 0.00479335073022351}. Best is trial 111 with value: 0.85625.\n",
            "[I 2023-09-01 16:51:22,821] Trial 112 pruned. \n",
            "[I 2023-09-01 16:51:25,464] Trial 113 pruned. \n",
            "[I 2023-09-01 16:51:33,004] Trial 114 finished with value: 0.8375 and parameters: {'n_layers': 1, 'n_units_l0': 83, 'dropout_l0': 0.23867207820230935, 'optimizer': 'Adam', 'lr': 0.008845760826586894}. Best is trial 111 with value: 0.85625.\n",
            "[I 2023-09-01 16:51:33,777] Trial 115 pruned. \n",
            "[I 2023-09-01 16:51:41,808] Trial 116 finished with value: 0.8484375 and parameters: {'n_layers': 1, 'n_units_l0': 90, 'dropout_l0': 0.2389923442247939, 'optimizer': 'Adam', 'lr': 0.011371457524521556}. Best is trial 111 with value: 0.85625.\n",
            "[I 2023-09-01 16:51:43,340] Trial 117 pruned. \n",
            "[I 2023-09-01 16:51:50,902] Trial 118 finished with value: 0.8046875 and parameters: {'n_layers': 1, 'n_units_l0': 100, 'dropout_l0': 0.2430142519678848, 'optimizer': 'Adam', 'lr': 0.012002744492428318}. Best is trial 111 with value: 0.85625.\n",
            "[I 2023-09-01 16:51:52,935] Trial 119 pruned. \n",
            "[I 2023-09-01 16:52:00,053] Trial 120 finished with value: 0.82109375 and parameters: {'n_layers': 1, 'n_units_l0': 126, 'dropout_l0': 0.23708610214402356, 'optimizer': 'Adam', 'lr': 0.006813868127702757}. Best is trial 111 with value: 0.85625.\n",
            "[I 2023-09-01 16:52:02,244] Trial 121 pruned. \n",
            "[I 2023-09-01 16:52:03,382] Trial 122 pruned. \n",
            "[I 2023-09-01 16:52:04,527] Trial 123 pruned. \n",
            "[I 2023-09-01 16:52:09,651] Trial 124 pruned. \n",
            "[I 2023-09-01 16:52:11,133] Trial 125 pruned. \n",
            "[I 2023-09-01 16:52:11,949] Trial 126 pruned. \n",
            "[I 2023-09-01 16:52:12,758] Trial 127 pruned. \n",
            "[I 2023-09-01 16:52:13,530] Trial 128 pruned. \n",
            "[I 2023-09-01 16:52:14,391] Trial 129 pruned. \n",
            "[I 2023-09-01 16:52:16,137] Trial 130 pruned. \n",
            "[I 2023-09-01 16:52:18,317] Trial 131 pruned. \n",
            "[I 2023-09-01 16:52:19,106] Trial 132 pruned. \n",
            "[I 2023-09-01 16:52:19,907] Trial 133 pruned. \n",
            "[I 2023-09-01 16:52:20,702] Trial 134 pruned. \n",
            "[I 2023-09-01 16:52:21,488] Trial 135 pruned. \n",
            "[I 2023-09-01 16:52:22,983] Trial 136 pruned. \n",
            "[I 2023-09-01 16:52:24,466] Trial 137 pruned. \n",
            "[I 2023-09-01 16:52:25,323] Trial 138 pruned. \n",
            "[I 2023-09-01 16:52:26,114] Trial 139 pruned. \n",
            "[I 2023-09-01 16:52:26,917] Trial 140 pruned. \n",
            "[I 2023-09-01 16:52:27,708] Trial 141 pruned. \n",
            "[I 2023-09-01 16:52:35,686] Trial 142 finished with value: 0.815625 and parameters: {'n_layers': 1, 'n_units_l0': 94, 'dropout_l0': 0.22651652281435986, 'optimizer': 'Adam', 'lr': 0.004294410049583771}. Best is trial 111 with value: 0.85625.\n",
            "[I 2023-09-01 16:52:36,483] Trial 143 pruned. \n",
            "[I 2023-09-01 16:52:44,448] Trial 144 finished with value: 0.825 and parameters: {'n_layers': 1, 'n_units_l0': 98, 'dropout_l0': 0.23476690334528366, 'optimizer': 'Adam', 'lr': 0.003361045559565252}. Best is trial 111 with value: 0.85625.\n",
            "[I 2023-09-01 16:52:46,621] Trial 145 pruned. \n",
            "[I 2023-09-01 16:52:47,417] Trial 146 pruned. \n",
            "[I 2023-09-01 16:52:48,207] Trial 147 pruned. \n",
            "[I 2023-09-01 16:52:49,026] Trial 148 pruned. \n",
            "[I 2023-09-01 16:52:52,551] Trial 149 pruned. \n",
            "[I 2023-09-01 16:52:53,402] Trial 150 pruned. \n",
            "[I 2023-09-01 16:52:54,551] Trial 151 pruned. \n",
            "[I 2023-09-01 16:52:55,770] Trial 152 pruned. \n",
            "[I 2023-09-01 16:53:03,127] Trial 153 finished with value: 0.83671875 and parameters: {'n_layers': 1, 'n_units_l0': 105, 'dropout_l0': 0.21818309888090037, 'optimizer': 'Adam', 'lr': 0.006664305074302341}. Best is trial 111 with value: 0.85625.\n",
            "[I 2023-09-01 16:53:11,176] Trial 154 finished with value: 0.81796875 and parameters: {'n_layers': 1, 'n_units_l0': 116, 'dropout_l0': 0.21769171167267862, 'optimizer': 'Adam', 'lr': 0.0066199851414993705}. Best is trial 111 with value: 0.85625.\n",
            "[I 2023-09-01 16:53:18,221] Trial 155 finished with value: 0.80703125 and parameters: {'n_layers': 1, 'n_units_l0': 105, 'dropout_l0': 0.23309849659250073, 'optimizer': 'Adam', 'lr': 0.010519150993050492}. Best is trial 111 with value: 0.85625.\n",
            "[I 2023-09-01 16:53:19,956] Trial 156 pruned. \n",
            "[I 2023-09-01 16:53:27,722] Trial 157 finished with value: 0.82890625 and parameters: {'n_layers': 1, 'n_units_l0': 99, 'dropout_l0': 0.26199092931513374, 'optimizer': 'Adam', 'lr': 0.0042065422347045914}. Best is trial 111 with value: 0.85625.\n",
            "[I 2023-09-01 16:53:28,513] Trial 158 pruned. \n",
            "[I 2023-09-01 16:53:36,511] Trial 159 finished with value: 0.778125 and parameters: {'n_layers': 1, 'n_units_l0': 108, 'dropout_l0': 0.2599410025056986, 'optimizer': 'Adam', 'lr': 0.0040472065011817335}. Best is trial 111 with value: 0.85625.\n",
            "[I 2023-09-01 16:53:37,304] Trial 160 pruned. \n",
            "[I 2023-09-01 16:53:38,817] Trial 161 pruned. \n",
            "[I 2023-09-01 16:53:40,322] Trial 162 pruned. \n",
            "[I 2023-09-01 16:53:48,355] Trial 163 finished with value: 0.8078125 and parameters: {'n_layers': 1, 'n_units_l0': 103, 'dropout_l0': 0.36297129946881834, 'optimizer': 'Adam', 'lr': 0.008683469590267496}. Best is trial 111 with value: 0.85625.\n",
            "[I 2023-09-01 16:53:49,141] Trial 164 pruned. \n",
            "[I 2023-09-01 16:53:49,939] Trial 165 pruned. \n",
            "[I 2023-09-01 16:53:50,730] Trial 166 pruned. \n",
            "[I 2023-09-01 16:53:51,536] Trial 167 pruned. \n",
            "[I 2023-09-01 16:53:52,346] Trial 168 pruned. \n",
            "[I 2023-09-01 16:54:00,126] Trial 169 finished with value: 0.8234375 and parameters: {'n_layers': 1, 'n_units_l0': 96, 'dropout_l0': 0.2384630281372697, 'optimizer': 'Adam', 'lr': 0.007288132728962097}. Best is trial 111 with value: 0.85625.\n",
            "[I 2023-09-01 16:54:01,017] Trial 170 pruned. \n",
            "[I 2023-09-01 16:54:01,818] Trial 171 pruned. \n",
            "[I 2023-09-01 16:54:06,912] Trial 172 pruned. \n",
            "[I 2023-09-01 16:54:08,410] Trial 173 pruned. \n",
            "[I 2023-09-01 16:54:09,235] Trial 174 pruned. \n",
            "[I 2023-09-01 16:54:10,020] Trial 175 pruned. \n",
            "[I 2023-09-01 16:54:10,995] Trial 176 pruned. \n",
            "[I 2023-09-01 16:54:14,062] Trial 177 pruned. \n",
            "[I 2023-09-01 16:54:14,863] Trial 178 pruned. \n",
            "[I 2023-09-01 16:54:15,673] Trial 179 pruned. \n",
            "[I 2023-09-01 16:54:17,835] Trial 180 pruned. \n",
            "[I 2023-09-01 16:54:18,656] Trial 181 pruned. \n",
            "[I 2023-09-01 16:54:20,136] Trial 182 pruned. \n",
            "[I 2023-09-01 16:54:23,940] Trial 183 pruned. \n",
            "[I 2023-09-01 16:54:25,039] Trial 184 pruned. \n",
            "[I 2023-09-01 16:54:27,003] Trial 185 pruned. \n",
            "[I 2023-09-01 16:54:27,796] Trial 186 pruned. \n",
            "[I 2023-09-01 16:54:29,919] Trial 187 pruned. \n",
            "[I 2023-09-01 16:54:37,352] Trial 188 finished with value: 0.834375 and parameters: {'n_layers': 1, 'n_units_l0': 110, 'dropout_l0': 0.21849684335496877, 'optimizer': 'Adam', 'lr': 0.004004377426900024}. Best is trial 111 with value: 0.85625.\n",
            "[I 2023-09-01 16:54:38,538] Trial 189 pruned. \n",
            "[I 2023-09-01 16:54:40,864] Trial 190 pruned. \n",
            "[I 2023-09-01 16:54:41,715] Trial 191 pruned. \n",
            "[I 2023-09-01 16:54:42,506] Trial 192 pruned. \n",
            "[I 2023-09-01 16:54:45,431] Trial 193 pruned. \n",
            "[I 2023-09-01 16:54:46,933] Trial 194 pruned. \n",
            "[I 2023-09-01 16:54:47,731] Trial 195 pruned. \n",
            "[I 2023-09-01 16:54:48,544] Trial 196 pruned. \n",
            "[I 2023-09-01 16:54:56,460] Trial 197 finished with value: 0.83125 and parameters: {'n_layers': 1, 'n_units_l0': 109, 'dropout_l0': 0.23496460095227636, 'optimizer': 'Adam', 'lr': 0.002486273766521162}. Best is trial 111 with value: 0.85625.\n",
            "[I 2023-09-01 16:54:57,266] Trial 198 pruned. \n",
            "[I 2023-09-01 16:54:58,072] Trial 199 pruned. \n"
          ]
        }
      ]
    },
    {
      "cell_type": "code",
      "metadata": {
        "colab": {
          "base_uri": "https://localhost:8080/"
        },
        "id": "bZemnmE40G5P",
        "outputId": "84386e06-c911-414e-ec2b-34ae355b9c27"
      },
      "source": [
        "print(\"Best trial:\")\n",
        "trial = study.best_trial\n",
        "\n",
        "print(\"  Value: \", trial.value)\n",
        "\n",
        "print(\"  Params: \")\n",
        "for key, value in trial.params.items():\n",
        "  print(\"    {}: {}\".format(key, value))"
      ],
      "execution_count": 16,
      "outputs": [
        {
          "output_type": "stream",
          "name": "stdout",
          "text": [
            "Best trial:\n",
            "  Value:  0.85625\n",
            "  Params: \n",
            "    n_layers: 1\n",
            "    n_units_l0: 92\n",
            "    dropout_l0: 0.22071090228200904\n",
            "    optimizer: Adam\n",
            "    lr: 0.00479335073022351\n"
          ]
        }
      ]
    },
    {
      "cell_type": "code",
      "metadata": {
        "colab": {
          "base_uri": "https://localhost:8080/"
        },
        "id": "lSm_uVTB0X3R",
        "outputId": "69e2dd43-da0f-45c0-b01b-ea5f52d4e891"
      },
      "source": [
        "study.best_trial.params.items()"
      ],
      "execution_count": 17,
      "outputs": [
        {
          "output_type": "execute_result",
          "data": {
            "text/plain": [
              "dict_items([('n_layers', 1), ('n_units_l0', 92), ('dropout_l0', 0.22071090228200904), ('optimizer', 'Adam'), ('lr', 0.00479335073022351)])"
            ]
          },
          "metadata": {},
          "execution_count": 17
        }
      ]
    },
    {
      "cell_type": "code",
      "metadata": {
        "colab": {
          "base_uri": "https://localhost:8080/",
          "height": 542
        },
        "id": "9xhukHYU1Bix",
        "outputId": "a41791ca-fca5-4a7d-a93f-a3c9bad887d1"
      },
      "source": [
        "optuna.visualization.plot_intermediate_values(study)"
      ],
      "execution_count": 18,
      "outputs": [
        {
          "output_type": "display_data",
          "data": {
            "text/html": [
              "<html>\n",
              "<head><meta charset=\"utf-8\" /></head>\n",
              "<body>\n",
              "    <div>            <script src=\"https://cdnjs.cloudflare.com/ajax/libs/mathjax/2.7.5/MathJax.js?config=TeX-AMS-MML_SVG\"></script><script type=\"text/javascript\">if (window.MathJax && window.MathJax.Hub && window.MathJax.Hub.Config) {window.MathJax.Hub.Config({SVG: {font: \"STIX-Web\"}});}</script>                <script type=\"text/javascript\">window.PlotlyConfig = {MathJaxConfig: 'local'};</script>\n",
              "        <script charset=\"utf-8\" src=\"https://cdn.plot.ly/plotly-2.24.1.min.js\"></script>                <div id=\"9f570571-fa79-401f-ad15-d514472a3ad5\" class=\"plotly-graph-div\" style=\"height:525px; width:100%;\"></div>            <script type=\"text/javascript\">                                    window.PLOTLYENV=window.PLOTLYENV || {};                                    if (document.getElementById(\"9f570571-fa79-401f-ad15-d514472a3ad5\")) {                    Plotly.newPlot(                        \"9f570571-fa79-401f-ad15-d514472a3ad5\",                        [{\"marker\":{\"maxdisplayed\":10},\"mode\":\"lines+markers\",\"name\":\"Trial0\",\"x\":[0,1,2,3,4,5,6,7,8,9],\"y\":[0.6140625,0.6859375,0.70703125,0.72890625,0.74765625,0.76484375,0.77421875,0.78046875,0.78125,0.79140625],\"type\":\"scatter\"},{\"marker\":{\"maxdisplayed\":10},\"mode\":\"lines+markers\",\"name\":\"Trial1\",\"x\":[0,1,2,3,4,5,6,7,8,9],\"y\":[0.09375,0.115625,0.08984375,0.11015625,0.10078125,0.1125,0.11484375,0.10625,0.10625,0.11015625],\"type\":\"scatter\"},{\"marker\":{\"maxdisplayed\":10},\"mode\":\"lines+markers\",\"name\":\"Trial2\",\"x\":[0,1,2,3,4,5,6,7,8,9],\"y\":[0.22109375,0.25234375,0.3328125,0.4109375,0.41953125,0.42578125,0.46328125,0.46484375,0.4546875,0.45],\"type\":\"scatter\"},{\"marker\":{\"maxdisplayed\":10},\"mode\":\"lines+markers\",\"name\":\"Trial3\",\"x\":[0,1,2,3,4,5,6,7,8,9],\"y\":[0.09140625,0.09609375,0.10625,0.09609375,0.0953125,0.090625,0.0875,0.0953125,0.07421875,0.0828125],\"type\":\"scatter\"},{\"marker\":{\"maxdisplayed\":10},\"mode\":\"lines+markers\",\"name\":\"Trial4\",\"x\":[0,1,2,3,4,5,6,7,8,9],\"y\":[0.11015625,0.09296875,0.10625,0.11875,0.18828125,0.25078125,0.26953125,0.2828125,0.2375,0.225],\"type\":\"scatter\"},{\"marker\":{\"maxdisplayed\":10},\"mode\":\"lines+markers\",\"name\":\"Trial5\",\"x\":[0,1,2,3,4,5,6,7,8,9],\"y\":[0.20546875,0.2,0.29140625,0.41875,0.54453125,0.5234375,0.5703125,0.57578125,0.59296875,0.65],\"type\":\"scatter\"},{\"marker\":{\"maxdisplayed\":10},\"mode\":\"lines+markers\",\"name\":\"Trial6\",\"x\":[0],\"y\":[0.084375],\"type\":\"scatter\"},{\"marker\":{\"maxdisplayed\":10},\"mode\":\"lines+markers\",\"name\":\"Trial7\",\"x\":[0,1,2,3,4,5,6,7,8,9],\"y\":[0.15859375,0.234375,0.27265625,0.303125,0.31953125,0.3703125,0.38671875,0.39453125,0.4296875,0.46875],\"type\":\"scatter\"},{\"marker\":{\"maxdisplayed\":10},\"mode\":\"lines+markers\",\"name\":\"Trial8\",\"x\":[0,1,2,3,4,5,6,7,8,9],\"y\":[0.60078125,0.62109375,0.7046875,0.6703125,0.69296875,0.7265625,0.73125,0.7578125,0.77578125,0.7640625],\"type\":\"scatter\"},{\"marker\":{\"maxdisplayed\":10},\"mode\":\"lines+markers\",\"name\":\"Trial9\",\"x\":[0],\"y\":[0.10390625],\"type\":\"scatter\"},{\"marker\":{\"maxdisplayed\":10},\"mode\":\"lines+markers\",\"name\":\"Trial10\",\"x\":[0,1,2,3,4,5,6,7,8,9],\"y\":[0.65546875,0.7421875,0.74765625,0.753125,0.77734375,0.7859375,0.7890625,0.7828125,0.79609375,0.7953125],\"type\":\"scatter\"},{\"marker\":{\"maxdisplayed\":10},\"mode\":\"lines+markers\",\"name\":\"Trial11\",\"x\":[0,1,2,3,4,5,6,7,8,9],\"y\":[0.53515625,0.540625,0.603125,0.59609375,0.69453125,0.71015625,0.6953125,0.69453125,0.7203125,0.70234375],\"type\":\"scatter\"},{\"marker\":{\"maxdisplayed\":10},\"mode\":\"lines+markers\",\"name\":\"Trial12\",\"x\":[0,1,2,3,4,5,6,7,8,9],\"y\":[0.58359375,0.66640625,0.703125,0.70625,0.73359375,0.740625,0.76796875,0.7515625,0.75078125,0.74765625],\"type\":\"scatter\"},{\"marker\":{\"maxdisplayed\":10},\"mode\":\"lines+markers\",\"name\":\"Trial13\",\"x\":[0,1,2,3,4,5,6,7,8,9],\"y\":[0.71328125,0.7640625,0.7796875,0.76328125,0.82421875,0.82109375,0.8015625,0.8296875,0.78515625,0.83046875],\"type\":\"scatter\"},{\"marker\":{\"maxdisplayed\":10},\"mode\":\"lines+markers\",\"name\":\"Trial14\",\"x\":[0,1,2,3,4,5,6,7,8,9],\"y\":[0.65390625,0.72890625,0.7734375,0.809375,0.79609375,0.80234375,0.81328125,0.80703125,0.80859375,0.8234375],\"type\":\"scatter\"},{\"marker\":{\"maxdisplayed\":10},\"mode\":\"lines+markers\",\"name\":\"Trial15\",\"x\":[0,1,2,3,4,5,6,7,8,9],\"y\":[0.66328125,0.7,0.71953125,0.759375,0.77734375,0.7875,0.7921875,0.7921875,0.821875,0.809375],\"type\":\"scatter\"},{\"marker\":{\"maxdisplayed\":10},\"mode\":\"lines+markers\",\"name\":\"Trial16\",\"x\":[0,1,2,3,4,5,6,7,8,9],\"y\":[0.65546875,0.69296875,0.7046875,0.7375,0.753125,0.76640625,0.7609375,0.7640625,0.778125,0.784375],\"type\":\"scatter\"},{\"marker\":{\"maxdisplayed\":10},\"mode\":\"lines+markers\",\"name\":\"Trial17\",\"x\":[0,1,2,3,4,5,6,7,8,9],\"y\":[0.69765625,0.76328125,0.78515625,0.79921875,0.796875,0.79140625,0.80859375,0.82421875,0.8125,0.83828125],\"type\":\"scatter\"},{\"marker\":{\"maxdisplayed\":10},\"mode\":\"lines+markers\",\"name\":\"Trial18\",\"x\":[0],\"y\":[0.5625],\"type\":\"scatter\"},{\"marker\":{\"maxdisplayed\":10},\"mode\":\"lines+markers\",\"name\":\"Trial19\",\"x\":[0],\"y\":[0.2421875],\"type\":\"scatter\"},{\"marker\":{\"maxdisplayed\":10},\"mode\":\"lines+markers\",\"name\":\"Trial20\",\"x\":[0,1,2],\"y\":[0.62578125,0.67734375,0.68828125],\"type\":\"scatter\"},{\"marker\":{\"maxdisplayed\":10},\"mode\":\"lines+markers\",\"name\":\"Trial21\",\"x\":[0,1,2,3,4,5,6,7,8,9],\"y\":[0.6578125,0.74296875,0.7546875,0.76875,0.7734375,0.7875,0.80546875,0.7984375,0.81015625,0.8171875],\"type\":\"scatter\"},{\"marker\":{\"maxdisplayed\":10},\"mode\":\"lines+markers\",\"name\":\"Trial22\",\"x\":[0,1,2,3,4,5,6,7,8,9],\"y\":[0.7046875,0.75546875,0.7828125,0.78125,0.809375,0.803125,0.80078125,0.81875,0.84140625,0.8296875],\"type\":\"scatter\"},{\"marker\":{\"maxdisplayed\":10},\"mode\":\"lines+markers\",\"name\":\"Trial23\",\"x\":[0,1,2,3,4,5,6,7,8,9],\"y\":[0.7265625,0.77578125,0.81171875,0.78359375,0.81015625,0.8078125,0.82890625,0.8265625,0.81640625,0.8296875],\"type\":\"scatter\"},{\"marker\":{\"maxdisplayed\":10},\"mode\":\"lines+markers\",\"name\":\"Trial24\",\"x\":[0,1,2,3,4,5,6,7,8,9],\"y\":[0.72109375,0.7375,0.80078125,0.815625,0.80546875,0.7890625,0.79375,0.809375,0.809375,0.83515625],\"type\":\"scatter\"},{\"marker\":{\"maxdisplayed\":10},\"mode\":\"lines+markers\",\"name\":\"Trial25\",\"x\":[0,1,2,3,4,5,6,7,8,9],\"y\":[0.72109375,0.7640625,0.7453125,0.75625,0.75625,0.77578125,0.79609375,0.77578125,0.78359375,0.80703125],\"type\":\"scatter\"},{\"marker\":{\"maxdisplayed\":10},\"mode\":\"lines+markers\",\"name\":\"Trial26\",\"x\":[0,1,2,3,4,5,6,7,8,9],\"y\":[0.71171875,0.73203125,0.76328125,0.7390625,0.796875,0.78671875,0.7828125,0.78359375,0.78515625,0.8140625],\"type\":\"scatter\"},{\"marker\":{\"maxdisplayed\":10},\"mode\":\"lines+markers\",\"name\":\"Trial27\",\"x\":[0],\"y\":[0.61796875],\"type\":\"scatter\"},{\"marker\":{\"maxdisplayed\":10},\"mode\":\"lines+markers\",\"name\":\"Trial28\",\"x\":[0],\"y\":[0.596875],\"type\":\"scatter\"},{\"marker\":{\"maxdisplayed\":10},\"mode\":\"lines+markers\",\"name\":\"Trial29\",\"x\":[0],\"y\":[0.23203125],\"type\":\"scatter\"},{\"marker\":{\"maxdisplayed\":10},\"mode\":\"lines+markers\",\"name\":\"Trial30\",\"x\":[0],\"y\":[0.42890625],\"type\":\"scatter\"},{\"marker\":{\"maxdisplayed\":10},\"mode\":\"lines+markers\",\"name\":\"Trial31\",\"x\":[0,1,2,3,4,5,6,7,8,9],\"y\":[0.7125,0.76640625,0.790625,0.821875,0.79453125,0.81953125,0.81640625,0.83046875,0.8203125,0.8234375],\"type\":\"scatter\"},{\"marker\":{\"maxdisplayed\":10},\"mode\":\"lines+markers\",\"name\":\"Trial32\",\"x\":[0,1,2,3,4,5,6,7,8,9],\"y\":[0.7375,0.74375,0.75,0.82578125,0.82421875,0.80859375,0.82578125,0.8328125,0.8390625,0.80390625],\"type\":\"scatter\"},{\"marker\":{\"maxdisplayed\":10},\"mode\":\"lines+markers\",\"name\":\"Trial33\",\"x\":[0,1,2,3,4,5,6,7,8,9],\"y\":[0.74140625,0.7546875,0.78046875,0.8078125,0.80078125,0.8078125,0.82734375,0.83671875,0.80234375,0.803125],\"type\":\"scatter\"},{\"marker\":{\"maxdisplayed\":10},\"mode\":\"lines+markers\",\"name\":\"Trial34\",\"x\":[0,1],\"y\":[0.67890625,0.71015625],\"type\":\"scatter\"},{\"marker\":{\"maxdisplayed\":10},\"mode\":\"lines+markers\",\"name\":\"Trial35\",\"x\":[0],\"y\":[0.34140625],\"type\":\"scatter\"},{\"marker\":{\"maxdisplayed\":10},\"mode\":\"lines+markers\",\"name\":\"Trial36\",\"x\":[0],\"y\":[0.4390625],\"type\":\"scatter\"},{\"marker\":{\"maxdisplayed\":10},\"mode\":\"lines+markers\",\"name\":\"Trial37\",\"x\":[0],\"y\":[0.32890625],\"type\":\"scatter\"},{\"marker\":{\"maxdisplayed\":10},\"mode\":\"lines+markers\",\"name\":\"Trial38\",\"x\":[0],\"y\":[0.5328125],\"type\":\"scatter\"},{\"marker\":{\"maxdisplayed\":10},\"mode\":\"lines+markers\",\"name\":\"Trial39\",\"x\":[0],\"y\":[0.64453125],\"type\":\"scatter\"},{\"marker\":{\"maxdisplayed\":10},\"mode\":\"lines+markers\",\"name\":\"Trial40\",\"x\":[0,1,2,3,4,5,6,7,8,9],\"y\":[0.68984375,0.7328125,0.76484375,0.76796875,0.775,0.81328125,0.78515625,0.796875,0.80078125,0.8171875],\"type\":\"scatter\"},{\"marker\":{\"maxdisplayed\":10},\"mode\":\"lines+markers\",\"name\":\"Trial41\",\"x\":[0,1,2,3,4,5,6,7,8,9],\"y\":[0.72109375,0.79296875,0.76796875,0.80703125,0.8359375,0.81953125,0.8109375,0.8265625,0.8265625,0.821875],\"type\":\"scatter\"},{\"marker\":{\"maxdisplayed\":10},\"mode\":\"lines+markers\",\"name\":\"Trial42\",\"x\":[0,1,2,3,4,5,6,7,8,9],\"y\":[0.72421875,0.765625,0.79375,0.79140625,0.809375,0.80078125,0.83828125,0.84375,0.8453125,0.82109375],\"type\":\"scatter\"},{\"marker\":{\"maxdisplayed\":10},\"mode\":\"lines+markers\",\"name\":\"Trial43\",\"x\":[0,1,2,3,4,5,6,7,8,9],\"y\":[0.759375,0.77578125,0.7953125,0.83671875,0.8078125,0.80390625,0.8375,0.840625,0.84921875,0.82734375],\"type\":\"scatter\"},{\"marker\":{\"maxdisplayed\":10},\"mode\":\"lines+markers\",\"name\":\"Trial44\",\"x\":[0,1,2,3,4,5,6,7,8,9],\"y\":[0.690625,0.75859375,0.7953125,0.78203125,0.79765625,0.81484375,0.80625,0.80703125,0.80625,0.8078125],\"type\":\"scatter\"},{\"marker\":{\"maxdisplayed\":10},\"mode\":\"lines+markers\",\"name\":\"Trial45\",\"x\":[0],\"y\":[0.1109375],\"type\":\"scatter\"},{\"marker\":{\"maxdisplayed\":10},\"mode\":\"lines+markers\",\"name\":\"Trial46\",\"x\":[0,1,2,3,4,5,6,7,8,9],\"y\":[0.690625,0.7796875,0.78828125,0.79375,0.78046875,0.81015625,0.8046875,0.79921875,0.834375,0.8125],\"type\":\"scatter\"},{\"marker\":{\"maxdisplayed\":10},\"mode\":\"lines+markers\",\"name\":\"Trial47\",\"x\":[0,1],\"y\":[0.71484375,0.73359375],\"type\":\"scatter\"},{\"marker\":{\"maxdisplayed\":10},\"mode\":\"lines+markers\",\"name\":\"Trial48\",\"x\":[0,1,2,3,4,5,6,7,8,9],\"y\":[0.734375,0.74921875,0.7890625,0.78828125,0.81953125,0.80546875,0.80078125,0.82421875,0.8203125,0.81875],\"type\":\"scatter\"},{\"marker\":{\"maxdisplayed\":10},\"mode\":\"lines+markers\",\"name\":\"Trial49\",\"x\":[0],\"y\":[0.6125],\"type\":\"scatter\"},{\"marker\":{\"maxdisplayed\":10},\"mode\":\"lines+markers\",\"name\":\"Trial50\",\"x\":[0],\"y\":[0.6203125],\"type\":\"scatter\"},{\"marker\":{\"maxdisplayed\":10},\"mode\":\"lines+markers\",\"name\":\"Trial51\",\"x\":[0,1,2,3,4,5,6,7,8,9],\"y\":[0.7421875,0.79765625,0.75546875,0.8078125,0.81953125,0.83359375,0.82734375,0.81875,0.82578125,0.8234375],\"type\":\"scatter\"},{\"marker\":{\"maxdisplayed\":10},\"mode\":\"lines+markers\",\"name\":\"Trial52\",\"x\":[0,1,2,3,4,5,6,7,8,9],\"y\":[0.72890625,0.7484375,0.78671875,0.79375,0.81875,0.81640625,0.828125,0.83515625,0.834375,0.8453125],\"type\":\"scatter\"},{\"marker\":{\"maxdisplayed\":10},\"mode\":\"lines+markers\",\"name\":\"Trial53\",\"x\":[0,1,2,3,4,5,6,7,8,9],\"y\":[0.7125,0.7828125,0.7875,0.79921875,0.80546875,0.80625,0.82734375,0.8234375,0.82890625,0.84765625],\"type\":\"scatter\"},{\"marker\":{\"maxdisplayed\":10},\"mode\":\"lines+markers\",\"name\":\"Trial54\",\"x\":[0,1,2],\"y\":[0.725,0.76171875,0.76015625],\"type\":\"scatter\"},{\"marker\":{\"maxdisplayed\":10},\"mode\":\"lines+markers\",\"name\":\"Trial55\",\"x\":[0],\"y\":[0.6625],\"type\":\"scatter\"},{\"marker\":{\"maxdisplayed\":10},\"mode\":\"lines+markers\",\"name\":\"Trial56\",\"x\":[0,1,2,3,4,5,6,7,8,9],\"y\":[0.73359375,0.77890625,0.7859375,0.79921875,0.80703125,0.78671875,0.80546875,0.8046875,0.834375,0.825],\"type\":\"scatter\"},{\"marker\":{\"maxdisplayed\":10},\"mode\":\"lines+markers\",\"name\":\"Trial57\",\"x\":[0,1,2,3,4,5,6,7,8,9],\"y\":[0.75703125,0.803125,0.82421875,0.80625,0.82421875,0.81953125,0.84609375,0.834375,0.82734375,0.82109375],\"type\":\"scatter\"},{\"marker\":{\"maxdisplayed\":10},\"mode\":\"lines+markers\",\"name\":\"Trial58\",\"x\":[0,1,2,3,4,5,6,7,8,9],\"y\":[0.728125,0.81015625,0.7890625,0.80546875,0.80703125,0.81796875,0.83203125,0.80703125,0.8078125,0.82421875],\"type\":\"scatter\"},{\"marker\":{\"maxdisplayed\":10},\"mode\":\"lines+markers\",\"name\":\"Trial59\",\"x\":[0],\"y\":[0.27578125],\"type\":\"scatter\"},{\"marker\":{\"maxdisplayed\":10},\"mode\":\"lines+markers\",\"name\":\"Trial60\",\"x\":[0],\"y\":[0.6875],\"type\":\"scatter\"},{\"marker\":{\"maxdisplayed\":10},\"mode\":\"lines+markers\",\"name\":\"Trial61\",\"x\":[0,1,2,3,4,5,6,7,8,9],\"y\":[0.71015625,0.78203125,0.78828125,0.7828125,0.8296875,0.8375,0.834375,0.83359375,0.8421875,0.828125],\"type\":\"scatter\"},{\"marker\":{\"maxdisplayed\":10},\"mode\":\"lines+markers\",\"name\":\"Trial62\",\"x\":[0,1,2,3,4,5,6,7,8,9],\"y\":[0.73359375,0.77265625,0.8,0.8046875,0.8109375,0.803125,0.81328125,0.81484375,0.83125,0.80390625],\"type\":\"scatter\"},{\"marker\":{\"maxdisplayed\":10},\"mode\":\"lines+markers\",\"name\":\"Trial63\",\"x\":[0],\"y\":[0.6765625],\"type\":\"scatter\"},{\"marker\":{\"maxdisplayed\":10},\"mode\":\"lines+markers\",\"name\":\"Trial64\",\"x\":[0,1,2,3,4,5,6,7,8,9],\"y\":[0.71484375,0.7828125,0.79375,0.79296875,0.825,0.8234375,0.8265625,0.8375,0.83203125,0.8265625],\"type\":\"scatter\"},{\"marker\":{\"maxdisplayed\":10},\"mode\":\"lines+markers\",\"name\":\"Trial65\",\"x\":[0,1,2,3,4,5,6,7,8,9],\"y\":[0.72734375,0.8015625,0.796875,0.790625,0.8015625,0.80390625,0.83359375,0.815625,0.83203125,0.8203125],\"type\":\"scatter\"},{\"marker\":{\"maxdisplayed\":10},\"mode\":\"lines+markers\",\"name\":\"Trial66\",\"x\":[0],\"y\":[0.59921875],\"type\":\"scatter\"},{\"marker\":{\"maxdisplayed\":10},\"mode\":\"lines+markers\",\"name\":\"Trial67\",\"x\":[0],\"y\":[0.6890625],\"type\":\"scatter\"},{\"marker\":{\"maxdisplayed\":10},\"mode\":\"lines+markers\",\"name\":\"Trial68\",\"x\":[0],\"y\":[0.68828125],\"type\":\"scatter\"},{\"marker\":{\"maxdisplayed\":10},\"mode\":\"lines+markers\",\"name\":\"Trial69\",\"x\":[0,1,2,3,4,5,6,7,8,9],\"y\":[0.728125,0.77421875,0.79921875,0.8015625,0.815625,0.8046875,0.796875,0.803125,0.81953125,0.81796875],\"type\":\"scatter\"},{\"marker\":{\"maxdisplayed\":10},\"mode\":\"lines+markers\",\"name\":\"Trial70\",\"x\":[0],\"y\":[0.66640625],\"type\":\"scatter\"},{\"marker\":{\"maxdisplayed\":10},\"mode\":\"lines+markers\",\"name\":\"Trial71\",\"x\":[0,1,2,3,4,5,6,7,8,9],\"y\":[0.74453125,0.7578125,0.81484375,0.7984375,0.81796875,0.81796875,0.8,0.8109375,0.84296875,0.8328125],\"type\":\"scatter\"},{\"marker\":{\"maxdisplayed\":10},\"mode\":\"lines+markers\",\"name\":\"Trial72\",\"x\":[0,1,2,3,4,5,6,7,8,9],\"y\":[0.74375,0.77265625,0.78828125,0.78359375,0.80234375,0.83125,0.8296875,0.81640625,0.81796875,0.825],\"type\":\"scatter\"},{\"marker\":{\"maxdisplayed\":10},\"mode\":\"lines+markers\",\"name\":\"Trial73\",\"x\":[0,1,2,3,4,5,6,7,8,9],\"y\":[0.71875,0.76015625,0.78671875,0.79765625,0.81640625,0.83828125,0.82890625,0.809375,0.8109375,0.82421875],\"type\":\"scatter\"},{\"marker\":{\"maxdisplayed\":10},\"mode\":\"lines+markers\",\"name\":\"Trial74\",\"x\":[0],\"y\":[0.67890625],\"type\":\"scatter\"},{\"marker\":{\"maxdisplayed\":10},\"mode\":\"lines+markers\",\"name\":\"Trial75\",\"x\":[0],\"y\":[0.6953125],\"type\":\"scatter\"},{\"marker\":{\"maxdisplayed\":10},\"mode\":\"lines+markers\",\"name\":\"Trial76\",\"x\":[0],\"y\":[0.10859375],\"type\":\"scatter\"},{\"marker\":{\"maxdisplayed\":10},\"mode\":\"lines+markers\",\"name\":\"Trial77\",\"x\":[0],\"y\":[0.546875],\"type\":\"scatter\"},{\"marker\":{\"maxdisplayed\":10},\"mode\":\"lines+markers\",\"name\":\"Trial78\",\"x\":[0],\"y\":[0.67578125],\"type\":\"scatter\"},{\"marker\":{\"maxdisplayed\":10},\"mode\":\"lines+markers\",\"name\":\"Trial79\",\"x\":[0],\"y\":[0.6796875],\"type\":\"scatter\"},{\"marker\":{\"maxdisplayed\":10},\"mode\":\"lines+markers\",\"name\":\"Trial80\",\"x\":[0],\"y\":[0.7015625],\"type\":\"scatter\"},{\"marker\":{\"maxdisplayed\":10},\"mode\":\"lines+markers\",\"name\":\"Trial81\",\"x\":[0,1,2,3,4,5,6,7,8,9],\"y\":[0.7328125,0.759375,0.79140625,0.77734375,0.84453125,0.8125,0.8203125,0.8359375,0.84453125,0.8265625],\"type\":\"scatter\"},{\"marker\":{\"maxdisplayed\":10},\"mode\":\"lines+markers\",\"name\":\"Trial82\",\"x\":[0,1,2,3,4,5,6,7,8,9],\"y\":[0.72421875,0.7875,0.80625,0.80703125,0.8140625,0.82578125,0.8,0.8296875,0.81328125,0.815625],\"type\":\"scatter\"},{\"marker\":{\"maxdisplayed\":10},\"mode\":\"lines+markers\",\"name\":\"Trial83\",\"x\":[0,1,2,3,4,5,6,7,8,9],\"y\":[0.72265625,0.78828125,0.7625,0.81171875,0.80390625,0.8078125,0.8140625,0.81328125,0.8453125,0.821875],\"type\":\"scatter\"},{\"marker\":{\"maxdisplayed\":10},\"mode\":\"lines+markers\",\"name\":\"Trial84\",\"x\":[0,1,2,3,4,5,6,7,8,9],\"y\":[0.72890625,0.77265625,0.796875,0.7859375,0.82421875,0.80625,0.8125,0.83046875,0.81328125,0.80390625],\"type\":\"scatter\"},{\"marker\":{\"maxdisplayed\":10},\"mode\":\"lines+markers\",\"name\":\"Trial85\",\"x\":[0],\"y\":[0.70703125],\"type\":\"scatter\"},{\"marker\":{\"maxdisplayed\":10},\"mode\":\"lines+markers\",\"name\":\"Trial86\",\"x\":[0],\"y\":[0.71171875],\"type\":\"scatter\"},{\"marker\":{\"maxdisplayed\":10},\"mode\":\"lines+markers\",\"name\":\"Trial87\",\"x\":[0,1,2,3,4,5,6,7,8,9],\"y\":[0.74296875,0.765625,0.81015625,0.81171875,0.74453125,0.80234375,0.82890625,0.80703125,0.8484375,0.803125],\"type\":\"scatter\"},{\"marker\":{\"maxdisplayed\":10},\"mode\":\"lines+markers\",\"name\":\"Trial88\",\"x\":[0],\"y\":[0.6515625],\"type\":\"scatter\"},{\"marker\":{\"maxdisplayed\":10},\"mode\":\"lines+markers\",\"name\":\"Trial89\",\"x\":[0],\"y\":[0.16171875],\"type\":\"scatter\"},{\"marker\":{\"maxdisplayed\":10},\"mode\":\"lines+markers\",\"name\":\"Trial90\",\"x\":[0],\"y\":[0.6859375],\"type\":\"scatter\"},{\"marker\":{\"maxdisplayed\":10},\"mode\":\"lines+markers\",\"name\":\"Trial91\",\"x\":[0,1,2,3,4,5,6,7,8,9],\"y\":[0.74453125,0.80390625,0.8015625,0.81328125,0.80546875,0.84296875,0.8171875,0.83671875,0.8109375,0.834375],\"type\":\"scatter\"},{\"marker\":{\"maxdisplayed\":10},\"mode\":\"lines+markers\",\"name\":\"Trial92\",\"x\":[0,1,2,3,4,5,6,7,8,9],\"y\":[0.73515625,0.76953125,0.79453125,0.81328125,0.8109375,0.81484375,0.82890625,0.828125,0.83125,0.840625],\"type\":\"scatter\"},{\"marker\":{\"maxdisplayed\":10},\"mode\":\"lines+markers\",\"name\":\"Trial93\",\"x\":[0],\"y\":[0.69375],\"type\":\"scatter\"},{\"marker\":{\"maxdisplayed\":10},\"mode\":\"lines+markers\",\"name\":\"Trial94\",\"x\":[0,1,2,3,4,5,6,7,8,9],\"y\":[0.7375,0.7875,0.796875,0.8296875,0.8109375,0.821875,0.79765625,0.8421875,0.81484375,0.825],\"type\":\"scatter\"},{\"marker\":{\"maxdisplayed\":10},\"mode\":\"lines+markers\",\"name\":\"Trial95\",\"x\":[0,1,2,3,4],\"y\":[0.74765625,0.778125,0.8,0.796875,0.79296875],\"type\":\"scatter\"},{\"marker\":{\"maxdisplayed\":10},\"mode\":\"lines+markers\",\"name\":\"Trial96\",\"x\":[0],\"y\":[0.69296875],\"type\":\"scatter\"},{\"marker\":{\"maxdisplayed\":10},\"mode\":\"lines+markers\",\"name\":\"Trial97\",\"x\":[0],\"y\":[0.6953125],\"type\":\"scatter\"},{\"marker\":{\"maxdisplayed\":10},\"mode\":\"lines+markers\",\"name\":\"Trial98\",\"x\":[0],\"y\":[0.70078125],\"type\":\"scatter\"},{\"marker\":{\"maxdisplayed\":10},\"mode\":\"lines+markers\",\"name\":\"Trial99\",\"x\":[0],\"y\":[0.678125],\"type\":\"scatter\"},{\"marker\":{\"maxdisplayed\":10},\"mode\":\"lines+markers\",\"name\":\"Trial100\",\"x\":[0,1,2,3,4,5,6,7,8,9],\"y\":[0.7515625,0.78671875,0.8046875,0.8109375,0.7921875,0.8328125,0.79609375,0.83203125,0.81015625,0.82734375],\"type\":\"scatter\"},{\"marker\":{\"maxdisplayed\":10},\"mode\":\"lines+markers\",\"name\":\"Trial101\",\"x\":[0,1,2],\"y\":[0.7484375,0.78515625,0.7640625],\"type\":\"scatter\"},{\"marker\":{\"maxdisplayed\":10},\"mode\":\"lines+markers\",\"name\":\"Trial102\",\"x\":[0,1,2,3,4,5,6,7,8,9],\"y\":[0.7328125,0.775,0.803125,0.803125,0.8046875,0.81015625,0.821875,0.825,0.8046875,0.80703125],\"type\":\"scatter\"},{\"marker\":{\"maxdisplayed\":10},\"mode\":\"lines+markers\",\"name\":\"Trial103\",\"x\":[0,1,2,3,4,5,6,7,8,9],\"y\":[0.72421875,0.77265625,0.8171875,0.7984375,0.8234375,0.82265625,0.81640625,0.82578125,0.8328125,0.8234375],\"type\":\"scatter\"},{\"marker\":{\"maxdisplayed\":10},\"mode\":\"lines+markers\",\"name\":\"Trial104\",\"x\":[0],\"y\":[0.70625],\"type\":\"scatter\"},{\"marker\":{\"maxdisplayed\":10},\"mode\":\"lines+markers\",\"name\":\"Trial105\",\"x\":[0,1,2,3],\"y\":[0.75,0.7765625,0.7921875,0.77265625],\"type\":\"scatter\"},{\"marker\":{\"maxdisplayed\":10},\"mode\":\"lines+markers\",\"name\":\"Trial106\",\"x\":[0,1,2,3,4],\"y\":[0.74296875,0.78828125,0.79453125,0.80078125,0.79140625],\"type\":\"scatter\"},{\"marker\":{\"maxdisplayed\":10},\"mode\":\"lines+markers\",\"name\":\"Trial107\",\"x\":[0],\"y\":[0.4453125],\"type\":\"scatter\"},{\"marker\":{\"maxdisplayed\":10},\"mode\":\"lines+markers\",\"name\":\"Trial108\",\"x\":[0,1,2,3,4,5,6,7,8,9],\"y\":[0.7296875,0.7921875,0.81640625,0.81484375,0.8359375,0.83359375,0.83828125,0.821875,0.83984375,0.8359375],\"type\":\"scatter\"},{\"marker\":{\"maxdisplayed\":10},\"mode\":\"lines+markers\",\"name\":\"Trial109\",\"x\":[0],\"y\":[0.67734375],\"type\":\"scatter\"},{\"marker\":{\"maxdisplayed\":10},\"mode\":\"lines+markers\",\"name\":\"Trial110\",\"x\":[0],\"y\":[0.7171875],\"type\":\"scatter\"},{\"marker\":{\"maxdisplayed\":10},\"mode\":\"lines+markers\",\"name\":\"Trial111\",\"x\":[0,1,2,3,4,5,6,7,8,9],\"y\":[0.75,0.79765625,0.8015625,0.828125,0.84453125,0.81484375,0.81328125,0.83515625,0.81484375,0.85625],\"type\":\"scatter\"},{\"marker\":{\"maxdisplayed\":10},\"mode\":\"lines+markers\",\"name\":\"Trial112\",\"x\":[0],\"y\":[0.70625],\"type\":\"scatter\"},{\"marker\":{\"maxdisplayed\":10},\"mode\":\"lines+markers\",\"name\":\"Trial113\",\"x\":[0,1,2],\"y\":[0.73046875,0.7703125,0.76484375],\"type\":\"scatter\"},{\"marker\":{\"maxdisplayed\":10},\"mode\":\"lines+markers\",\"name\":\"Trial114\",\"x\":[0,1,2,3,4,5,6,7,8,9],\"y\":[0.7734375,0.7984375,0.7828125,0.80859375,0.8,0.8171875,0.81953125,0.82421875,0.81875,0.8375],\"type\":\"scatter\"},{\"marker\":{\"maxdisplayed\":10},\"mode\":\"lines+markers\",\"name\":\"Trial115\",\"x\":[0],\"y\":[0.7171875],\"type\":\"scatter\"},{\"marker\":{\"maxdisplayed\":10},\"mode\":\"lines+markers\",\"name\":\"Trial116\",\"x\":[0,1,2,3,4,5,6,7,8,9],\"y\":[0.73984375,0.7734375,0.7984375,0.78984375,0.8171875,0.81640625,0.81796875,0.80234375,0.81875,0.8484375],\"type\":\"scatter\"},{\"marker\":{\"maxdisplayed\":10},\"mode\":\"lines+markers\",\"name\":\"Trial117\",\"x\":[0,1],\"y\":[0.75234375,0.7640625],\"type\":\"scatter\"},{\"marker\":{\"maxdisplayed\":10},\"mode\":\"lines+markers\",\"name\":\"Trial118\",\"x\":[0,1,2,3,4,5,6,7,8,9],\"y\":[0.77890625,0.7328125,0.79375,0.790625,0.81640625,0.81328125,0.81171875,0.8125,0.8296875,0.8046875],\"type\":\"scatter\"},{\"marker\":{\"maxdisplayed\":10},\"mode\":\"lines+markers\",\"name\":\"Trial119\",\"x\":[0,1],\"y\":[0.74453125,0.73046875],\"type\":\"scatter\"},{\"marker\":{\"maxdisplayed\":10},\"mode\":\"lines+markers\",\"name\":\"Trial120\",\"x\":[0,1,2,3,4,5,6,7,8,9],\"y\":[0.75546875,0.79609375,0.8078125,0.834375,0.815625,0.80625,0.83203125,0.80625,0.7984375,0.82109375],\"type\":\"scatter\"},{\"marker\":{\"maxdisplayed\":10},\"mode\":\"lines+markers\",\"name\":\"Trial121\",\"x\":[0,1,2],\"y\":[0.73125,0.76796875,0.77421875],\"type\":\"scatter\"},{\"marker\":{\"maxdisplayed\":10},\"mode\":\"lines+markers\",\"name\":\"Trial122\",\"x\":[0],\"y\":[0.69140625],\"type\":\"scatter\"},{\"marker\":{\"maxdisplayed\":10},\"mode\":\"lines+markers\",\"name\":\"Trial123\",\"x\":[0],\"y\":[0.7078125],\"type\":\"scatter\"},{\"marker\":{\"maxdisplayed\":10},\"mode\":\"lines+markers\",\"name\":\"Trial124\",\"x\":[0,1,2,3,4,5,6],\"y\":[0.7328125,0.7734375,0.79140625,0.79609375,0.8078125,0.80078125,0.7765625],\"type\":\"scatter\"},{\"marker\":{\"maxdisplayed\":10},\"mode\":\"lines+markers\",\"name\":\"Trial125\",\"x\":[0,1],\"y\":[0.74921875,0.76015625],\"type\":\"scatter\"},{\"marker\":{\"maxdisplayed\":10},\"mode\":\"lines+markers\",\"name\":\"Trial126\",\"x\":[0],\"y\":[0.71953125],\"type\":\"scatter\"},{\"marker\":{\"maxdisplayed\":10},\"mode\":\"lines+markers\",\"name\":\"Trial127\",\"x\":[0],\"y\":[0.71015625],\"type\":\"scatter\"},{\"marker\":{\"maxdisplayed\":10},\"mode\":\"lines+markers\",\"name\":\"Trial128\",\"x\":[0],\"y\":[0.6828125],\"type\":\"scatter\"},{\"marker\":{\"maxdisplayed\":10},\"mode\":\"lines+markers\",\"name\":\"Trial129\",\"x\":[0],\"y\":[0.72109375],\"type\":\"scatter\"},{\"marker\":{\"maxdisplayed\":10},\"mode\":\"lines+markers\",\"name\":\"Trial130\",\"x\":[0,1],\"y\":[0.728125,0.753125],\"type\":\"scatter\"},{\"marker\":{\"maxdisplayed\":10},\"mode\":\"lines+markers\",\"name\":\"Trial131\",\"x\":[0,1],\"y\":[0.72734375,0.7609375],\"type\":\"scatter\"},{\"marker\":{\"maxdisplayed\":10},\"mode\":\"lines+markers\",\"name\":\"Trial132\",\"x\":[0],\"y\":[0.7109375],\"type\":\"scatter\"},{\"marker\":{\"maxdisplayed\":10},\"mode\":\"lines+markers\",\"name\":\"Trial133\",\"x\":[0],\"y\":[0.6921875],\"type\":\"scatter\"},{\"marker\":{\"maxdisplayed\":10},\"mode\":\"lines+markers\",\"name\":\"Trial134\",\"x\":[0],\"y\":[0.66015625],\"type\":\"scatter\"},{\"marker\":{\"maxdisplayed\":10},\"mode\":\"lines+markers\",\"name\":\"Trial135\",\"x\":[0],\"y\":[0.68203125],\"type\":\"scatter\"},{\"marker\":{\"maxdisplayed\":10},\"mode\":\"lines+markers\",\"name\":\"Trial136\",\"x\":[0,1],\"y\":[0.7421875,0.7578125],\"type\":\"scatter\"},{\"marker\":{\"maxdisplayed\":10},\"mode\":\"lines+markers\",\"name\":\"Trial137\",\"x\":[0,1],\"y\":[0.72734375,0.7625],\"type\":\"scatter\"},{\"marker\":{\"maxdisplayed\":10},\"mode\":\"lines+markers\",\"name\":\"Trial138\",\"x\":[0],\"y\":[0.69765625],\"type\":\"scatter\"},{\"marker\":{\"maxdisplayed\":10},\"mode\":\"lines+markers\",\"name\":\"Trial139\",\"x\":[0],\"y\":[0.715625],\"type\":\"scatter\"},{\"marker\":{\"maxdisplayed\":10},\"mode\":\"lines+markers\",\"name\":\"Trial140\",\"x\":[0],\"y\":[0.70546875],\"type\":\"scatter\"},{\"marker\":{\"maxdisplayed\":10},\"mode\":\"lines+markers\",\"name\":\"Trial141\",\"x\":[0],\"y\":[0.69375],\"type\":\"scatter\"},{\"marker\":{\"maxdisplayed\":10},\"mode\":\"lines+markers\",\"name\":\"Trial142\",\"x\":[0,1,2,3,4,5,6,7,8,9],\"y\":[0.73203125,0.77578125,0.803125,0.8203125,0.821875,0.828125,0.82265625,0.828125,0.8359375,0.815625],\"type\":\"scatter\"},{\"marker\":{\"maxdisplayed\":10},\"mode\":\"lines+markers\",\"name\":\"Trial143\",\"x\":[0],\"y\":[0.71875],\"type\":\"scatter\"},{\"marker\":{\"maxdisplayed\":10},\"mode\":\"lines+markers\",\"name\":\"Trial144\",\"x\":[0,1,2,3,4,5,6,7,8,9],\"y\":[0.73359375,0.7671875,0.80859375,0.81015625,0.82890625,0.8109375,0.79140625,0.8359375,0.84140625,0.825],\"type\":\"scatter\"},{\"marker\":{\"maxdisplayed\":10},\"mode\":\"lines+markers\",\"name\":\"Trial145\",\"x\":[0,1,2],\"y\":[0.7484375,0.77109375,0.771875],\"type\":\"scatter\"},{\"marker\":{\"maxdisplayed\":10},\"mode\":\"lines+markers\",\"name\":\"Trial146\",\"x\":[0],\"y\":[0.7015625],\"type\":\"scatter\"},{\"marker\":{\"maxdisplayed\":10},\"mode\":\"lines+markers\",\"name\":\"Trial147\",\"x\":[0],\"y\":[0.70703125],\"type\":\"scatter\"},{\"marker\":{\"maxdisplayed\":10},\"mode\":\"lines+markers\",\"name\":\"Trial148\",\"x\":[0],\"y\":[0.7078125],\"type\":\"scatter\"},{\"marker\":{\"maxdisplayed\":10},\"mode\":\"lines+markers\",\"name\":\"Trial149\",\"x\":[0,1,2,3,4],\"y\":[0.72890625,0.78359375,0.79453125,0.79765625,0.7890625],\"type\":\"scatter\"},{\"marker\":{\"maxdisplayed\":10},\"mode\":\"lines+markers\",\"name\":\"Trial150\",\"x\":[0],\"y\":[0.65625],\"type\":\"scatter\"},{\"marker\":{\"maxdisplayed\":10},\"mode\":\"lines+markers\",\"name\":\"Trial151\",\"x\":[0],\"y\":[0.19453125],\"type\":\"scatter\"},{\"marker\":{\"maxdisplayed\":10},\"mode\":\"lines+markers\",\"name\":\"Trial152\",\"x\":[0],\"y\":[0.70703125],\"type\":\"scatter\"},{\"marker\":{\"maxdisplayed\":10},\"mode\":\"lines+markers\",\"name\":\"Trial153\",\"x\":[0,1,2,3,4,5,6,7,8,9],\"y\":[0.7484375,0.77265625,0.79765625,0.79140625,0.8171875,0.82734375,0.80703125,0.83125,0.82421875,0.83671875],\"type\":\"scatter\"},{\"marker\":{\"maxdisplayed\":10},\"mode\":\"lines+markers\",\"name\":\"Trial154\",\"x\":[0,1,2,3,4,5,6,7,8,9],\"y\":[0.7546875,0.7953125,0.821875,0.8125,0.8296875,0.8171875,0.83125,0.83203125,0.825,0.81796875],\"type\":\"scatter\"},{\"marker\":{\"maxdisplayed\":10},\"mode\":\"lines+markers\",\"name\":\"Trial155\",\"x\":[0,1,2,3,4,5,6,7,8,9],\"y\":[0.74375,0.76640625,0.79765625,0.81015625,0.78125,0.83515625,0.81328125,0.8359375,0.81953125,0.80703125],\"type\":\"scatter\"},{\"marker\":{\"maxdisplayed\":10},\"mode\":\"lines+markers\",\"name\":\"Trial156\",\"x\":[0,1],\"y\":[0.73671875,0.7625],\"type\":\"scatter\"},{\"marker\":{\"maxdisplayed\":10},\"mode\":\"lines+markers\",\"name\":\"Trial157\",\"x\":[0,1,2,3,4,5,6,7,8,9],\"y\":[0.7265625,0.796875,0.79296875,0.8265625,0.79375,0.81640625,0.82578125,0.83671875,0.81640625,0.82890625],\"type\":\"scatter\"},{\"marker\":{\"maxdisplayed\":10},\"mode\":\"lines+markers\",\"name\":\"Trial158\",\"x\":[0],\"y\":[0.69921875],\"type\":\"scatter\"},{\"marker\":{\"maxdisplayed\":10},\"mode\":\"lines+markers\",\"name\":\"Trial159\",\"x\":[0,1,2,3,4,5,6,7,8,9],\"y\":[0.753125,0.78203125,0.7921875,0.80390625,0.81171875,0.83671875,0.8203125,0.84296875,0.82109375,0.778125],\"type\":\"scatter\"},{\"marker\":{\"maxdisplayed\":10},\"mode\":\"lines+markers\",\"name\":\"Trial160\",\"x\":[0],\"y\":[0.6875],\"type\":\"scatter\"},{\"marker\":{\"maxdisplayed\":10},\"mode\":\"lines+markers\",\"name\":\"Trial161\",\"x\":[0,1],\"y\":[0.7453125,0.75234375],\"type\":\"scatter\"},{\"marker\":{\"maxdisplayed\":10},\"mode\":\"lines+markers\",\"name\":\"Trial162\",\"x\":[0,1],\"y\":[0.75234375,0.746875],\"type\":\"scatter\"},{\"marker\":{\"maxdisplayed\":10},\"mode\":\"lines+markers\",\"name\":\"Trial163\",\"x\":[0,1,2,3,4,5,6,7,8,9],\"y\":[0.76171875,0.7859375,0.809375,0.8296875,0.796875,0.8,0.81171875,0.82890625,0.821875,0.8078125],\"type\":\"scatter\"},{\"marker\":{\"maxdisplayed\":10},\"mode\":\"lines+markers\",\"name\":\"Trial164\",\"x\":[0],\"y\":[0.71953125],\"type\":\"scatter\"},{\"marker\":{\"maxdisplayed\":10},\"mode\":\"lines+markers\",\"name\":\"Trial165\",\"x\":[0],\"y\":[0.6859375],\"type\":\"scatter\"},{\"marker\":{\"maxdisplayed\":10},\"mode\":\"lines+markers\",\"name\":\"Trial166\",\"x\":[0],\"y\":[0.69453125],\"type\":\"scatter\"},{\"marker\":{\"maxdisplayed\":10},\"mode\":\"lines+markers\",\"name\":\"Trial167\",\"x\":[0],\"y\":[0.71328125],\"type\":\"scatter\"},{\"marker\":{\"maxdisplayed\":10},\"mode\":\"lines+markers\",\"name\":\"Trial168\",\"x\":[0],\"y\":[0.70625],\"type\":\"scatter\"},{\"marker\":{\"maxdisplayed\":10},\"mode\":\"lines+markers\",\"name\":\"Trial169\",\"x\":[0,1,2,3,4,5,6,7,8,9],\"y\":[0.7609375,0.796875,0.77890625,0.79921875,0.82578125,0.8296875,0.81328125,0.821875,0.8171875,0.8234375],\"type\":\"scatter\"},{\"marker\":{\"maxdisplayed\":10},\"mode\":\"lines+markers\",\"name\":\"Trial170\",\"x\":[0],\"y\":[0.715625],\"type\":\"scatter\"},{\"marker\":{\"maxdisplayed\":10},\"mode\":\"lines+markers\",\"name\":\"Trial171\",\"x\":[0],\"y\":[0.7078125],\"type\":\"scatter\"},{\"marker\":{\"maxdisplayed\":10},\"mode\":\"lines+markers\",\"name\":\"Trial172\",\"x\":[0,1,2,3,4,5,6],\"y\":[0.7375,0.77734375,0.8015625,0.8046875,0.81171875,0.7921875,0.81015625],\"type\":\"scatter\"},{\"marker\":{\"maxdisplayed\":10},\"mode\":\"lines+markers\",\"name\":\"Trial173\",\"x\":[0,1],\"y\":[0.75,0.7625],\"type\":\"scatter\"},{\"marker\":{\"maxdisplayed\":10},\"mode\":\"lines+markers\",\"name\":\"Trial174\",\"x\":[0],\"y\":[0.72265625],\"type\":\"scatter\"},{\"marker\":{\"maxdisplayed\":10},\"mode\":\"lines+markers\",\"name\":\"Trial175\",\"x\":[0],\"y\":[0.69609375],\"type\":\"scatter\"},{\"marker\":{\"maxdisplayed\":10},\"mode\":\"lines+markers\",\"name\":\"Trial176\",\"x\":[0],\"y\":[0.7234375],\"type\":\"scatter\"},{\"marker\":{\"maxdisplayed\":10},\"mode\":\"lines+markers\",\"name\":\"Trial177\",\"x\":[0,1,2],\"y\":[0.73046875,0.775,0.77890625],\"type\":\"scatter\"},{\"marker\":{\"maxdisplayed\":10},\"mode\":\"lines+markers\",\"name\":\"Trial178\",\"x\":[0],\"y\":[0.7078125],\"type\":\"scatter\"},{\"marker\":{\"maxdisplayed\":10},\"mode\":\"lines+markers\",\"name\":\"Trial179\",\"x\":[0],\"y\":[0.7046875],\"type\":\"scatter\"},{\"marker\":{\"maxdisplayed\":10},\"mode\":\"lines+markers\",\"name\":\"Trial180\",\"x\":[0,1,2],\"y\":[0.7671875,0.78671875,0.7828125],\"type\":\"scatter\"},{\"marker\":{\"maxdisplayed\":10},\"mode\":\"lines+markers\",\"name\":\"Trial181\",\"x\":[0],\"y\":[0.71875],\"type\":\"scatter\"},{\"marker\":{\"maxdisplayed\":10},\"mode\":\"lines+markers\",\"name\":\"Trial182\",\"x\":[0,1],\"y\":[0.7484375,0.7640625],\"type\":\"scatter\"},{\"marker\":{\"maxdisplayed\":10},\"mode\":\"lines+markers\",\"name\":\"Trial183\",\"x\":[0,1,2,3,4],\"y\":[0.7328125,0.8,0.784375,0.80546875,0.80546875],\"type\":\"scatter\"},{\"marker\":{\"maxdisplayed\":10},\"mode\":\"lines+markers\",\"name\":\"Trial184\",\"x\":[0],\"y\":[0.69921875],\"type\":\"scatter\"},{\"marker\":{\"maxdisplayed\":10},\"mode\":\"lines+markers\",\"name\":\"Trial185\",\"x\":[0,1],\"y\":[0.72734375,0.728125],\"type\":\"scatter\"},{\"marker\":{\"maxdisplayed\":10},\"mode\":\"lines+markers\",\"name\":\"Trial186\",\"x\":[0],\"y\":[0.70625],\"type\":\"scatter\"},{\"marker\":{\"maxdisplayed\":10},\"mode\":\"lines+markers\",\"name\":\"Trial187\",\"x\":[0,1,2],\"y\":[0.76875,0.76484375,0.771875],\"type\":\"scatter\"},{\"marker\":{\"maxdisplayed\":10},\"mode\":\"lines+markers\",\"name\":\"Trial188\",\"x\":[0,1,2,3,4,5,6,7,8,9],\"y\":[0.734375,0.78125,0.7953125,0.80625,0.8375,0.81171875,0.83984375,0.840625,0.83359375,0.834375],\"type\":\"scatter\"},{\"marker\":{\"maxdisplayed\":10},\"mode\":\"lines+markers\",\"name\":\"Trial189\",\"x\":[0],\"y\":[0.70625],\"type\":\"scatter\"},{\"marker\":{\"maxdisplayed\":10},\"mode\":\"lines+markers\",\"name\":\"Trial190\",\"x\":[0,1,2],\"y\":[0.7296875,0.7765625,0.784375],\"type\":\"scatter\"},{\"marker\":{\"maxdisplayed\":10},\"mode\":\"lines+markers\",\"name\":\"Trial191\",\"x\":[0],\"y\":[0.7171875],\"type\":\"scatter\"},{\"marker\":{\"maxdisplayed\":10},\"mode\":\"lines+markers\",\"name\":\"Trial192\",\"x\":[0],\"y\":[0.72265625],\"type\":\"scatter\"},{\"marker\":{\"maxdisplayed\":10},\"mode\":\"lines+markers\",\"name\":\"Trial193\",\"x\":[0,1,2,3],\"y\":[0.73828125,0.79765625,0.7953125,0.79140625],\"type\":\"scatter\"},{\"marker\":{\"maxdisplayed\":10},\"mode\":\"lines+markers\",\"name\":\"Trial194\",\"x\":[0,1],\"y\":[0.74765625,0.76484375],\"type\":\"scatter\"},{\"marker\":{\"maxdisplayed\":10},\"mode\":\"lines+markers\",\"name\":\"Trial195\",\"x\":[0],\"y\":[0.7078125],\"type\":\"scatter\"},{\"marker\":{\"maxdisplayed\":10},\"mode\":\"lines+markers\",\"name\":\"Trial196\",\"x\":[0],\"y\":[0.7171875],\"type\":\"scatter\"},{\"marker\":{\"maxdisplayed\":10},\"mode\":\"lines+markers\",\"name\":\"Trial197\",\"x\":[0,1,2,3,4,5,6,7,8,9],\"y\":[0.74140625,0.79296875,0.77890625,0.81640625,0.83046875,0.81484375,0.84140625,0.846875,0.83984375,0.83125],\"type\":\"scatter\"},{\"marker\":{\"maxdisplayed\":10},\"mode\":\"lines+markers\",\"name\":\"Trial198\",\"x\":[0],\"y\":[0.7078125],\"type\":\"scatter\"},{\"marker\":{\"maxdisplayed\":10},\"mode\":\"lines+markers\",\"name\":\"Trial199\",\"x\":[0],\"y\":[0.678125],\"type\":\"scatter\"}],                        {\"showlegend\":false,\"title\":{\"text\":\"Intermediate Values Plot\"},\"xaxis\":{\"title\":{\"text\":\"Step\"}},\"yaxis\":{\"title\":{\"text\":\"Intermediate Value\"}},\"template\":{\"data\":{\"histogram2dcontour\":[{\"type\":\"histogram2dcontour\",\"colorbar\":{\"outlinewidth\":0,\"ticks\":\"\"},\"colorscale\":[[0.0,\"#0d0887\"],[0.1111111111111111,\"#46039f\"],[0.2222222222222222,\"#7201a8\"],[0.3333333333333333,\"#9c179e\"],[0.4444444444444444,\"#bd3786\"],[0.5555555555555556,\"#d8576b\"],[0.6666666666666666,\"#ed7953\"],[0.7777777777777778,\"#fb9f3a\"],[0.8888888888888888,\"#fdca26\"],[1.0,\"#f0f921\"]]}],\"choropleth\":[{\"type\":\"choropleth\",\"colorbar\":{\"outlinewidth\":0,\"ticks\":\"\"}}],\"histogram2d\":[{\"type\":\"histogram2d\",\"colorbar\":{\"outlinewidth\":0,\"ticks\":\"\"},\"colorscale\":[[0.0,\"#0d0887\"],[0.1111111111111111,\"#46039f\"],[0.2222222222222222,\"#7201a8\"],[0.3333333333333333,\"#9c179e\"],[0.4444444444444444,\"#bd3786\"],[0.5555555555555556,\"#d8576b\"],[0.6666666666666666,\"#ed7953\"],[0.7777777777777778,\"#fb9f3a\"],[0.8888888888888888,\"#fdca26\"],[1.0,\"#f0f921\"]]}],\"heatmap\":[{\"type\":\"heatmap\",\"colorbar\":{\"outlinewidth\":0,\"ticks\":\"\"},\"colorscale\":[[0.0,\"#0d0887\"],[0.1111111111111111,\"#46039f\"],[0.2222222222222222,\"#7201a8\"],[0.3333333333333333,\"#9c179e\"],[0.4444444444444444,\"#bd3786\"],[0.5555555555555556,\"#d8576b\"],[0.6666666666666666,\"#ed7953\"],[0.7777777777777778,\"#fb9f3a\"],[0.8888888888888888,\"#fdca26\"],[1.0,\"#f0f921\"]]}],\"heatmapgl\":[{\"type\":\"heatmapgl\",\"colorbar\":{\"outlinewidth\":0,\"ticks\":\"\"},\"colorscale\":[[0.0,\"#0d0887\"],[0.1111111111111111,\"#46039f\"],[0.2222222222222222,\"#7201a8\"],[0.3333333333333333,\"#9c179e\"],[0.4444444444444444,\"#bd3786\"],[0.5555555555555556,\"#d8576b\"],[0.6666666666666666,\"#ed7953\"],[0.7777777777777778,\"#fb9f3a\"],[0.8888888888888888,\"#fdca26\"],[1.0,\"#f0f921\"]]}],\"contourcarpet\":[{\"type\":\"contourcarpet\",\"colorbar\":{\"outlinewidth\":0,\"ticks\":\"\"}}],\"contour\":[{\"type\":\"contour\",\"colorbar\":{\"outlinewidth\":0,\"ticks\":\"\"},\"colorscale\":[[0.0,\"#0d0887\"],[0.1111111111111111,\"#46039f\"],[0.2222222222222222,\"#7201a8\"],[0.3333333333333333,\"#9c179e\"],[0.4444444444444444,\"#bd3786\"],[0.5555555555555556,\"#d8576b\"],[0.6666666666666666,\"#ed7953\"],[0.7777777777777778,\"#fb9f3a\"],[0.8888888888888888,\"#fdca26\"],[1.0,\"#f0f921\"]]}],\"surface\":[{\"type\":\"surface\",\"colorbar\":{\"outlinewidth\":0,\"ticks\":\"\"},\"colorscale\":[[0.0,\"#0d0887\"],[0.1111111111111111,\"#46039f\"],[0.2222222222222222,\"#7201a8\"],[0.3333333333333333,\"#9c179e\"],[0.4444444444444444,\"#bd3786\"],[0.5555555555555556,\"#d8576b\"],[0.6666666666666666,\"#ed7953\"],[0.7777777777777778,\"#fb9f3a\"],[0.8888888888888888,\"#fdca26\"],[1.0,\"#f0f921\"]]}],\"mesh3d\":[{\"type\":\"mesh3d\",\"colorbar\":{\"outlinewidth\":0,\"ticks\":\"\"}}],\"scatter\":[{\"fillpattern\":{\"fillmode\":\"overlay\",\"size\":10,\"solidity\":0.2},\"type\":\"scatter\"}],\"parcoords\":[{\"type\":\"parcoords\",\"line\":{\"colorbar\":{\"outlinewidth\":0,\"ticks\":\"\"}}}],\"scatterpolargl\":[{\"type\":\"scatterpolargl\",\"marker\":{\"colorbar\":{\"outlinewidth\":0,\"ticks\":\"\"}}}],\"bar\":[{\"error_x\":{\"color\":\"#2a3f5f\"},\"error_y\":{\"color\":\"#2a3f5f\"},\"marker\":{\"line\":{\"color\":\"#E5ECF6\",\"width\":0.5},\"pattern\":{\"fillmode\":\"overlay\",\"size\":10,\"solidity\":0.2}},\"type\":\"bar\"}],\"scattergeo\":[{\"type\":\"scattergeo\",\"marker\":{\"colorbar\":{\"outlinewidth\":0,\"ticks\":\"\"}}}],\"scatterpolar\":[{\"type\":\"scatterpolar\",\"marker\":{\"colorbar\":{\"outlinewidth\":0,\"ticks\":\"\"}}}],\"histogram\":[{\"marker\":{\"pattern\":{\"fillmode\":\"overlay\",\"size\":10,\"solidity\":0.2}},\"type\":\"histogram\"}],\"scattergl\":[{\"type\":\"scattergl\",\"marker\":{\"colorbar\":{\"outlinewidth\":0,\"ticks\":\"\"}}}],\"scatter3d\":[{\"type\":\"scatter3d\",\"line\":{\"colorbar\":{\"outlinewidth\":0,\"ticks\":\"\"}},\"marker\":{\"colorbar\":{\"outlinewidth\":0,\"ticks\":\"\"}}}],\"scattermapbox\":[{\"type\":\"scattermapbox\",\"marker\":{\"colorbar\":{\"outlinewidth\":0,\"ticks\":\"\"}}}],\"scatterternary\":[{\"type\":\"scatterternary\",\"marker\":{\"colorbar\":{\"outlinewidth\":0,\"ticks\":\"\"}}}],\"scattercarpet\":[{\"type\":\"scattercarpet\",\"marker\":{\"colorbar\":{\"outlinewidth\":0,\"ticks\":\"\"}}}],\"carpet\":[{\"aaxis\":{\"endlinecolor\":\"#2a3f5f\",\"gridcolor\":\"white\",\"linecolor\":\"white\",\"minorgridcolor\":\"white\",\"startlinecolor\":\"#2a3f5f\"},\"baxis\":{\"endlinecolor\":\"#2a3f5f\",\"gridcolor\":\"white\",\"linecolor\":\"white\",\"minorgridcolor\":\"white\",\"startlinecolor\":\"#2a3f5f\"},\"type\":\"carpet\"}],\"table\":[{\"cells\":{\"fill\":{\"color\":\"#EBF0F8\"},\"line\":{\"color\":\"white\"}},\"header\":{\"fill\":{\"color\":\"#C8D4E3\"},\"line\":{\"color\":\"white\"}},\"type\":\"table\"}],\"barpolar\":[{\"marker\":{\"line\":{\"color\":\"#E5ECF6\",\"width\":0.5},\"pattern\":{\"fillmode\":\"overlay\",\"size\":10,\"solidity\":0.2}},\"type\":\"barpolar\"}],\"pie\":[{\"automargin\":true,\"type\":\"pie\"}]},\"layout\":{\"autotypenumbers\":\"strict\",\"colorway\":[\"#636efa\",\"#EF553B\",\"#00cc96\",\"#ab63fa\",\"#FFA15A\",\"#19d3f3\",\"#FF6692\",\"#B6E880\",\"#FF97FF\",\"#FECB52\"],\"font\":{\"color\":\"#2a3f5f\"},\"hovermode\":\"closest\",\"hoverlabel\":{\"align\":\"left\"},\"paper_bgcolor\":\"white\",\"plot_bgcolor\":\"#E5ECF6\",\"polar\":{\"bgcolor\":\"#E5ECF6\",\"angularaxis\":{\"gridcolor\":\"white\",\"linecolor\":\"white\",\"ticks\":\"\"},\"radialaxis\":{\"gridcolor\":\"white\",\"linecolor\":\"white\",\"ticks\":\"\"}},\"ternary\":{\"bgcolor\":\"#E5ECF6\",\"aaxis\":{\"gridcolor\":\"white\",\"linecolor\":\"white\",\"ticks\":\"\"},\"baxis\":{\"gridcolor\":\"white\",\"linecolor\":\"white\",\"ticks\":\"\"},\"caxis\":{\"gridcolor\":\"white\",\"linecolor\":\"white\",\"ticks\":\"\"}},\"coloraxis\":{\"colorbar\":{\"outlinewidth\":0,\"ticks\":\"\"}},\"colorscale\":{\"sequential\":[[0.0,\"#0d0887\"],[0.1111111111111111,\"#46039f\"],[0.2222222222222222,\"#7201a8\"],[0.3333333333333333,\"#9c179e\"],[0.4444444444444444,\"#bd3786\"],[0.5555555555555556,\"#d8576b\"],[0.6666666666666666,\"#ed7953\"],[0.7777777777777778,\"#fb9f3a\"],[0.8888888888888888,\"#fdca26\"],[1.0,\"#f0f921\"]],\"sequentialminus\":[[0.0,\"#0d0887\"],[0.1111111111111111,\"#46039f\"],[0.2222222222222222,\"#7201a8\"],[0.3333333333333333,\"#9c179e\"],[0.4444444444444444,\"#bd3786\"],[0.5555555555555556,\"#d8576b\"],[0.6666666666666666,\"#ed7953\"],[0.7777777777777778,\"#fb9f3a\"],[0.8888888888888888,\"#fdca26\"],[1.0,\"#f0f921\"]],\"diverging\":[[0,\"#8e0152\"],[0.1,\"#c51b7d\"],[0.2,\"#de77ae\"],[0.3,\"#f1b6da\"],[0.4,\"#fde0ef\"],[0.5,\"#f7f7f7\"],[0.6,\"#e6f5d0\"],[0.7,\"#b8e186\"],[0.8,\"#7fbc41\"],[0.9,\"#4d9221\"],[1,\"#276419\"]]},\"xaxis\":{\"gridcolor\":\"white\",\"linecolor\":\"white\",\"ticks\":\"\",\"title\":{\"standoff\":15},\"zerolinecolor\":\"white\",\"automargin\":true,\"zerolinewidth\":2},\"yaxis\":{\"gridcolor\":\"white\",\"linecolor\":\"white\",\"ticks\":\"\",\"title\":{\"standoff\":15},\"zerolinecolor\":\"white\",\"automargin\":true,\"zerolinewidth\":2},\"scene\":{\"xaxis\":{\"backgroundcolor\":\"#E5ECF6\",\"gridcolor\":\"white\",\"linecolor\":\"white\",\"showbackground\":true,\"ticks\":\"\",\"zerolinecolor\":\"white\",\"gridwidth\":2},\"yaxis\":{\"backgroundcolor\":\"#E5ECF6\",\"gridcolor\":\"white\",\"linecolor\":\"white\",\"showbackground\":true,\"ticks\":\"\",\"zerolinecolor\":\"white\",\"gridwidth\":2},\"zaxis\":{\"backgroundcolor\":\"#E5ECF6\",\"gridcolor\":\"white\",\"linecolor\":\"white\",\"showbackground\":true,\"ticks\":\"\",\"zerolinecolor\":\"white\",\"gridwidth\":2}},\"shapedefaults\":{\"line\":{\"color\":\"#2a3f5f\"}},\"annotationdefaults\":{\"arrowcolor\":\"#2a3f5f\",\"arrowhead\":0,\"arrowwidth\":1},\"geo\":{\"bgcolor\":\"white\",\"landcolor\":\"#E5ECF6\",\"subunitcolor\":\"white\",\"showland\":true,\"showlakes\":true,\"lakecolor\":\"white\"},\"title\":{\"x\":0.05},\"mapbox\":{\"style\":\"light\"}}}},                        {\"responsive\": true}                    ).then(function(){\n",
              "                            \n",
              "var gd = document.getElementById('9f570571-fa79-401f-ad15-d514472a3ad5');\n",
              "var x = new MutationObserver(function (mutations, observer) {{\n",
              "        var display = window.getComputedStyle(gd).display;\n",
              "        if (!display || display === 'none') {{\n",
              "            console.log([gd, 'removed!']);\n",
              "            Plotly.purge(gd);\n",
              "            observer.disconnect();\n",
              "        }}\n",
              "}});\n",
              "\n",
              "// Listen for the removal of the full notebook cells\n",
              "var notebookContainer = gd.closest('#notebook-container');\n",
              "if (notebookContainer) {{\n",
              "    x.observe(notebookContainer, {childList: true});\n",
              "}}\n",
              "\n",
              "// Listen for the clearing of the current output cell\n",
              "var outputEl = gd.closest('.output');\n",
              "if (outputEl) {{\n",
              "    x.observe(outputEl, {childList: true});\n",
              "}}\n",
              "\n",
              "                        })                };                            </script>        </div>\n",
              "</body>\n",
              "</html>"
            ]
          },
          "metadata": {}
        }
      ]
    }
  ]
}